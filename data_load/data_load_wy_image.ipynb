{
 "cells": [
  {
   "cell_type": "code",
   "execution_count": null,
   "id": "72d7d085-ec23-404e-8b6b-9db5e66c42b1",
   "metadata": {
    "tags": []
   },
   "outputs": [],
   "source": [
    "!pip install --upgrade numpy --target ./python\n",
    "!pip install --upgrade numexpr --target ./python\n",
    "!pip install datasets"
   ]
  },
  {
   "cell_type": "code",
   "execution_count": null,
   "id": "2a046e3c-54b9-47fc-8fef-372f8af5849d",
   "metadata": {
    "tags": []
   },
   "outputs": [],
   "source": [
    "from datasets import load_dataset\n",
    "SETTING = 'vision'\n",
    "dataset = load_dataset('MMMU/MMMU_Pro', SETTING, split='test')\n",
    "image = dataset[0]['image']\n",
    "display(image)"
   ]
  },
  {
   "cell_type": "code",
   "execution_count": 14,
   "id": "496265a5-3f7b-415e-a8cd-3183ec2574eb",
   "metadata": {
    "tags": []
   },
   "outputs": [],
   "source": [
    "import sys\n",
    "sys.path.append(r\"./python\")\n",
    "\n",
    "import os\n",
    "import json\n",
    "from model import *\n",
    "\n",
    "#根据时间情况修改index和language值\n",
    "index =  \"wy_demo_image\"\n",
    "embedding_endpoint_name = \"cohere.embed-multilingual-v3\"\n",
    "\n",
    "embedding_type = 'bedrock' if embedding_endpoint_name.find('titan') or embedding_endpoint_name.find('cohere') else 'sagemaker'\n",
    "embeddings = init_embeddings_bedrock(embedding_endpoint_name)"
   ]
  },
  {
   "cell_type": "code",
   "execution_count": null,
   "id": "d66d1e13-50b7-456a-9476-6a3a615bd13d",
   "metadata": {
    "tags": []
   },
   "outputs": [
    {
     "name": "stderr",
     "output_type": "stream",
     "text": [
      "  0%|          | 0/1730 [00:00<?, ?it/s]"
     ]
    },
    {
     "name": "stdout",
     "output_type": "stream",
     "text": [
      "sleep 60 sec\n",
      "(562, 1181)\n",
      "store image size: (480, 1008)\n",
      "for_llm len: 237992\n",
      "max_tokens: 2048\n",
      "modelId: anthropic.claude-3-5-sonnet-20240620-v1:0\n",
      "temperature: 0.01\n",
      "language: english\n",
      "response: neural pathways, senses, brain, visual processing, rods and cones, cerebral cortex, optic nerve, thalamus, dorsal and ventral pathways, neglect syndrome, visual agnosia, discrimination test, tracing test, auditory pathway\n",
      "for_display len: 176272\n",
      "texts len: 1\n",
      "metadatas len: 1\n",
      "embeddings len: 1\n",
      "begin to save in vectore store\n"
     ]
    },
    {
     "name": "stderr",
     "output_type": "stream",
     "text": [
      "  1%|▏         | 22/1730 [01:03<1:22:41,  2.90s/it]"
     ]
    },
    {
     "name": "stdout",
     "output_type": "stream",
     "text": [
      "finish save in vectore store: wy_demo_image_2\n",
      "sleep 60 sec\n",
      "(1119, 1055)\n",
      "resize image size: (800, 754)\n",
      "store image size: (480, 452)\n",
      "for_llm len: 48952\n",
      "max_tokens: 2048\n",
      "modelId: anthropic.claude-3-5-sonnet-20240620-v1:0\n",
      "temperature: 0.01\n",
      "language: english\n",
      "response: abdominal x-ray, radiograph, abnormal organ, medical imaging, multiple choice question, anatomy, digestive system, skeletal structure\n",
      "for_display len: 21928\n",
      "texts len: 1\n",
      "metadatas len: 1\n",
      "embeddings len: 1\n",
      "begin to save in vectore store\n"
     ]
    },
    {
     "name": "stderr",
     "output_type": "stream",
     "text": [
      "  1%|▏         | 23/1730 [02:06<3:05:20,  6.51s/it]"
     ]
    },
    {
     "name": "stdout",
     "output_type": "stream",
     "text": [
      "finish save in vectore store: wy_demo_image_2\n",
      "sleep 60 sec\n",
      "(1113, 1020)\n",
      "resize image size: (800, 733)\n",
      "store image size: (480, 439)\n",
      "for_llm len: 87880\n",
      "max_tokens: 2048\n",
      "modelId: anthropic.claude-3-5-sonnet-20240620-v1:0\n",
      "temperature: 0.01\n",
      "language: english\n",
      "response: cottage, railroad tracks, fog, rural, stone wall, question, multiple choice, literary terms, stories about ruling class\n",
      "for_display len: 37524\n",
      "texts len: 1\n",
      "metadatas len: 1\n",
      "embeddings len: 1\n",
      "begin to save in vectore store\n"
     ]
    },
    {
     "name": "stderr",
     "output_type": "stream",
     "text": [
      "  1%|▏         | 24/1730 [03:08<5:11:49, 10.97s/it]"
     ]
    },
    {
     "name": "stdout",
     "output_type": "stream",
     "text": [
      "finish save in vectore store: wy_demo_image_2\n",
      "sleep 60 sec\n",
      "(1118, 1165)\n",
      "resize image size: (800, 833)\n",
      "store image size: (480, 500)\n",
      "for_llm len: 72888\n",
      "max_tokens: 2048\n",
      "modelId: anthropic.claude-3-5-sonnet-20240620-v1:0\n",
      "temperature: 0.01\n",
      "language: english\n",
      "response: Jane Avril poster, Art Nouveau, Toulouse-Lautrec style, cabaret dancer, red hair, black dress, 1899\n",
      "for_display len: 34544\n",
      "texts len: 1\n",
      "metadatas len: 1\n",
      "embeddings len: 1\n",
      "begin to save in vectore store\n"
     ]
    },
    {
     "name": "stderr",
     "output_type": "stream",
     "text": [
      "  1%|▏         | 25/1730 [04:10<7:41:27, 16.24s/it]"
     ]
    },
    {
     "name": "stdout",
     "output_type": "stream",
     "text": [
      "finish save in vectore store: wy_demo_image_2\n",
      "sleep 60 sec\n",
      "(836, 981)\n",
      "resize image size: (800, 938)\n",
      "store image size: (480, 563)\n",
      "for_llm len: 145372\n",
      "max_tokens: 2048\n",
      "modelId: anthropic.claude-3-5-sonnet-20240620-v1:0\n",
      "temperature: 0.01\n",
      "language: english\n",
      "response: phylogenetic trees, species relationships, evolutionary diagrams, cladograms, branching patterns, comparative phylogenies, multiple tree diagrams\n",
      "for_display len: 59872\n",
      "texts len: 1\n",
      "metadatas len: 1\n",
      "embeddings len: 1\n",
      "begin to save in vectore store\n"
     ]
    },
    {
     "name": "stderr",
     "output_type": "stream",
     "text": [
      "  2%|▏         | 26/1730 [05:12<10:28:39, 22.14s/it]"
     ]
    },
    {
     "name": "stdout",
     "output_type": "stream",
     "text": [
      "finish save in vectore store: wy_demo_image_2\n",
      "sleep 60 sec\n",
      "(838, 997)\n",
      "resize image size: (800, 951)\n",
      "store image size: (480, 571)\n",
      "for_llm len: 204496\n",
      "max_tokens: 2048\n",
      "modelId: anthropic.claude-3-5-sonnet-20240620-v1:0\n",
      "temperature: 0.01\n",
      "language: english\n",
      "response: E.A.S.Y. Manufacturing, election results, demographic trends, legislative lobbying, Asian-American voters, minority groups, voter statistics, campaign strategy\n",
      "for_display len: 96104\n",
      "texts len: 1\n",
      "metadatas len: 1\n",
      "embeddings len: 1\n",
      "begin to save in vectore store\n"
     ]
    },
    {
     "name": "stderr",
     "output_type": "stream",
     "text": [
      "  2%|▏         | 27/1730 [06:15<13:25:30, 28.38s/it]"
     ]
    },
    {
     "name": "stdout",
     "output_type": "stream",
     "text": [
      "finish save in vectore store: wy_demo_image_2\n",
      "sleep 60 sec\n",
      "(834, 845)\n",
      "resize image size: (800, 810)\n",
      "store image size: (480, 486)\n",
      "for_llm len: 113404\n",
      "max_tokens: 2048\n",
      "modelId: anthropic.claude-3-5-sonnet-20240620-v1:0\n",
      "temperature: 0.01\n",
      "language: english\n",
      "response: economics, consumption, interest rate, intertemporal choice, indifference curves, budget constraint, Crusoe, endowment, utility\n",
      "for_display len: 50728\n",
      "texts len: 1\n",
      "metadatas len: 1\n",
      "embeddings len: 1\n",
      "begin to save in vectore store\n"
     ]
    },
    {
     "name": "stderr",
     "output_type": "stream",
     "text": [
      "  2%|▏         | 28/1730 [07:17<16:17:29, 34.46s/it]"
     ]
    },
    {
     "name": "stdout",
     "output_type": "stream",
     "text": [
      "finish save in vectore store: wy_demo_image_2\n",
      "sleep 60 sec\n",
      "(831, 575)\n",
      "resize image size: (800, 553)\n",
      "store image size: (480, 332)\n",
      "for_llm len: 83984\n",
      "max_tokens: 2048\n",
      "modelId: anthropic.claude-3-5-sonnet-20240620-v1:0\n",
      "temperature: 0.01\n",
      "language: english\n",
      "response: West African trade routes, historical map, trans-Saharan trade, maritime routes, Africa, Asia, Indian Ocean, Atlantic Ocean, gold trade, ivory trade, slave trade\n",
      "for_display len: 35112\n",
      "texts len: 1\n",
      "metadatas len: 1\n",
      "embeddings len: 1\n",
      "begin to save in vectore store\n"
     ]
    },
    {
     "name": "stderr",
     "output_type": "stream",
     "text": [
      "  2%|▏         | 29/1730 [08:19<18:59:04, 40.18s/it]"
     ]
    },
    {
     "name": "stdout",
     "output_type": "stream",
     "text": [
      "finish save in vectore store: wy_demo_image_2\n",
      "sleep 60 sec\n",
      "(833, 568)\n",
      "resize image size: (800, 545)\n",
      "store image size: (480, 327)\n",
      "for_llm len: 51260\n",
      "max_tokens: 2048\n",
      "modelId: anthropic.claude-3-5-sonnet-20240620-v1:0\n",
      "temperature: 0.01\n",
      "language: english\n",
      "response: electrical circuits, capacitors, resistors, voltage sources, steady-state analysis, multiple choice question, circuit diagrams, i(0) determination\n",
      "for_display len: 24812\n",
      "texts len: 1\n",
      "metadatas len: 1\n",
      "embeddings len: 1\n",
      "begin to save in vectore store\n"
     ]
    },
    {
     "name": "stderr",
     "output_type": "stream",
     "text": [
      "  2%|▏         | 30/1730 [09:21<21:18:35, 45.13s/it]"
     ]
    },
    {
     "name": "stdout",
     "output_type": "stream",
     "text": [
      "finish save in vectore store: wy_demo_image_2\n",
      "sleep 60 sec\n",
      "(1280, 1083)\n",
      "resize image size: (800, 676)\n",
      "store image size: (480, 406)\n",
      "for_llm len: 86336\n",
      "max_tokens: 2048\n",
      "modelId: anthropic.claude-3-5-sonnet-20240620-v1:0\n",
      "temperature: 0.01\n",
      "language: english\n",
      "response: angular velocity, disk, yoke, z-axis, x-axis, angular acceleration, vector changes, mechanical assembly, physics problem, multiple choice question\n",
      "for_display len: 37904\n",
      "texts len: 1\n",
      "metadatas len: 1\n",
      "embeddings len: 1\n",
      "begin to save in vectore store\n"
     ]
    },
    {
     "name": "stderr",
     "output_type": "stream",
     "text": [
      "  2%|▏         | 31/1730 [10:24<23:18:48, 49.40s/it]"
     ]
    },
    {
     "name": "stdout",
     "output_type": "stream",
     "text": [
      "finish save in vectore store: wy_demo_image_2\n",
      "sleep 60 sec\n",
      "(830, 952)\n",
      "resize image size: (800, 917)\n",
      "store image size: (480, 550)\n",
      "for_llm len: 98104\n",
      "max_tokens: 2048\n",
      "modelId: anthropic.claude-3-5-sonnet-20240620-v1:0\n",
      "temperature: 0.01\n",
      "language: english\n",
      "response: clover leaves, yellow spots, discoloration, plant disease, nutrient deficiency, perforated background\n",
      "for_display len: 47220\n",
      "texts len: 1\n",
      "metadatas len: 1\n",
      "embeddings len: 1\n",
      "begin to save in vectore store\n"
     ]
    },
    {
     "name": "stderr",
     "output_type": "stream",
     "text": [
      "  2%|▏         | 32/1730 [11:26<24:50:53, 52.68s/it]"
     ]
    },
    {
     "name": "stdout",
     "output_type": "stream",
     "text": [
      "finish save in vectore store: wy_demo_image_2\n",
      "sleep 60 sec\n",
      "(835, 752)\n",
      "resize image size: (800, 720)\n",
      "store image size: (480, 432)\n",
      "for_llm len: 51880\n",
      "max_tokens: 2048\n",
      "modelId: anthropic.claude-3-5-sonnet-20240620-v1:0\n",
      "temperature: 0.01\n",
      "language: english\n",
      "response: brain, hemorrhage, intracranial, medical image, anatomy, options, multiple choice\n",
      "for_display len: 23988\n",
      "texts len: 1\n",
      "metadatas len: 1\n",
      "embeddings len: 1\n",
      "begin to save in vectore store\n"
     ]
    },
    {
     "name": "stderr",
     "output_type": "stream",
     "text": [
      "  2%|▏         | 33/1730 [12:27<25:59:16, 55.13s/it]"
     ]
    },
    {
     "name": "stdout",
     "output_type": "stream",
     "text": [
      "finish save in vectore store: wy_demo_image_2\n",
      "sleep 60 sec\n",
      "(830, 558)\n",
      "resize image size: (800, 537)\n",
      "store image size: (480, 322)\n",
      "for_llm len: 49604\n",
      "max_tokens: 2048\n",
      "modelId: anthropic.claude-3-5-sonnet-20240620-v1:0\n",
      "temperature: 0.01\n",
      "language: english\n",
      "response: GDP breakdown table, China, exports, imports, economic data, multiple choice question\n",
      "for_display len: 22144\n",
      "texts len: 1\n",
      "metadatas len: 1\n",
      "embeddings len: 1\n",
      "begin to save in vectore store\n"
     ]
    },
    {
     "name": "stderr",
     "output_type": "stream",
     "text": [
      "  2%|▏         | 34/1730 [13:29<26:48:58, 56.92s/it]"
     ]
    },
    {
     "name": "stdout",
     "output_type": "stream",
     "text": [
      "finish save in vectore store: wy_demo_image_2\n",
      "sleep 60 sec\n",
      "(1103, 600)\n",
      "resize image size: (800, 435)\n",
      "store image size: (480, 261)\n",
      "for_llm len: 44448\n",
      "max_tokens: 2048\n",
      "modelId: anthropic.claude-3-5-sonnet-20240620-v1:0\n",
      "temperature: 0.01\n",
      "language: english\n",
      "response: beam, thermal expansion, stress, engineering problem, modulus of elasticity, temperature change, supports, diagram, multiple choice question\n",
      "for_display len: 20480\n",
      "texts len: 1\n",
      "metadatas len: 1\n",
      "embeddings len: 1\n",
      "begin to save in vectore store\n"
     ]
    },
    {
     "name": "stderr",
     "output_type": "stream",
     "text": [
      "  2%|▏         | 35/1730 [14:31<27:27:45, 58.33s/it]"
     ]
    },
    {
     "name": "stdout",
     "output_type": "stream",
     "text": [
      "finish save in vectore store: wy_demo_image_2\n",
      "sleep 60 sec\n",
      "(960, 1280)\n",
      "resize image size: (800, 1066)\n",
      "store image size: (480, 640)\n",
      "for_llm len: 189436\n",
      "max_tokens: 2048\n",
      "modelId: anthropic.claude-3-5-sonnet-20240620-v1:0\n",
      "temperature: 0.01\n",
      "language: english\n",
      "response: economics question, pizza market, demand and supply schedules, equilibrium quantity, price table, multiple choice options\n",
      "for_display len: 67860\n",
      "texts len: 1\n",
      "metadatas len: 1\n",
      "embeddings len: 1\n",
      "begin to save in vectore store\n"
     ]
    },
    {
     "name": "stderr",
     "output_type": "stream",
     "text": [
      "  2%|▏         | 36/1730 [15:33<28:00:51, 59.53s/it]"
     ]
    },
    {
     "name": "stdout",
     "output_type": "stream",
     "text": [
      "finish save in vectore store: wy_demo_image_2\n",
      "sleep 60 sec\n",
      "(1112, 673)\n",
      "resize image size: (800, 484)\n",
      "store image size: (480, 290)\n",
      "for_llm len: 49292\n",
      "max_tokens: 2048\n",
      "modelId: anthropic.claude-3-5-sonnet-20240620-v1:0\n",
      "temperature: 0.01\n",
      "language: english\n",
      "response: brain anatomy, MRI scan, septum pellucidum, medical question, multiple choice\n",
      "for_display len: 22776\n",
      "texts len: 1\n",
      "metadatas len: 1\n",
      "embeddings len: 1\n",
      "begin to save in vectore store\n"
     ]
    },
    {
     "name": "stderr",
     "output_type": "stream",
     "text": [
      "  2%|▏         | 37/1730 [16:35<28:18:20, 60.19s/it]"
     ]
    },
    {
     "name": "stdout",
     "output_type": "stream",
     "text": [
      "finish save in vectore store: wy_demo_image_2\n",
      "sleep 60 sec\n",
      "(1109, 705)\n",
      "resize image size: (800, 508)\n",
      "store image size: (480, 305)\n",
      "for_llm len: 47024\n",
      "max_tokens: 2048\n",
      "modelId: anthropic.claude-3-5-sonnet-20240620-v1:0\n",
      "temperature: 0.01\n",
      "language: english\n",
      "response: banking sector statistics, Canada, M1 calculation, currency in circulation, deposits, money market funds, table data, multiple choice options\n",
      "for_display len: 21052\n",
      "texts len: 1\n",
      "metadatas len: 1\n",
      "embeddings len: 1\n",
      "begin to save in vectore store\n"
     ]
    },
    {
     "name": "stderr",
     "output_type": "stream",
     "text": [
      "  2%|▏         | 38/1730 [17:37<28:33:18, 60.76s/it]"
     ]
    },
    {
     "name": "stdout",
     "output_type": "stream",
     "text": [
      "finish save in vectore store: wy_demo_image_2\n",
      "sleep 60 sec\n",
      "(1117, 907)\n",
      "resize image size: (800, 649)\n",
      "store image size: (480, 389)\n",
      "for_llm len: 159364\n",
      "max_tokens: 2048\n",
      "modelId: anthropic.claude-3-5-sonnet-20240620-v1:0\n",
      "temperature: 0.01\n",
      "language: english\n",
      "response: Tang China, Viking England, coin cache, comparative statements, trade networks, economy, coinage, social hierarchies, education system, wealth, religion, societal structure\n",
      "for_display len: 62460\n",
      "texts len: 1\n",
      "metadatas len: 1\n",
      "embeddings len: 1\n",
      "begin to save in vectore store\n"
     ]
    },
    {
     "name": "stderr",
     "output_type": "stream",
     "text": [
      "  2%|▏         | 39/1730 [18:40<28:45:40, 61.23s/it]"
     ]
    },
    {
     "name": "stdout",
     "output_type": "stream",
     "text": [
      "finish save in vectore store: wy_demo_image_2\n",
      "sleep 60 sec\n",
      "(1631, 863)\n",
      "resize image size: (800, 423)\n",
      "store image size: (480, 253)\n",
      "for_llm len: 41796\n",
      "max_tokens: 2048\n",
      "modelId: anthropic.claude-3-5-sonnet-20240620-v1:0\n",
      "temperature: 0.01\n",
      "language: english\n",
      "response: project evaluation, expected return, range, standard deviation, investment options, risk assessment, financial analysis\n",
      "for_display len: 17132\n",
      "texts len: 1\n",
      "metadatas len: 1\n",
      "embeddings len: 1\n",
      "begin to save in vectore store\n"
     ]
    },
    {
     "name": "stderr",
     "output_type": "stream",
     "text": [
      "  2%|▏         | 40/1730 [19:42<28:50:43, 61.45s/it]"
     ]
    },
    {
     "name": "stdout",
     "output_type": "stream",
     "text": [
      "finish save in vectore store: wy_demo_image_2\n",
      "sleep 60 sec\n",
      "(1280, 960)\n",
      "resize image size: (800, 600)\n",
      "store image size: (480, 360)\n",
      "for_llm len: 97220\n",
      "max_tokens: 2048\n",
      "modelId: anthropic.claude-3-5-sonnet-20240620-v1:0\n",
      "temperature: 0.01\n",
      "language: english\n",
      "response: network flow diagram, maximum flow problem, directed graph, capacities, source node, sink node, optimization question, multiple choice options\n",
      "for_display len: 28668\n",
      "texts len: 1\n",
      "metadatas len: 1\n",
      "embeddings len: 1\n",
      "begin to save in vectore store\n"
     ]
    },
    {
     "name": "stderr",
     "output_type": "stream",
     "text": [
      "  2%|▏         | 41/1730 [20:44<28:56:03, 61.67s/it]"
     ]
    },
    {
     "name": "stdout",
     "output_type": "stream",
     "text": [
      "finish save in vectore store: wy_demo_image_2\n",
      "sleep 60 sec\n",
      "(1418, 837)\n",
      "resize image size: (800, 472)\n",
      "store image size: (480, 283)\n",
      "for_llm len: 48080\n",
      "max_tokens: 2048\n",
      "modelId: anthropic.claude-3-5-sonnet-20240620-v1:0\n",
      "temperature: 0.01\n",
      "language: english\n",
      "response: Fourier transform, waveforms, triangular wave, sine wave, homework question, multiple choice options\n",
      "for_display len: 20920\n",
      "texts len: 1\n",
      "metadatas len: 1\n",
      "embeddings len: 1\n",
      "begin to save in vectore store\n"
     ]
    },
    {
     "name": "stderr",
     "output_type": "stream",
     "text": [
      "  2%|▏         | 42/1730 [21:46<28:55:28, 61.69s/it]"
     ]
    },
    {
     "name": "stdout",
     "output_type": "stream",
     "text": [
      "finish save in vectore store: wy_demo_image_2\n",
      "sleep 60 sec\n",
      "(1191, 725)\n",
      "resize image size: (800, 486)\n",
      "store image size: (480, 292)\n",
      "for_llm len: 56268\n",
      "max_tokens: 2048\n",
      "modelId: anthropic.claude-3-5-sonnet-20240620-v1:0\n",
      "temperature: 0.01\n",
      "language: english\n",
      "response: database schema, employee, department, project, dependent, options, delete departments, database design\n",
      "for_display len: 24940\n",
      "texts len: 1\n",
      "metadatas len: 1\n",
      "embeddings len: 1\n",
      "begin to save in vectore store\n"
     ]
    },
    {
     "name": "stderr",
     "output_type": "stream",
     "text": [
      "  2%|▏         | 43/1730 [22:48<28:57:37, 61.80s/it]"
     ]
    },
    {
     "name": "stdout",
     "output_type": "stream",
     "text": [
      "finish save in vectore store: wy_demo_image_2\n",
      "sleep 60 sec\n",
      "(1140, 1189)\n",
      "resize image size: (800, 834)\n",
      "store image size: (480, 500)\n",
      "for_llm len: 83972\n",
      "max_tokens: 2048\n",
      "modelId: anthropic.claude-3-5-sonnet-20240620-v1:0\n",
      "temperature: 0.01\n",
      "language: english\n",
      "response: labor-leisure choice, indifference curves, income-leisure tradeoff, work hours, low income, economic decision making\n",
      "for_display len: 38300\n",
      "texts len: 1\n",
      "metadatas len: 1\n",
      "embeddings len: 1\n",
      "begin to save in vectore store\n"
     ]
    },
    {
     "name": "stderr",
     "output_type": "stream",
     "text": [
      "  3%|▎         | 44/1730 [23:50<28:58:54, 61.88s/it]"
     ]
    },
    {
     "name": "stdout",
     "output_type": "stream",
     "text": [
      "finish save in vectore store: wy_demo_image_2\n",
      "sleep 60 sec\n",
      "(860, 992)\n",
      "resize image size: (800, 922)\n",
      "store image size: (480, 553)\n",
      "for_llm len: 55100\n",
      "max_tokens: 2048\n",
      "modelId: anthropic.claude-3-5-sonnet-20240620-v1:0\n",
      "temperature: 0.01\n",
      "language: english\n",
      "response: X-ray, knee joint, osteoarthritis, joint space narrowing, bone spurs\n",
      "for_display len: 26084\n",
      "texts len: 1\n",
      "metadatas len: 1\n",
      "embeddings len: 1\n",
      "begin to save in vectore store\n"
     ]
    },
    {
     "name": "stderr",
     "output_type": "stream",
     "text": [
      "  3%|▎         | 45/1730 [24:58<29:49:57, 63.74s/it]"
     ]
    },
    {
     "name": "stdout",
     "output_type": "stream",
     "text": [
      "finish save in vectore store: wy_demo_image_2\n",
      "sleep 60 sec\n",
      "(848, 765)\n",
      "resize image size: (800, 721)\n",
      "store image size: (480, 433)\n",
      "for_llm len: 84732\n",
      "max_tokens: 2048\n",
      "modelId: anthropic.claude-3-5-sonnet-20240620-v1:0\n",
      "temperature: 0.01\n",
      "language: english\n",
      "response: ECG, highlighted section, QT interval, ventricular depolarization, repolarization, cardiac waveform, multiple choice question\n",
      "for_display len: 37736\n",
      "texts len: 1\n",
      "metadatas len: 1\n",
      "embeddings len: 1\n",
      "begin to save in vectore store\n"
     ]
    },
    {
     "name": "stderr",
     "output_type": "stream",
     "text": [
      "  3%|▎         | 46/1730 [26:00<29:34:46, 63.23s/it]"
     ]
    },
    {
     "name": "stdout",
     "output_type": "stream",
     "text": [
      "finish save in vectore store: wy_demo_image_2\n",
      "sleep 60 sec\n",
      "(938, 813)\n",
      "resize image size: (800, 693)\n",
      "store image size: (480, 416)\n",
      "for_llm len: 73964\n",
      "max_tokens: 2048\n",
      "modelId: anthropic.claude-3-5-sonnet-20240620-v1:0\n",
      "temperature: 0.01\n",
      "language: english\n",
      "response: Ancient Roman fresco\n",
      "Portrait\n",
      "Two figures\n",
      "Man and woman\n",
      "Stylus and wax tablet\n",
      "Classical art\n",
      "Pompeii painting\n",
      "for_display len: 29708\n",
      "texts len: 1\n",
      "metadatas len: 1\n",
      "embeddings len: 1\n",
      "begin to save in vectore store\n"
     ]
    },
    {
     "name": "stderr",
     "output_type": "stream",
     "text": [
      "  3%|▎         | 47/1730 [27:02<29:25:38, 62.95s/it]"
     ]
    },
    {
     "name": "stdout",
     "output_type": "stream",
     "text": [
      "finish save in vectore store: wy_demo_image_2\n",
      "sleep 60 sec\n",
      "(960, 1280)\n",
      "resize image size: (800, 1066)\n",
      "store image size: (480, 640)\n",
      "for_llm len: 152444\n",
      "max_tokens: 2048\n",
      "modelId: anthropic.claude-3-5-sonnet-20240620-v1:0\n",
      "temperature: 0.01\n",
      "language: english\n",
      "response: Laplace transform, time functions, graph, triangular pulse, multiple choice, mathematical equations\n",
      "for_display len: 53484\n",
      "texts len: 1\n",
      "metadatas len: 1\n",
      "embeddings len: 1\n",
      "begin to save in vectore store\n"
     ]
    },
    {
     "name": "stderr",
     "output_type": "stream",
     "text": [
      "  3%|▎         | 48/1730 [28:05<29:20:42, 62.81s/it]"
     ]
    },
    {
     "name": "stdout",
     "output_type": "stream",
     "text": [
      "finish save in vectore store: wy_demo_image_2\n",
      "sleep 60 sec\n",
      "(879, 566)\n",
      "resize image size: (800, 515)\n",
      "store image size: (480, 309)\n",
      "for_llm len: 46740\n",
      "max_tokens: 2048\n",
      "modelId: anthropic.claude-3-5-sonnet-20240620-v1:0\n",
      "temperature: 0.01\n",
      "language: english\n",
      "response: light refraction, beam path, different media, speed comparison, physics diagram, multiple choice question\n",
      "for_display len: 21548\n",
      "texts len: 1\n",
      "metadatas len: 1\n",
      "embeddings len: 1\n",
      "begin to save in vectore store\n"
     ]
    },
    {
     "name": "stderr",
     "output_type": "stream",
     "text": [
      "  3%|▎         | 49/1730 [29:07<29:20:40, 62.84s/it]"
     ]
    },
    {
     "name": "stdout",
     "output_type": "stream",
     "text": [
      "finish save in vectore store: wy_demo_image_2\n",
      "sleep 60 sec\n",
      "(878, 552)\n",
      "resize image size: (800, 502)\n",
      "store image size: (480, 301)\n",
      "for_llm len: 46376\n",
      "max_tokens: 2048\n",
      "modelId: anthropic.claude-3-5-sonnet-20240620-v1:0\n",
      "temperature: 0.01\n",
      "language: english\n",
      "response: economics, production, workers, marginal product, marginal revenue, labor, table, multiple choice question\n",
      "for_display len: 19472\n",
      "texts len: 1\n",
      "metadatas len: 1\n",
      "embeddings len: 1\n",
      "begin to save in vectore store\n"
     ]
    },
    {
     "name": "stderr",
     "output_type": "stream",
     "text": [
      "  3%|▎         | 50/1730 [30:09<29:09:35, 62.49s/it]"
     ]
    },
    {
     "name": "stdout",
     "output_type": "stream",
     "text": [
      "finish save in vectore store: wy_demo_image_2\n",
      "sleep 60 sec\n",
      "(862, 765)\n",
      "resize image size: (800, 709)\n",
      "store image size: (480, 425)\n",
      "for_llm len: 42820\n",
      "max_tokens: 2048\n",
      "modelId: anthropic.claude-3-5-sonnet-20240620-v1:0\n",
      "temperature: 0.01\n",
      "language: english\n",
      "response: Cayley diagram, graph, nodes, edges, arrows, rectangle shape, blue arrows, red lines, multiple choice question\n",
      "for_display len: 20744\n",
      "texts len: 1\n",
      "metadatas len: 1\n",
      "embeddings len: 1\n",
      "begin to save in vectore store\n"
     ]
    },
    {
     "name": "stderr",
     "output_type": "stream",
     "text": [
      "  3%|▎         | 51/1730 [31:12<29:09:11, 62.51s/it]"
     ]
    },
    {
     "name": "stdout",
     "output_type": "stream",
     "text": [
      "finish save in vectore store: wy_demo_image_2\n",
      "sleep 60 sec\n",
      "(1430, 2252)\n",
      "resize image size: (800, 1259)\n",
      "store image size: (480, 755)\n",
      "for_llm len: 172384\n",
      "max_tokens: 2048\n",
      "modelId: anthropic.claude-3-5-sonnet-20240620-v1:0\n",
      "temperature: 0.01\n",
      "language: english\n",
      "response: heart disease study, factory workers, physical activity questionnaire, 1985-2000, incidence measurement, regular exercise, irregular exercise, observer person years, number of heart attacks, standardized incidence rate, case fatality rate, cohort study, mortality rate, cumulative incidence, incidence density, odds ratio, SMR, relative risk, prevalence rate\n",
      "for_display len: 79796\n",
      "texts len: 1\n",
      "metadatas len: 1\n",
      "embeddings len: 1\n",
      "begin to save in vectore store\n"
     ]
    },
    {
     "name": "stderr",
     "output_type": "stream",
     "text": [
      "  3%|▎         | 52/1730 [32:15<29:17:28, 62.84s/it]"
     ]
    },
    {
     "name": "stdout",
     "output_type": "stream",
     "text": [
      "finish save in vectore store: wy_demo_image_2\n",
      "sleep 60 sec\n",
      "(878, 530)\n",
      "resize image size: (800, 482)\n",
      "store image size: (480, 289)\n",
      "for_llm len: 37844\n",
      "max_tokens: 2048\n",
      "modelId: anthropic.claude-3-5-sonnet-20240620-v1:0\n",
      "temperature: 0.01\n",
      "language: english\n",
      "response: geometric shapes, colorful, labeled, black background, triangle, square, rhombus, diamond, rectangle, trapezium, hexagon, pentagon\n",
      "for_display len: 17784\n",
      "texts len: 1\n",
      "metadatas len: 1\n",
      "embeddings len: 1\n",
      "begin to save in vectore store\n"
     ]
    },
    {
     "name": "stderr",
     "output_type": "stream",
     "text": [
      "  3%|▎         | 53/1730 [33:17<29:10:47, 62.64s/it]"
     ]
    },
    {
     "name": "stdout",
     "output_type": "stream",
     "text": [
      "finish save in vectore store: wy_demo_image_2\n",
      "sleep 60 sec\n",
      "(873, 796)\n",
      "resize image size: (800, 729)\n",
      "store image size: (480, 437)\n",
      "for_llm len: 85868\n",
      "max_tokens: 2048\n",
      "modelId: anthropic.claude-3-5-sonnet-20240620-v1:0\n",
      "temperature: 0.01\n",
      "language: english\n",
      "response: tuberoinfundibular tract, histology, hypothalamus, pituitary gland, neuroscience, multiple choice question\n",
      "for_display len: 40292\n",
      "texts len: 1\n",
      "metadatas len: 1\n",
      "embeddings len: 1\n",
      "begin to save in vectore store\n"
     ]
    },
    {
     "name": "stderr",
     "output_type": "stream",
     "text": [
      "  3%|▎         | 54/1730 [34:20<29:05:58, 62.51s/it]"
     ]
    },
    {
     "name": "stdout",
     "output_type": "stream",
     "text": [
      "finish save in vectore store: wy_demo_image_2\n",
      "sleep 60 sec\n",
      "(865, 671)\n",
      "resize image size: (800, 620)\n",
      "store image size: (480, 372)\n",
      "for_llm len: 40840\n",
      "max_tokens: 2048\n",
      "modelId: anthropic.claude-3-5-sonnet-20240620-v1:0\n",
      "temperature: 0.01\n",
      "language: english\n",
      "response: truss analysis, structural engineering, bridge design, force calculation, continuous beam, multiple spans, distributed load, support reactions\n",
      "for_display len: 19220\n",
      "texts len: 1\n",
      "metadatas len: 1\n",
      "embeddings len: 1\n",
      "begin to save in vectore store\n"
     ]
    },
    {
     "name": "stderr",
     "output_type": "stream",
     "text": [
      "  3%|▎         | 55/1730 [35:22<29:01:58, 62.40s/it]"
     ]
    },
    {
     "name": "stdout",
     "output_type": "stream",
     "text": [
      "finish save in vectore store: wy_demo_image_2\n",
      "sleep 60 sec\n",
      "(872, 1143)\n",
      "resize image size: (800, 1048)\n",
      "store image size: (480, 629)\n",
      "for_llm len: 244392\n",
      "max_tokens: 2048\n",
      "modelId: anthropic.claude-3-5-sonnet-20240620-v1:0\n",
      "temperature: 0.01\n",
      "language: english\n",
      "response: ATP production, phosphorylation mechanisms, ADP to ATP, electron transport chain, cytochrome c, phosphoenolpyruvic acid, pyruvic acid, substrate-level phosphorylation, oxidative phosphorylation, photophosphorylation\n",
      "for_display len: 98176\n",
      "texts len: 1\n",
      "metadatas len: 1\n",
      "embeddings len: 1\n",
      "begin to save in vectore store\n"
     ]
    },
    {
     "name": "stderr",
     "output_type": "stream",
     "text": [
      "  3%|▎         | 56/1730 [36:25<29:03:14, 62.48s/it]"
     ]
    },
    {
     "name": "stdout",
     "output_type": "stream",
     "text": [
      "finish save in vectore store: wy_demo_image_2\n",
      "sleep 60 sec\n",
      "(907, 764)\n",
      "resize image size: (800, 673)\n",
      "store image size: (480, 404)\n",
      "for_llm len: 85248\n",
      "max_tokens: 2048\n",
      "modelId: anthropic.claude-3-5-sonnet-20240620-v1:0\n",
      "temperature: 0.01\n",
      "language: english\n",
      "response: racial ethnic disparities, mental health treatment, United States, socioeconomic status, addiction, graph, racial groups, healthcare access, sociological theories\n",
      "for_display len: 37792\n",
      "texts len: 1\n",
      "metadatas len: 1\n",
      "embeddings len: 1\n",
      "begin to save in vectore store\n"
     ]
    },
    {
     "name": "stderr",
     "output_type": "stream",
     "text": [
      "  3%|▎         | 57/1730 [37:27<28:59:48, 62.40s/it]"
     ]
    },
    {
     "name": "stdout",
     "output_type": "stream",
     "text": [
      "finish save in vectore store: wy_demo_image_2\n",
      "sleep 60 sec\n",
      "(883, 535)\n",
      "resize image size: (800, 484)\n",
      "store image size: (480, 290)\n",
      "for_llm len: 48688\n",
      "max_tokens: 2048\n",
      "modelId: anthropic.claude-3-5-sonnet-20240620-v1:0\n",
      "temperature: 0.01\n",
      "language: english\n",
      "response: NFA diagram, optimization, epsilon transitions, state machine, automata theory, computer science question\n",
      "for_display len: 23420\n",
      "texts len: 1\n",
      "metadatas len: 1\n",
      "embeddings len: 1\n",
      "begin to save in vectore store\n"
     ]
    },
    {
     "name": "stderr",
     "output_type": "stream",
     "text": [
      "  3%|▎         | 58/1730 [38:29<28:54:47, 62.25s/it]"
     ]
    },
    {
     "name": "stdout",
     "output_type": "stream",
     "text": [
      "finish save in vectore store: wy_demo_image_2\n",
      "sleep 60 sec\n",
      "(951, 807)\n",
      "resize image size: (800, 678)\n",
      "store image size: (480, 407)\n",
      "for_llm len: 68476\n",
      "max_tokens: 2048\n",
      "modelId: anthropic.claude-3-5-sonnet-20240620-v1:0\n",
      "temperature: 0.01\n",
      "language: english\n",
      "response: film processing, photographic defects, developer splashes, scratches, dust particles, rinse splashes, fixer splashes, overexposure, light leaks, air bubbles, multiple choice question\n",
      "for_display len: 30948\n",
      "texts len: 1\n",
      "metadatas len: 1\n",
      "embeddings len: 1\n",
      "begin to save in vectore store\n"
     ]
    },
    {
     "name": "stderr",
     "output_type": "stream",
     "text": [
      "  3%|▎         | 59/1730 [39:31<28:54:55, 62.30s/it]"
     ]
    },
    {
     "name": "stdout",
     "output_type": "stream",
     "text": [
      "finish save in vectore store: wy_demo_image_2\n",
      "sleep 60 sec\n",
      "(1280, 960)\n",
      "resize image size: (800, 600)\n",
      "store image size: (480, 360)\n",
      "for_llm len: 77180\n",
      "max_tokens: 2048\n",
      "modelId: anthropic.claude-3-5-sonnet-20240620-v1:0\n",
      "temperature: 0.01\n",
      "language: english\n",
      "response: auditory system, binaural input, neuron, anatomy, multiple choice question, ear diagram\n",
      "for_display len: 29312\n",
      "texts len: 1\n",
      "metadatas len: 1\n",
      "embeddings len: 1\n",
      "begin to save in vectore store\n"
     ]
    },
    {
     "name": "stderr",
     "output_type": "stream",
     "text": [
      "  3%|▎         | 60/1730 [40:33<28:53:51, 62.29s/it]"
     ]
    },
    {
     "name": "stdout",
     "output_type": "stream",
     "text": [
      "finish save in vectore store: wy_demo_image_2\n",
      "sleep 60 sec\n",
      "(887, 589)\n",
      "resize image size: (800, 531)\n",
      "store image size: (480, 318)\n",
      "for_llm len: 54064\n",
      "max_tokens: 2048\n",
      "modelId: anthropic.claude-3-5-sonnet-20240620-v1:0\n",
      "temperature: 0.01\n",
      "language: english\n",
      "response: depth first search, graph, discovery time, finishing time, nodes, edges, options, multiple choice\n",
      "for_display len: 25208\n",
      "texts len: 1\n",
      "metadatas len: 1\n",
      "embeddings len: 1\n",
      "begin to save in vectore store\n"
     ]
    },
    {
     "name": "stderr",
     "output_type": "stream",
     "text": [
      "  4%|▎         | 61/1730 [41:35<28:48:08, 62.13s/it]"
     ]
    },
    {
     "name": "stdout",
     "output_type": "stream",
     "text": [
      "finish save in vectore store: wy_demo_image_2\n",
      "sleep 60 sec\n",
      "(859, 464)\n",
      "resize image size: (800, 432)\n",
      "store image size: (480, 259)\n",
      "for_llm len: 31460\n",
      "max_tokens: 2048\n",
      "modelId: anthropic.claude-3-5-sonnet-20240620-v1:0\n",
      "temperature: 0.01\n",
      "language: english\n",
      "response: survey problem, coordinate method, area calculation, traverse, acres, coordinate table, multiple choice options\n",
      "for_display len: 14480\n",
      "texts len: 1\n",
      "metadatas len: 1\n",
      "embeddings len: 1\n",
      "begin to save in vectore store\n"
     ]
    },
    {
     "name": "stderr",
     "output_type": "stream",
     "text": [
      "  4%|▎         | 62/1730 [42:37<28:46:00, 62.09s/it]"
     ]
    },
    {
     "name": "stdout",
     "output_type": "stream",
     "text": [
      "finish save in vectore store: wy_demo_image_2\n",
      "sleep 60 sec\n",
      "(854, 936)\n",
      "resize image size: (800, 876)\n",
      "store image size: (480, 526)\n",
      "for_llm len: 109396\n",
      "max_tokens: 2048\n",
      "modelId: anthropic.claude-3-5-sonnet-20240620-v1:0\n",
      "temperature: 0.01\n",
      "language: english\n",
      "response: chemical reactions, compound synthesis, percent yield, mole ratio, reaction steps, compound A to F, missing quantities, multiple choice options\n",
      "for_display len: 48844\n",
      "texts len: 1\n",
      "metadatas len: 1\n",
      "embeddings len: 1\n",
      "begin to save in vectore store\n"
     ]
    },
    {
     "name": "stderr",
     "output_type": "stream",
     "text": [
      "  4%|▎         | 63/1730 [43:39<28:46:20, 62.14s/it]"
     ]
    },
    {
     "name": "stdout",
     "output_type": "stream",
     "text": [
      "finish save in vectore store: wy_demo_image_2\n",
      "sleep 60 sec\n",
      "(850, 589)\n",
      "resize image size: (800, 554)\n",
      "store image size: (480, 332)\n",
      "for_llm len: 54140\n",
      "max_tokens: 2048\n",
      "modelId: anthropic.claude-3-5-sonnet-20240620-v1:0\n",
      "temperature: 0.01\n",
      "language: english\n",
      "response: modernist architecture\n",
      "Villa Savoye\n",
      "Le Corbusier\n",
      "pilotis\n",
      "ribbon windows\n",
      "flat roof\n",
      "minimalist design\n",
      "form follows function\n",
      "machine for living\n",
      "for_display len: 25032\n",
      "texts len: 1\n",
      "metadatas len: 1\n",
      "embeddings len: 1\n",
      "begin to save in vectore store\n"
     ]
    },
    {
     "name": "stderr",
     "output_type": "stream",
     "text": [
      "  4%|▎         | 64/1730 [44:41<28:42:40, 62.04s/it]"
     ]
    },
    {
     "name": "stdout",
     "output_type": "stream",
     "text": [
      "finish save in vectore store: wy_demo_image_2\n",
      "sleep 60 sec\n",
      "(924, 614)\n",
      "resize image size: (800, 531)\n",
      "store image size: (480, 318)\n",
      "for_llm len: 69332\n",
      "max_tokens: 2048\n",
      "modelId: anthropic.claude-3-5-sonnet-20240620-v1:0\n",
      "temperature: 0.01\n",
      "language: english\n",
      "response: chemistry problem, chemical equation, ammonia, oxygen, nitrogen, water, stoichiometry, moles, reactants, products, multiple choice\n",
      "for_display len: 30592\n",
      "texts len: 1\n",
      "metadatas len: 1\n",
      "embeddings len: 1\n",
      "begin to save in vectore store\n"
     ]
    },
    {
     "name": "stderr",
     "output_type": "stream",
     "text": [
      "  4%|▍         | 65/1730 [45:43<28:42:38, 62.08s/it]"
     ]
    },
    {
     "name": "stdout",
     "output_type": "stream",
     "text": [
      "finish save in vectore store: wy_demo_image_2\n",
      "sleep 60 sec\n",
      "(887, 553)\n",
      "resize image size: (800, 498)\n",
      "store image size: (480, 299)\n",
      "for_llm len: 98284\n",
      "max_tokens: 2048\n",
      "modelId: anthropic.claude-3-5-sonnet-20240620-v1:0\n",
      "temperature: 0.01\n",
      "language: english\n",
      "response: microscopic organism, cilia, flagella, movement structure, biology question, multiple choice\n",
      "for_display len: 37304\n",
      "texts len: 1\n",
      "metadatas len: 1\n",
      "embeddings len: 1\n",
      "begin to save in vectore store\n"
     ]
    },
    {
     "name": "stderr",
     "output_type": "stream",
     "text": [
      "  4%|▍         | 66/1730 [46:45<28:41:46, 62.08s/it]"
     ]
    },
    {
     "name": "stdout",
     "output_type": "stream",
     "text": [
      "finish save in vectore store: wy_demo_image_2\n",
      "sleep 60 sec\n",
      "(866, 515)\n",
      "resize image size: (800, 475)\n",
      "store image size: (480, 285)\n",
      "for_llm len: 36932\n",
      "max_tokens: 2048\n",
      "modelId: anthropic.claude-3-5-sonnet-20240620-v1:0\n",
      "temperature: 0.01\n",
      "language: english\n",
      "response: 2-3 tree, data structure, binary tree, node insertion, tree height, nonleaf nodes, interior nodes\n",
      "for_display len: 16432\n",
      "texts len: 1\n",
      "metadatas len: 1\n",
      "embeddings len: 1\n",
      "begin to save in vectore store\n"
     ]
    },
    {
     "name": "stderr",
     "output_type": "stream",
     "text": [
      "  4%|▍         | 67/1730 [47:48<28:43:30, 62.18s/it]"
     ]
    },
    {
     "name": "stdout",
     "output_type": "stream",
     "text": [
      "finish save in vectore store: wy_demo_image_2\n",
      "sleep 60 sec\n",
      "(893, 670)\n",
      "resize image size: (800, 600)\n",
      "store image size: (480, 360)\n",
      "for_llm len: 50868\n",
      "max_tokens: 2048\n",
      "modelId: anthropic.claude-3-5-sonnet-20240620-v1:0\n",
      "temperature: 0.01\n",
      "language: english\n",
      "response: pump-turbine system, water reservoir, power generation, hydraulic engineering, fluid mechanics, energy conversion, flow rate calculation, friction head loss, horsepower estimation\n",
      "for_display len: 22248\n",
      "texts len: 1\n",
      "metadatas len: 1\n",
      "embeddings len: 1\n",
      "begin to save in vectore store\n"
     ]
    },
    {
     "name": "stderr",
     "output_type": "stream",
     "text": [
      "  4%|▍         | 68/1730 [48:50<28:43:22, 62.22s/it]"
     ]
    },
    {
     "name": "stdout",
     "output_type": "stream",
     "text": [
      "finish save in vectore store: wy_demo_image_2\n",
      "sleep 60 sec\n",
      "(882, 620)\n",
      "resize image size: (800, 562)\n",
      "store image size: (480, 337)\n",
      "for_llm len: 50428\n",
      "max_tokens: 2048\n",
      "modelId: anthropic.claude-3-5-sonnet-20240620-v1:0\n",
      "temperature: 0.01\n",
      "language: english\n",
      "response: brain anatomy, thalamus, cortical regions, neuroanatomy, multiple choice question, medical imaging\n",
      "for_display len: 23328\n",
      "texts len: 1\n",
      "metadatas len: 1\n",
      "embeddings len: 1\n",
      "begin to save in vectore store\n"
     ]
    },
    {
     "name": "stderr",
     "output_type": "stream",
     "text": [
      "  4%|▍         | 69/1730 [49:52<28:40:52, 62.16s/it]"
     ]
    },
    {
     "name": "stdout",
     "output_type": "stream",
     "text": [
      "finish save in vectore store: wy_demo_image_2\n",
      "sleep 60 sec\n",
      "(889, 653)\n",
      "resize image size: (800, 587)\n",
      "store image size: (480, 352)\n",
      "for_llm len: 35296\n",
      "max_tokens: 2048\n",
      "modelId: anthropic.claude-3-5-sonnet-20240620-v1:0\n",
      "temperature: 0.01\n",
      "language: english\n",
      "response: fluid dynamics, jet deflection, inclined wall, frictionless flow, water sheet, velocity, angle, normal force, physics problem\n",
      "for_display len: 16196\n",
      "texts len: 1\n",
      "metadatas len: 1\n",
      "embeddings len: 1\n",
      "begin to save in vectore store\n"
     ]
    },
    {
     "name": "stderr",
     "output_type": "stream",
     "text": [
      "  4%|▍         | 70/1730 [50:54<28:37:08, 62.07s/it]"
     ]
    },
    {
     "name": "stdout",
     "output_type": "stream",
     "text": [
      "finish save in vectore store: wy_demo_image_2\n",
      "sleep 60 sec\n",
      "(884, 571)\n",
      "resize image size: (800, 516)\n",
      "store image size: (480, 310)\n",
      "for_llm len: 30260\n",
      "max_tokens: 2048\n",
      "modelId: anthropic.claude-3-5-sonnet-20240620-v1:0\n",
      "temperature: 0.01\n",
      "language: english\n",
      "response: neuron, myelin sheath, anatomy, diagram, multiple choice question\n",
      "for_display len: 13820\n",
      "texts len: 1\n",
      "metadatas len: 1\n",
      "embeddings len: 1\n",
      "begin to save in vectore store\n"
     ]
    },
    {
     "name": "stderr",
     "output_type": "stream",
     "text": [
      "  4%|▍         | 71/1730 [51:56<28:32:47, 61.95s/it]"
     ]
    },
    {
     "name": "stdout",
     "output_type": "stream",
     "text": [
      "finish save in vectore store: wy_demo_image_2\n",
      "sleep 60 sec\n",
      "(1280, 648)\n",
      "resize image size: (800, 405)\n",
      "store image size: (480, 243)\n",
      "for_llm len: 52192\n",
      "max_tokens: 2048\n",
      "modelId: anthropic.claude-3-5-sonnet-20240620-v1:0\n",
      "temperature: 0.01\n",
      "language: english\n",
      "response: music notation, clarinet, transposition, minor third, sounding pitch, mistakes, true or false question\n",
      "for_display len: 23872\n",
      "texts len: 1\n",
      "metadatas len: 1\n",
      "embeddings len: 1\n",
      "begin to save in vectore store\n"
     ]
    },
    {
     "name": "stderr",
     "output_type": "stream",
     "text": [
      "  4%|▍         | 72/1730 [52:58<28:32:23, 61.97s/it]"
     ]
    },
    {
     "name": "stdout",
     "output_type": "stream",
     "text": [
      "finish save in vectore store: wy_demo_image_2\n",
      "sleep 60 sec\n",
      "(842, 910)\n",
      "resize image size: (800, 864)\n",
      "store image size: (480, 518)\n",
      "for_llm len: 65484\n",
      "max_tokens: 2048\n",
      "modelId: anthropic.claude-3-5-sonnet-20240620-v1:0\n",
      "temperature: 0.01\n",
      "language: english\n",
      "response: concrete column, steel reinforcing rods, axial load, stress calculation, structural engineering, multiple choice question\n",
      "for_display len: 31352\n",
      "texts len: 1\n",
      "metadatas len: 1\n",
      "embeddings len: 1\n",
      "begin to save in vectore store\n"
     ]
    },
    {
     "name": "stderr",
     "output_type": "stream",
     "text": [
      "  4%|▍         | 73/1730 [54:00<28:32:11, 62.00s/it]"
     ]
    },
    {
     "name": "stdout",
     "output_type": "stream",
     "text": [
      "finish save in vectore store: wy_demo_image_2\n",
      "sleep 60 sec\n",
      "(857, 716)\n",
      "resize image size: (800, 668)\n",
      "store image size: (480, 401)\n",
      "for_llm len: 46908\n",
      "max_tokens: 2048\n",
      "modelId: anthropic.claude-3-5-sonnet-20240620-v1:0\n",
      "temperature: 0.01\n",
      "language: english\n",
      "response: pendulum, natural frequency, connecting bar, bob, mass, length, physics problem, multiple choice, equations, angular frequency\n",
      "for_display len: 21364\n",
      "texts len: 1\n",
      "metadatas len: 1\n",
      "embeddings len: 1\n",
      "begin to save in vectore store\n"
     ]
    },
    {
     "name": "stderr",
     "output_type": "stream",
     "text": [
      "  4%|▍         | 74/1730 [55:02<28:30:15, 61.97s/it]"
     ]
    },
    {
     "name": "stdout",
     "output_type": "stream",
     "text": [
      "finish save in vectore store: wy_demo_image_2\n",
      "sleep 60 sec\n",
      "(1280, 960)\n",
      "resize image size: (800, 600)\n",
      "store image size: (480, 360)\n",
      "for_llm len: 91328\n",
      "max_tokens: 2048\n",
      "modelId: anthropic.claude-3-5-sonnet-20240620-v1:0\n",
      "temperature: 0.01\n",
      "language: english\n",
      "response: microscopic image, brain tissue, purple stain, multiple choice question, neuropathology, Alzheimer's disease, neurological structures\n",
      "for_display len: 40064\n",
      "texts len: 1\n",
      "metadatas len: 1\n",
      "embeddings len: 1\n",
      "begin to save in vectore store\n"
     ]
    },
    {
     "name": "stderr",
     "output_type": "stream",
     "text": [
      "  4%|▍         | 75/1730 [56:04<28:31:49, 62.06s/it]"
     ]
    },
    {
     "name": "stdout",
     "output_type": "stream",
     "text": [
      "finish save in vectore store: wy_demo_image_2\n",
      "sleep 60 sec\n",
      "(836, 509)\n",
      "resize image size: (800, 487)\n",
      "store image size: (480, 292)\n",
      "for_llm len: 43420\n",
      "max_tokens: 2048\n",
      "modelId: anthropic.claude-3-5-sonnet-20240620-v1:0\n",
      "temperature: 0.01\n",
      "language: english\n",
      "response: mountain, snow, grassland, tundra, biome, landscape\n",
      "for_display len: 20428\n",
      "texts len: 1\n",
      "metadatas len: 1\n",
      "embeddings len: 1\n",
      "begin to save in vectore store\n"
     ]
    },
    {
     "name": "stderr",
     "output_type": "stream",
     "text": [
      "  4%|▍         | 76/1730 [57:05<28:26:54, 61.92s/it]"
     ]
    },
    {
     "name": "stdout",
     "output_type": "stream",
     "text": [
      "finish save in vectore store: wy_demo_image_2\n",
      "sleep 60 sec\n",
      "(868, 649)\n",
      "resize image size: (800, 598)\n",
      "store image size: (480, 358)\n",
      "for_llm len: 63068\n",
      "max_tokens: 2048\n",
      "modelId: anthropic.claude-3-5-sonnet-20240620-v1:0\n",
      "temperature: 0.01\n",
      "language: english\n",
      "response: B-tree, data structure, alphabetical ordering, minimum degree, insertion, options, computer science, diagram\n",
      "for_display len: 31128\n",
      "texts len: 1\n",
      "metadatas len: 1\n",
      "embeddings len: 1\n",
      "begin to save in vectore store\n"
     ]
    },
    {
     "name": "stderr",
     "output_type": "stream",
     "text": [
      "  4%|▍         | 77/1730 [58:07<28:25:13, 61.90s/it]"
     ]
    },
    {
     "name": "stdout",
     "output_type": "stream",
     "text": [
      "finish save in vectore store: wy_demo_image_2\n",
      "sleep 60 sec\n",
      "(1430, 2252)\n",
      "resize image size: (800, 1259)\n",
      "store image size: (480, 755)\n",
      "for_llm len: 247372\n",
      "max_tokens: 2048\n",
      "modelId: anthropic.claude-3-5-sonnet-20240620-v1:0\n",
      "temperature: 0.01\n",
      "language: english\n",
      "response: car manufacturers, relationship, car size, family size, survey, contingency table, degrees of freedom, chi-square test\n",
      "for_display len: 97184\n",
      "texts len: 1\n",
      "metadatas len: 1\n",
      "embeddings len: 1\n",
      "begin to save in vectore store\n"
     ]
    },
    {
     "name": "stderr",
     "output_type": "stream",
     "text": [
      "  5%|▍         | 78/1730 [59:11<28:35:51, 62.32s/it]"
     ]
    },
    {
     "name": "stdout",
     "output_type": "stream",
     "text": [
      "finish save in vectore store: wy_demo_image_2\n",
      "sleep 60 sec\n",
      "(736, 508)\n",
      "store image size: (480, 331)\n",
      "for_llm len: 47772\n",
      "max_tokens: 2048\n",
      "modelId: anthropic.claude-3-5-sonnet-20240620-v1:0\n",
      "temperature: 0.01\n",
      "language: english\n",
      "response: Las Meninas, Velázquez, Spanish painting, royal family, court scene, mirror reflection, artist self-portrait, Baroque art\n",
      "for_display len: 24484\n",
      "texts len: 1\n",
      "metadatas len: 1\n",
      "embeddings len: 1\n",
      "begin to save in vectore store\n"
     ]
    },
    {
     "name": "stderr",
     "output_type": "stream",
     "text": [
      "  5%|▍         | 79/1730 [1:00:13<28:32:53, 62.25s/it]"
     ]
    },
    {
     "name": "stdout",
     "output_type": "stream",
     "text": [
      "finish save in vectore store: wy_demo_image_2\n",
      "sleep 60 sec\n",
      "(1280, 1252)\n",
      "resize image size: (800, 782)\n",
      "store image size: (480, 469)\n",
      "for_llm len: 86996\n",
      "max_tokens: 2048\n",
      "modelId: anthropic.claude-3-5-sonnet-20240620-v1:0\n",
      "temperature: 0.01\n",
      "language: english\n",
      "response: magnifying glass, words, context clues, reading comprehension, vocabulary\n",
      "for_display len: 40892\n",
      "texts len: 1\n",
      "metadatas len: 1\n",
      "embeddings len: 1\n",
      "begin to save in vectore store\n"
     ]
    },
    {
     "name": "stderr",
     "output_type": "stream",
     "text": [
      "  5%|▍         | 80/1730 [1:01:14<28:27:03, 62.07s/it]"
     ]
    },
    {
     "name": "stdout",
     "output_type": "stream",
     "text": [
      "finish save in vectore store: wy_demo_image_2\n",
      "sleep 60 sec\n",
      "(880, 564)\n",
      "resize image size: (800, 512)\n",
      "store image size: (480, 307)\n",
      "for_llm len: 51788\n",
      "max_tokens: 2048\n",
      "modelId: anthropic.claude-3-5-sonnet-20240620-v1:0\n",
      "temperature: 0.01\n",
      "language: english\n",
      "response: Victorian era showroom, interior design, columns, merchandise display, large windows, historical retail space\n",
      "for_display len: 22652\n",
      "texts len: 1\n",
      "metadatas len: 1\n",
      "embeddings len: 1\n",
      "begin to save in vectore store\n"
     ]
    },
    {
     "name": "stderr",
     "output_type": "stream",
     "text": [
      "  5%|▍         | 81/1730 [1:02:16<28:25:34, 62.06s/it]"
     ]
    },
    {
     "name": "stdout",
     "output_type": "stream",
     "text": [
      "finish save in vectore store: wy_demo_image_2\n",
      "sleep 60 sec\n",
      "(2159, 3164)\n",
      "resize image size: (800, 1172)\n",
      "store image size: (480, 703)\n",
      "for_llm len: 93096\n",
      "max_tokens: 2048\n",
      "modelId: anthropic.claude-3-5-sonnet-20240620-v1:0\n",
      "temperature: 0.01\n",
      "language: english\n",
      "response: options trading, call options, volatility, stock price, risk-free interest rate, financial question, multiple choice\n",
      "for_display len: 37640\n",
      "texts len: 1\n",
      "metadatas len: 1\n",
      "embeddings len: 1\n",
      "begin to save in vectore store\n"
     ]
    },
    {
     "name": "stderr",
     "output_type": "stream",
     "text": [
      "  5%|▍         | 82/1730 [1:03:19<28:27:40, 62.17s/it]"
     ]
    },
    {
     "name": "stdout",
     "output_type": "stream",
     "text": [
      "finish save in vectore store: wy_demo_image_2\n",
      "sleep 60 sec\n",
      "(960, 1280)\n",
      "resize image size: (800, 1066)\n",
      "store image size: (480, 640)\n",
      "for_llm len: 207856\n",
      "max_tokens: 2048\n",
      "modelId: anthropic.claude-3-5-sonnet-20240620-v1:0\n",
      "temperature: 0.01\n",
      "language: english\n",
      "response: heat exchanger, coil, diagram, multiple choice question, engineering, thermal equipment, input output flow\n",
      "for_display len: 67396\n",
      "texts len: 1\n",
      "metadatas len: 1\n",
      "embeddings len: 1\n",
      "begin to save in vectore store\n"
     ]
    },
    {
     "name": "stderr",
     "output_type": "stream",
     "text": [
      "  5%|▍         | 83/1730 [1:04:22<28:31:37, 62.35s/it]"
     ]
    },
    {
     "name": "stdout",
     "output_type": "stream",
     "text": [
      "finish save in vectore store: wy_demo_image_2\n",
      "sleep 60 sec\n",
      "(845, 678)\n",
      "resize image size: (800, 641)\n",
      "store image size: (480, 385)\n",
      "for_llm len: 50016\n",
      "max_tokens: 2048\n",
      "modelId: anthropic.claude-3-5-sonnet-20240620-v1:0\n",
      "temperature: 0.01\n",
      "language: english\n",
      "response: truss bridge, structural engineering, dead load calculation, compression forces, multiple choice question\n",
      "for_display len: 22144\n",
      "texts len: 1\n",
      "metadatas len: 1\n",
      "embeddings len: 1\n",
      "begin to save in vectore store\n"
     ]
    },
    {
     "name": "stderr",
     "output_type": "stream",
     "text": [
      "  5%|▍         | 84/1730 [1:05:23<28:25:18, 62.16s/it]"
     ]
    },
    {
     "name": "stdout",
     "output_type": "stream",
     "text": [
      "finish save in vectore store: wy_demo_image_2\n",
      "sleep 60 sec\n",
      "(843, 819)\n",
      "resize image size: (800, 777)\n",
      "store image size: (480, 466)\n",
      "for_llm len: 74316\n",
      "max_tokens: 2048\n",
      "modelId: anthropic.claude-3-5-sonnet-20240620-v1:0\n",
      "temperature: 0.01\n",
      "language: english\n",
      "response: Ancient Sumerian sculpture\n",
      "Seated figure\n",
      "Bald head\n",
      "Wide eyes\n",
      "Beard\n",
      "Clasped hands\n",
      "Textured skirt\n",
      "Limestone statue\n",
      "for_display len: 34360\n",
      "texts len: 1\n",
      "metadatas len: 1\n",
      "embeddings len: 1\n",
      "begin to save in vectore store\n"
     ]
    },
    {
     "name": "stderr",
     "output_type": "stream",
     "text": [
      "  5%|▍         | 85/1730 [1:06:26<28:24:37, 62.17s/it]"
     ]
    },
    {
     "name": "stdout",
     "output_type": "stream",
     "text": [
      "finish save in vectore store: wy_demo_image_2\n",
      "sleep 60 sec\n",
      "(1040, 1280)\n",
      "resize image size: (800, 984)\n",
      "store image size: (480, 590)\n",
      "for_llm len: 188756\n",
      "max_tokens: 2048\n",
      "modelId: anthropic.claude-3-5-sonnet-20240620-v1:0\n",
      "temperature: 0.01\n",
      "language: english\n",
      "response: case-control study, alcohol consumption, hypertension, overweight, odds ratio, epidemiology, Shandong Medical University, 1992, stratification, confounding factor\n",
      "for_display len: 90952\n",
      "texts len: 1\n",
      "metadatas len: 1\n",
      "embeddings len: 1\n",
      "begin to save in vectore store\n"
     ]
    },
    {
     "name": "stderr",
     "output_type": "stream",
     "text": [
      "  5%|▍         | 86/1730 [1:07:28<28:27:13, 62.31s/it]"
     ]
    },
    {
     "name": "stdout",
     "output_type": "stream",
     "text": [
      "finish save in vectore store: wy_demo_image_2\n",
      "sleep 60 sec\n",
      "(1061, 1280)\n",
      "resize image size: (800, 965)\n",
      "store image size: (480, 579)\n",
      "for_llm len: 143184\n",
      "max_tokens: 2048\n",
      "modelId: anthropic.claude-3-5-sonnet-20240620-v1:0\n",
      "temperature: 0.01\n",
      "language: english\n",
      "response: pediatric brain tumor, occipital headaches, MRI images, posterior fossa mass, differential diagnosis\n",
      "for_display len: 69196\n",
      "texts len: 1\n",
      "metadatas len: 1\n",
      "embeddings len: 1\n",
      "begin to save in vectore store\n"
     ]
    },
    {
     "name": "stderr",
     "output_type": "stream",
     "text": [
      "  5%|▌         | 87/1730 [1:08:30<28:24:42, 62.25s/it]"
     ]
    },
    {
     "name": "stdout",
     "output_type": "stream",
     "text": [
      "finish save in vectore store: wy_demo_image_2\n",
      "sleep 60 sec\n",
      "(826, 706)\n",
      "resize image size: (800, 683)\n",
      "store image size: (480, 410)\n",
      "for_llm len: 77424\n",
      "max_tokens: 2048\n",
      "modelId: anthropic.claude-3-5-sonnet-20240620-v1:0\n",
      "temperature: 0.01\n",
      "language: english\n",
      "response: car physics problem, ground reaction forces, aerodynamic drag, center of gravity, center of pressure, weight distribution, vehicle dynamics, multiple choice question\n",
      "for_display len: 37520\n",
      "texts len: 1\n",
      "metadatas len: 1\n",
      "embeddings len: 1\n",
      "begin to save in vectore store\n"
     ]
    },
    {
     "name": "stderr",
     "output_type": "stream",
     "text": [
      "  5%|▌         | 88/1730 [1:09:32<28:21:01, 62.16s/it]"
     ]
    },
    {
     "name": "stdout",
     "output_type": "stream",
     "text": [
      "finish save in vectore store: wy_demo_image_2\n",
      "sleep 60 sec\n",
      "(775, 441)\n",
      "store image size: (480, 273)\n",
      "for_llm len: 32508\n",
      "max_tokens: 2048\n",
      "modelId: anthropic.claude-3-5-sonnet-20240620-v1:0\n",
      "temperature: 0.01\n",
      "language: english\n",
      "response: accounting balance sheet, missing value, dividends, assets, liabilities, common stock, revenue, expenses, multiple choice question\n",
      "for_display len: 15344\n",
      "texts len: 1\n",
      "metadatas len: 1\n",
      "embeddings len: 1\n",
      "begin to save in vectore store\n"
     ]
    },
    {
     "name": "stderr",
     "output_type": "stream",
     "text": [
      "  5%|▌         | 89/1730 [1:10:34<28:16:20, 62.02s/it]"
     ]
    },
    {
     "name": "stdout",
     "output_type": "stream",
     "text": [
      "finish save in vectore store: wy_demo_image_2\n",
      "sleep 60 sec\n",
      "(819, 964)\n",
      "resize image size: (800, 941)\n",
      "store image size: (480, 564)\n",
      "for_llm len: 151028\n",
      "max_tokens: 2048\n",
      "modelId: anthropic.claude-3-5-sonnet-20240620-v1:0\n",
      "temperature: 0.01\n",
      "language: english\n",
      "response: Chemistry experiment, CaCO3, HCl, eggshells, pressure measurement, calibration line, concentration determination\n",
      "for_display len: 71692\n",
      "texts len: 1\n",
      "metadatas len: 1\n",
      "embeddings len: 1\n",
      "begin to save in vectore store\n"
     ]
    },
    {
     "name": "stderr",
     "output_type": "stream",
     "text": [
      "  5%|▌         | 90/1730 [1:11:36<28:15:27, 62.03s/it]"
     ]
    },
    {
     "name": "stdout",
     "output_type": "stream",
     "text": [
      "finish save in vectore store: wy_demo_image_2\n",
      "sleep 60 sec\n",
      "(816, 781)\n",
      "resize image size: (800, 765)\n",
      "store image size: (480, 459)\n",
      "for_llm len: 62768\n",
      "max_tokens: 2048\n",
      "modelId: anthropic.claude-3-5-sonnet-20240620-v1:0\n",
      "temperature: 0.01\n",
      "language: english\n",
      "response: torsional spring constant, mechanical system, shaft, disk, springs, multiple spring constants, equivalent stiffness, formula options\n",
      "for_display len: 27392\n",
      "texts len: 1\n",
      "metadatas len: 1\n",
      "embeddings len: 1\n",
      "begin to save in vectore store\n"
     ]
    },
    {
     "name": "stderr",
     "output_type": "stream",
     "text": [
      "  5%|▌         | 91/1730 [1:12:38<28:16:52, 62.12s/it]"
     ]
    },
    {
     "name": "stdout",
     "output_type": "stream",
     "text": [
      "finish save in vectore store: wy_demo_image_2\n",
      "sleep 60 sec\n",
      "(806, 500)\n",
      "resize image size: (800, 496)\n",
      "store image size: (480, 297)\n",
      "for_llm len: 35824\n",
      "max_tokens: 2048\n",
      "modelId: anthropic.claude-3-5-sonnet-20240620-v1:0\n",
      "temperature: 0.01\n",
      "language: english\n",
      "response: music theory, chord identification, E minor key, musical notation, multiple choice question, piano sheet music, chord symbols, music exam\n",
      "for_display len: 16528\n",
      "texts len: 1\n",
      "metadatas len: 1\n",
      "embeddings len: 1\n",
      "begin to save in vectore store\n"
     ]
    },
    {
     "name": "stderr",
     "output_type": "stream",
     "text": [
      "  5%|▌         | 92/1730 [1:13:40<28:14:32, 62.07s/it]"
     ]
    },
    {
     "name": "stdout",
     "output_type": "stream",
     "text": [
      "finish save in vectore store: wy_demo_image_2\n",
      "sleep 60 sec\n",
      "(1280, 827)\n",
      "resize image size: (800, 516)\n",
      "store image size: (480, 310)\n",
      "for_llm len: 100560\n",
      "max_tokens: 2048\n",
      "modelId: anthropic.claude-3-5-sonnet-20240620-v1:0\n",
      "temperature: 0.01\n",
      "language: english\n",
      "response: organic chemistry, halocarbons, nomenclature, chemical structures, multiple choice question, chloro-propene, dichloro-methylpentane, bromobenzene\n",
      "for_display len: 44588\n",
      "texts len: 1\n",
      "metadatas len: 1\n",
      "embeddings len: 1\n",
      "begin to save in vectore store\n"
     ]
    },
    {
     "name": "stderr",
     "output_type": "stream",
     "text": [
      "  5%|▌         | 93/1730 [1:14:43<28:17:32, 62.22s/it]"
     ]
    },
    {
     "name": "stdout",
     "output_type": "stream",
     "text": [
      "finish save in vectore store: wy_demo_image_2\n",
      "sleep 60 sec\n",
      "(873, 494)\n",
      "resize image size: (800, 452)\n",
      "store image size: (480, 271)\n",
      "for_llm len: 47556\n",
      "max_tokens: 2048\n",
      "modelId: anthropic.claude-3-5-sonnet-20240620-v1:0\n",
      "temperature: 0.01\n",
      "language: english\n",
      "response: IRR calculation, cash flows, investment project, multiple rates of return, financial analysis\n",
      "for_display len: 23276\n",
      "texts len: 1\n",
      "metadatas len: 1\n",
      "embeddings len: 1\n",
      "begin to save in vectore store\n"
     ]
    },
    {
     "name": "stderr",
     "output_type": "stream",
     "text": [
      "  5%|▌         | 94/1730 [1:15:45<28:12:51, 62.09s/it]"
     ]
    },
    {
     "name": "stdout",
     "output_type": "stream",
     "text": [
      "finish save in vectore store: wy_demo_image_2\n",
      "sleep 60 sec\n",
      "(960, 1280)\n",
      "resize image size: (800, 1066)\n",
      "store image size: (480, 640)\n",
      "for_llm len: 92380\n",
      "max_tokens: 2048\n",
      "modelId: anthropic.claude-3-5-sonnet-20240620-v1:0\n",
      "temperature: 0.01\n",
      "language: english\n",
      "response: electrical circuit diagram, current calculation, multiple choice question, circuit analysis, amperes, parallel and series connections\n",
      "for_display len: 32188\n",
      "texts len: 1\n",
      "metadatas len: 1\n",
      "embeddings len: 1\n",
      "begin to save in vectore store\n"
     ]
    },
    {
     "name": "stderr",
     "output_type": "stream",
     "text": [
      "  5%|▌         | 95/1730 [1:16:47<28:13:06, 62.13s/it]"
     ]
    },
    {
     "name": "stdout",
     "output_type": "stream",
     "text": [
      "finish save in vectore store: wy_demo_image_2\n",
      "sleep 60 sec\n",
      "(849, 761)\n",
      "resize image size: (800, 717)\n",
      "store image size: (480, 430)\n",
      "for_llm len: 84652\n",
      "max_tokens: 2048\n",
      "modelId: anthropic.claude-3-5-sonnet-20240620-v1:0\n",
      "temperature: 0.01\n",
      "language: english\n",
      "response: outdoor cafe, waitress, customers, dining, participant observation, sociology study, multiple choice question\n",
      "for_display len: 39932\n",
      "texts len: 1\n",
      "metadatas len: 1\n",
      "embeddings len: 1\n",
      "begin to save in vectore store\n"
     ]
    },
    {
     "name": "stderr",
     "output_type": "stream",
     "text": [
      "  6%|▌         | 96/1730 [1:17:49<28:08:58, 62.02s/it]"
     ]
    },
    {
     "name": "stdout",
     "output_type": "stream",
     "text": [
      "finish save in vectore store: wy_demo_image_2\n",
      "sleep 60 sec\n",
      "(785, 475)\n",
      "store image size: (480, 290)\n",
      "for_llm len: 101488\n",
      "max_tokens: 2048\n",
      "modelId: anthropic.claude-3-5-sonnet-20240620-v1:0\n",
      "temperature: 0.01\n",
      "language: english\n",
      "response: microscope image, tissue cells, purple stain, circular structures, multiple choice question, histology, epithelial tissue\n",
      "for_display len: 35384\n",
      "texts len: 1\n",
      "metadatas len: 1\n",
      "embeddings len: 1\n",
      "begin to save in vectore store\n"
     ]
    },
    {
     "name": "stderr",
     "output_type": "stream",
     "text": [
      "  6%|▌         | 97/1730 [1:18:51<28:08:24, 62.04s/it]"
     ]
    },
    {
     "name": "stdout",
     "output_type": "stream",
     "text": [
      "finish save in vectore store: wy_demo_image_2\n",
      "sleep 60 sec\n",
      "(852, 624)\n",
      "resize image size: (800, 585)\n",
      "store image size: (480, 351)\n",
      "for_llm len: 65236\n",
      "max_tokens: 2048\n",
      "modelId: anthropic.claude-3-5-sonnet-20240620-v1:0\n",
      "temperature: 0.01\n",
      "language: english\n",
      "response: X-ray pelvis\n",
      "57-year-old female\n",
      "Multiple pelvic masses\n",
      "Diagnostic options\n",
      "Gynecological conditions\n",
      "for_display len: 30376\n",
      "texts len: 1\n",
      "metadatas len: 1\n",
      "embeddings len: 1\n",
      "begin to save in vectore store\n"
     ]
    },
    {
     "name": "stderr",
     "output_type": "stream",
     "text": [
      "  6%|▌         | 98/1730 [1:19:53<28:08:20, 62.07s/it]"
     ]
    },
    {
     "name": "stdout",
     "output_type": "stream",
     "text": [
      "finish save in vectore store: wy_demo_image_2\n",
      "sleep 60 sec\n",
      "(841, 794)\n",
      "resize image size: (800, 755)\n",
      "store image size: (480, 453)\n",
      "for_llm len: 90616\n",
      "max_tokens: 2048\n",
      "modelId: anthropic.claude-3-5-sonnet-20240620-v1:0\n",
      "temperature: 0.01\n",
      "language: english\n",
      "response: electromagnetic induction, square wire loop, magnetic field, current direction, physics problem, multiple choice question\n",
      "for_display len: 44284\n",
      "texts len: 1\n",
      "metadatas len: 1\n",
      "embeddings len: 1\n",
      "begin to save in vectore store\n"
     ]
    },
    {
     "name": "stderr",
     "output_type": "stream",
     "text": [
      "  6%|▌         | 99/1730 [1:20:55<28:07:51, 62.09s/it]"
     ]
    },
    {
     "name": "stdout",
     "output_type": "stream",
     "text": [
      "finish save in vectore store: wy_demo_image_2\n",
      "sleep 60 sec\n",
      "(818, 636)\n",
      "resize image size: (800, 622)\n",
      "store image size: (480, 373)\n",
      "for_llm len: 70232\n",
      "max_tokens: 2048\n",
      "modelId: anthropic.claude-3-5-sonnet-20240620-v1:0\n",
      "temperature: 0.01\n",
      "language: english\n",
      "response: mountainous region, winter temperature, altitude, tree species abundance, graph, x-axis, y-axis, species distribution, 500m altitude\n",
      "for_display len: 31528\n",
      "texts len: 1\n",
      "metadatas len: 1\n",
      "embeddings len: 1\n",
      "begin to save in vectore store\n"
     ]
    },
    {
     "name": "stderr",
     "output_type": "stream",
     "text": [
      "  6%|▌         | 100/1730 [1:21:57<28:07:26, 62.11s/it]"
     ]
    },
    {
     "name": "stdout",
     "output_type": "stream",
     "text": [
      "finish save in vectore store: wy_demo_image_2\n",
      "sleep 60 sec\n",
      "(851, 614)\n",
      "resize image size: (800, 577)\n",
      "store image size: (480, 346)\n",
      "for_llm len: 47596\n",
      "max_tokens: 2048\n",
      "modelId: anthropic.claude-3-5-sonnet-20240620-v1:0\n",
      "temperature: 0.01\n",
      "language: english\n",
      "response: gavel, authority, legal, leadership styles, question, multiple choice\n",
      "for_display len: 23404\n",
      "texts len: 1\n",
      "metadatas len: 1\n",
      "embeddings len: 1\n",
      "begin to save in vectore store\n"
     ]
    },
    {
     "name": "stderr",
     "output_type": "stream",
     "text": [
      "  6%|▌         | 101/1730 [1:22:59<28:02:40, 61.98s/it]"
     ]
    },
    {
     "name": "stdout",
     "output_type": "stream",
     "text": [
      "finish save in vectore store: wy_demo_image_2\n",
      "sleep 60 sec\n",
      "(1606, 2252)\n",
      "resize image size: (800, 1121)\n",
      "store image size: (480, 673)\n",
      "for_llm len: 127712\n",
      "max_tokens: 2048\n",
      "modelId: anthropic.claude-3-5-sonnet-20240620-v1:0\n",
      "temperature: 0.01\n",
      "language: english\n",
      "response: Flashcard, HIV test, diagnostic accuracy, sensitivity, ELISA, rapid test, statistics, medical research\n",
      "for_display len: 62496\n",
      "texts len: 1\n",
      "metadatas len: 1\n",
      "embeddings len: 1\n",
      "begin to save in vectore store\n"
     ]
    },
    {
     "name": "stderr",
     "output_type": "stream",
     "text": [
      "  6%|▌         | 102/1730 [1:24:01<28:03:40, 62.05s/it]"
     ]
    },
    {
     "name": "stdout",
     "output_type": "stream",
     "text": [
      "finish save in vectore store: wy_demo_image_2\n",
      "sleep 60 sec\n",
      "(849, 799)\n",
      "resize image size: (800, 752)\n",
      "store image size: (480, 451)\n",
      "for_llm len: 60900\n",
      "max_tokens: 2048\n",
      "modelId: anthropic.claude-3-5-sonnet-20240620-v1:0\n",
      "temperature: 0.01\n",
      "language: english\n",
      "response: physics problem, fluid mechanics, liquid columns, water, gasoline, specific gravity, height calculation, pressure equilibrium\n",
      "for_display len: 29256\n",
      "texts len: 1\n",
      "metadatas len: 1\n",
      "embeddings len: 1\n",
      "begin to save in vectore store\n"
     ]
    },
    {
     "name": "stderr",
     "output_type": "stream",
     "text": [
      "  6%|▌         | 103/1730 [1:25:03<28:03:01, 62.07s/it]"
     ]
    },
    {
     "name": "stdout",
     "output_type": "stream",
     "text": [
      "finish save in vectore store: wy_demo_image_2\n",
      "sleep 60 sec\n",
      "(708, 781)\n",
      "store image size: (480, 529)\n",
      "for_llm len: 66212\n",
      "max_tokens: 2048\n",
      "modelId: anthropic.claude-3-5-sonnet-20240620-v1:0\n",
      "temperature: 0.01\n",
      "language: english\n",
      "response: anatomy, gluteal region, thigh, muscles, labeled diagram, multiple choice question, biceps femoris, semitendinosus, adductor magnus, tensor fasciae latae, gluteus medius, superior gluteal nerve, piriformis, gluteus maximus, sartorius, gluteus minimus\n",
      "for_display len: 33788\n",
      "texts len: 1\n",
      "metadatas len: 1\n",
      "embeddings len: 1\n",
      "begin to save in vectore store\n"
     ]
    },
    {
     "name": "stderr",
     "output_type": "stream",
     "text": [
      "  6%|▌         | 104/1730 [1:26:06<28:07:32, 62.27s/it]"
     ]
    },
    {
     "name": "stdout",
     "output_type": "stream",
     "text": [
      "finish save in vectore store: wy_demo_image_2\n",
      "sleep 60 sec\n",
      "(803, 446)\n",
      "resize image size: (800, 444)\n",
      "store image size: (480, 266)\n",
      "for_llm len: 50564\n",
      "max_tokens: 2048\n",
      "modelId: anthropic.claude-3-5-sonnet-20240620-v1:0\n",
      "temperature: 0.01\n",
      "language: english\n",
      "response: pedigree chart, inheritance patterns, genetic modes, autosomal dominant, autosomal recessive, X-linked inheritance, Y-linked inheritance, mitochondrial inheritance, multiple choice question\n",
      "for_display len: 24880\n",
      "texts len: 1\n",
      "metadatas len: 1\n",
      "embeddings len: 1\n",
      "begin to save in vectore store\n"
     ]
    },
    {
     "name": "stderr",
     "output_type": "stream",
     "text": [
      "  6%|▌         | 105/1730 [1:27:08<28:05:22, 62.23s/it]"
     ]
    },
    {
     "name": "stdout",
     "output_type": "stream",
     "text": [
      "finish save in vectore store: wy_demo_image_2\n",
      "sleep 60 sec\n",
      "(802, 520)\n",
      "resize image size: (800, 518)\n",
      "store image size: (480, 311)\n",
      "for_llm len: 41912\n",
      "max_tokens: 2048\n",
      "modelId: anthropic.claude-3-5-sonnet-20240620-v1:0\n",
      "temperature: 0.01\n",
      "language: english\n",
      "response: electromagnetic waves, amplitude comparison, wave diagrams, sinusoidal curves, frequency variation\n",
      "for_display len: 20720\n",
      "texts len: 1\n",
      "metadatas len: 1\n",
      "embeddings len: 1\n",
      "begin to save in vectore store\n"
     ]
    },
    {
     "name": "stderr",
     "output_type": "stream",
     "text": [
      "  6%|▌         | 106/1730 [1:28:10<28:00:16, 62.08s/it]"
     ]
    },
    {
     "name": "stdout",
     "output_type": "stream",
     "text": [
      "finish save in vectore store: wy_demo_image_2\n",
      "sleep 60 sec\n",
      "(870, 580)\n",
      "resize image size: (800, 533)\n",
      "store image size: (480, 320)\n",
      "for_llm len: 46364\n",
      "max_tokens: 2048\n",
      "modelId: anthropic.claude-3-5-sonnet-20240620-v1:0\n",
      "temperature: 0.01\n",
      "language: english\n",
      "response: The Raft of the Medusa, Géricault, French Romantic painting, shipwreck, survival, dramatic, ocean scene\n",
      "for_display len: 20460\n",
      "texts len: 1\n",
      "metadatas len: 1\n",
      "embeddings len: 1\n",
      "begin to save in vectore store\n"
     ]
    },
    {
     "name": "stderr",
     "output_type": "stream",
     "text": [
      "  6%|▌         | 107/1730 [1:29:12<27:58:29, 62.05s/it]"
     ]
    },
    {
     "name": "stdout",
     "output_type": "stream",
     "text": [
      "finish save in vectore store: wy_demo_image_2\n",
      "sleep 60 sec\n",
      "(960, 1280)\n",
      "resize image size: (800, 1066)\n",
      "store image size: (480, 640)\n",
      "for_llm len: 154296\n",
      "max_tokens: 2048\n",
      "modelId: anthropic.claude-3-5-sonnet-20240620-v1:0\n",
      "temperature: 0.01\n",
      "language: english\n",
      "response: biology, organisms, energy sources, carbon sources, table, photoautotroph, photoheterotroph, chemoautotroph, chemoheterotroph, organic molecules, inorganic molecules, light\n",
      "for_display len: 59756\n",
      "texts len: 1\n",
      "metadatas len: 1\n",
      "embeddings len: 1\n",
      "begin to save in vectore store\n"
     ]
    },
    {
     "name": "stderr",
     "output_type": "stream",
     "text": [
      "  6%|▌         | 108/1730 [1:30:14<28:01:51, 62.21s/it]"
     ]
    },
    {
     "name": "stdout",
     "output_type": "stream",
     "text": [
      "finish save in vectore store: wy_demo_image_2\n",
      "sleep 60 sec\n",
      "(845, 785)\n",
      "resize image size: (800, 743)\n",
      "store image size: (480, 445)\n",
      "for_llm len: 75352\n",
      "max_tokens: 2048\n",
      "modelId: anthropic.claude-3-5-sonnet-20240620-v1:0\n",
      "temperature: 0.01\n",
      "language: english\n",
      "response: welding, steel plates, fillet welds, tensile load, safety factor, E60 welding rods, parallel-loaded, maximum load calculation\n",
      "for_display len: 35904\n",
      "texts len: 1\n",
      "metadatas len: 1\n",
      "embeddings len: 1\n",
      "begin to save in vectore store\n"
     ]
    },
    {
     "name": "stderr",
     "output_type": "stream",
     "text": [
      "  6%|▋         | 109/1730 [1:31:17<28:01:10, 62.23s/it]"
     ]
    },
    {
     "name": "stdout",
     "output_type": "stream",
     "text": [
      "finish save in vectore store: wy_demo_image_2\n",
      "sleep 60 sec\n",
      "(835, 435)\n",
      "resize image size: (800, 416)\n",
      "store image size: (480, 250)\n",
      "for_llm len: 37200\n",
      "max_tokens: 2048\n",
      "modelId: anthropic.claude-3-5-sonnet-20240620-v1:0\n",
      "temperature: 0.01\n",
      "language: english\n",
      "response: statistics, sample, population, prices, mean, data tables, multiple choice question\n",
      "for_display len: 17396\n",
      "texts len: 1\n",
      "metadatas len: 1\n",
      "embeddings len: 1\n",
      "begin to save in vectore store\n"
     ]
    },
    {
     "name": "stderr",
     "output_type": "stream",
     "text": [
      "  6%|▋         | 110/1730 [1:32:18<27:55:22, 62.05s/it]"
     ]
    },
    {
     "name": "stdout",
     "output_type": "stream",
     "text": [
      "finish save in vectore store: wy_demo_image_2\n",
      "sleep 60 sec\n",
      "(2448, 1602)\n",
      "resize image size: (800, 523)\n",
      "store image size: (480, 314)\n",
      "for_llm len: 91248\n",
      "max_tokens: 2048\n",
      "modelId: anthropic.claude-3-5-sonnet-20240620-v1:0\n",
      "temperature: 0.01\n",
      "language: english\n",
      "response: epidemiology, disease exposure, data table, fraction calculation, multiple choice question\n",
      "for_display len: 31504\n",
      "texts len: 1\n",
      "metadatas len: 1\n",
      "embeddings len: 1\n",
      "begin to save in vectore store\n"
     ]
    },
    {
     "name": "stderr",
     "output_type": "stream",
     "text": [
      "  6%|▋         | 111/1730 [1:33:21<27:56:59, 62.15s/it]"
     ]
    },
    {
     "name": "stdout",
     "output_type": "stream",
     "text": [
      "finish save in vectore store: wy_demo_image_2\n",
      "sleep 60 sec\n",
      "(871, 842)\n",
      "resize image size: (800, 773)\n",
      "store image size: (480, 464)\n",
      "for_llm len: 99916\n",
      "max_tokens: 2048\n",
      "modelId: anthropic.claude-3-5-sonnet-20240620-v1:0\n",
      "temperature: 0.01\n",
      "language: english\n",
      "response: flower diagram, ABC hypothesis, Arabidopsis, gene transformation, floral whorls, sepals, petals, stamens, carpel\n",
      "for_display len: 45008\n",
      "texts len: 1\n",
      "metadatas len: 1\n",
      "embeddings len: 1\n",
      "begin to save in vectore store\n"
     ]
    },
    {
     "name": "stderr",
     "output_type": "stream",
     "text": [
      "  6%|▋         | 112/1730 [1:34:23<27:55:24, 62.13s/it]"
     ]
    },
    {
     "name": "stdout",
     "output_type": "stream",
     "text": [
      "finish save in vectore store: wy_demo_image_2\n",
      "sleep 60 sec\n",
      "(903, 774)\n",
      "resize image size: (800, 685)\n",
      "store image size: (480, 411)\n",
      "for_llm len: 83036\n",
      "max_tokens: 2048\n",
      "modelId: anthropic.claude-3-5-sonnet-20240620-v1:0\n",
      "temperature: 0.01\n",
      "language: english\n",
      "response: chiral reducing agent, asymmetric centre, chemical structure, naphthalene, aluminum, multiple choice question, organic chemistry\n",
      "for_display len: 37372\n",
      "texts len: 1\n",
      "metadatas len: 1\n",
      "embeddings len: 1\n",
      "begin to save in vectore store\n"
     ]
    },
    {
     "name": "stderr",
     "output_type": "stream",
     "text": [
      "  7%|▋         | 113/1730 [1:35:25<27:53:34, 62.10s/it]"
     ]
    },
    {
     "name": "stdout",
     "output_type": "stream",
     "text": [
      "finish save in vectore store: wy_demo_image_2\n",
      "sleep 60 sec\n",
      "(836, 588)\n",
      "resize image size: (800, 562)\n",
      "store image size: (480, 337)\n",
      "for_llm len: 38104\n",
      "max_tokens: 2048\n",
      "modelId: anthropic.claude-3-5-sonnet-20240620-v1:0\n",
      "temperature: 0.01\n",
      "language: english\n",
      "response: brain scan\n",
      "periventricular white matter\n",
      "medical diagnosis\n",
      "multiple choice question\n",
      "neurological conditions\n",
      "for_display len: 17252\n",
      "texts len: 1\n",
      "metadatas len: 1\n",
      "embeddings len: 1\n",
      "begin to save in vectore store\n"
     ]
    },
    {
     "name": "stderr",
     "output_type": "stream",
     "text": [
      "  7%|▋         | 114/1730 [1:36:27<27:52:50, 62.11s/it]"
     ]
    },
    {
     "name": "stdout",
     "output_type": "stream",
     "text": [
      "finish save in vectore store: wy_demo_image_2\n",
      "sleep 60 sec\n",
      "(855, 349)\n",
      "resize image size: (800, 326)\n",
      "store image size: (480, 195)\n",
      "for_llm len: 26524\n",
      "max_tokens: 2048\n",
      "modelId: anthropic.claude-3-5-sonnet-20240620-v1:0\n",
      "temperature: 0.01\n",
      "language: english\n",
      "response: cis-trans isomers, chemical structures, alkenes, methyl groups, hydrogen atoms, carbon-carbon double bond, organic chemistry, stereochemistry\n",
      "for_display len: 11896\n",
      "texts len: 1\n",
      "metadatas len: 1\n",
      "embeddings len: 1\n",
      "begin to save in vectore store\n"
     ]
    },
    {
     "name": "stderr",
     "output_type": "stream",
     "text": [
      "  7%|▋         | 115/1730 [1:37:29<27:53:05, 62.16s/it]"
     ]
    },
    {
     "name": "stdout",
     "output_type": "stream",
     "text": [
      "finish save in vectore store: wy_demo_image_2\n",
      "sleep 60 sec\n",
      "(858, 389)\n",
      "resize image size: (800, 362)\n",
      "store image size: (480, 217)\n",
      "for_llm len: 29404\n",
      "max_tokens: 2048\n",
      "modelId: anthropic.claude-3-5-sonnet-20240620-v1:0\n",
      "temperature: 0.01\n",
      "language: english\n",
      "response: music notation, cello tuning, multiple choice, musical clef, whole notes, bass clef, treble clef\n",
      "for_display len: 13824\n",
      "texts len: 1\n",
      "metadatas len: 1\n",
      "embeddings len: 1\n",
      "begin to save in vectore store\n"
     ]
    },
    {
     "name": "stderr",
     "output_type": "stream",
     "text": [
      "  7%|▋         | 116/1730 [1:38:31<27:48:13, 62.02s/it]"
     ]
    },
    {
     "name": "stdout",
     "output_type": "stream",
     "text": [
      "finish save in vectore store: wy_demo_image_2\n",
      "sleep 60 sec\n",
      "(880, 600)\n",
      "resize image size: (800, 545)\n",
      "store image size: (480, 327)\n",
      "for_llm len: 64864\n",
      "max_tokens: 2048\n",
      "modelId: anthropic.claude-3-5-sonnet-20240620-v1:0\n",
      "temperature: 0.01\n",
      "language: english\n",
      "response: Critical theory, sociological perspective, power, inequality, social justice, social movements, government policies, social media, cultural norms, economic consequences, historical context\n",
      "for_display len: 28920\n",
      "texts len: 1\n",
      "metadatas len: 1\n",
      "embeddings len: 1\n",
      "begin to save in vectore store\n"
     ]
    },
    {
     "name": "stderr",
     "output_type": "stream",
     "text": [
      "  7%|▋         | 117/1730 [1:39:33<27:48:38, 62.07s/it]"
     ]
    },
    {
     "name": "stdout",
     "output_type": "stream",
     "text": [
      "finish save in vectore store: wy_demo_image_2\n",
      "sleep 60 sec\n",
      "(842, 957)\n",
      "resize image size: (800, 909)\n",
      "store image size: (480, 545)\n",
      "for_llm len: 91284\n",
      "max_tokens: 2048\n",
      "modelId: anthropic.claude-3-5-sonnet-20240620-v1:0\n",
      "temperature: 0.01\n",
      "language: english\n",
      "response: pipe flow, laminar flow, velocity profile, mass flow rate, average velocity, fluid dynamics, multiple choice question, physics problem\n",
      "for_display len: 42968\n",
      "texts len: 1\n",
      "metadatas len: 1\n",
      "embeddings len: 1\n",
      "begin to save in vectore store\n"
     ]
    },
    {
     "name": "stderr",
     "output_type": "stream",
     "text": [
      "  7%|▋         | 118/1730 [1:40:35<27:49:06, 62.13s/it]"
     ]
    },
    {
     "name": "stdout",
     "output_type": "stream",
     "text": [
      "finish save in vectore store: wy_demo_image_2\n",
      "sleep 60 sec\n",
      "(2448, 1784)\n",
      "resize image size: (800, 583)\n",
      "store image size: (480, 349)\n",
      "for_llm len: 61676\n",
      "max_tokens: 2048\n",
      "modelId: anthropic.claude-3-5-sonnet-20240620-v1:0\n",
      "temperature: 0.01\n",
      "language: english\n",
      "response: machine learning, types of learning, supervised learning, unsupervised learning, classification, regression, clustering, algorithms, decision trees, neural networks, diagram, options\n",
      "for_display len: 29044\n",
      "texts len: 1\n",
      "metadatas len: 1\n",
      "embeddings len: 1\n",
      "begin to save in vectore store\n"
     ]
    },
    {
     "name": "stderr",
     "output_type": "stream",
     "text": [
      "  7%|▋         | 119/1730 [1:41:37<27:48:41, 62.15s/it]"
     ]
    },
    {
     "name": "stdout",
     "output_type": "stream",
     "text": [
      "finish save in vectore store: wy_demo_image_2\n",
      "sleep 60 sec\n",
      "(783, 775)\n",
      "store image size: (480, 475)\n",
      "for_llm len: 85328\n",
      "max_tokens: 2048\n",
      "modelId: anthropic.claude-3-5-sonnet-20240620-v1:0\n",
      "temperature: 0.01\n",
      "language: english\n",
      "response: green leaves, yellow color pattern, plant disease, multiple choice question, soil background, abnormal leaf color, plant health issue\n",
      "for_display len: 35104\n",
      "texts len: 1\n",
      "metadatas len: 1\n",
      "embeddings len: 1\n",
      "begin to save in vectore store\n"
     ]
    },
    {
     "name": "stderr",
     "output_type": "stream",
     "text": [
      "  7%|▋         | 120/1730 [1:42:39<27:47:04, 62.13s/it]"
     ]
    },
    {
     "name": "stdout",
     "output_type": "stream",
     "text": [
      "finish save in vectore store: wy_demo_image_2\n",
      "sleep 60 sec\n",
      "(845, 938)\n",
      "resize image size: (800, 888)\n",
      "store image size: (480, 532)\n",
      "for_llm len: 146240\n",
      "max_tokens: 2048\n",
      "modelId: anthropic.claude-3-5-sonnet-20240620-v1:0\n",
      "temperature: 0.01\n",
      "language: english\n",
      "response: music sheet, harmony, modality, melodic part, bass part, musical notation, piano score, multiple choice question, music theory\n",
      "for_display len: 66400\n",
      "texts len: 1\n",
      "metadatas len: 1\n",
      "embeddings len: 1\n",
      "begin to save in vectore store\n"
     ]
    },
    {
     "name": "stderr",
     "output_type": "stream",
     "text": [
      "  7%|▋         | 121/1730 [1:43:42<27:46:15, 62.14s/it]"
     ]
    },
    {
     "name": "stdout",
     "output_type": "stream",
     "text": [
      "finish save in vectore store: wy_demo_image_2\n",
      "sleep 60 sec\n",
      "(1280, 960)\n",
      "resize image size: (800, 600)\n",
      "store image size: (480, 360)\n",
      "for_llm len: 77744\n",
      "max_tokens: 2048\n",
      "modelId: anthropic.claude-3-5-sonnet-20240620-v1:0\n",
      "temperature: 0.01\n",
      "language: english\n",
      "response: crow behavior\n",
      "whale carcass\n",
      "flight paths\n",
      "options\n",
      "multiple choice question\n",
      "biology\n",
      "animal behavior\n",
      "scavenging\n",
      "aerial view\n",
      "dropping height\n",
      "for_display len: 32040\n",
      "texts len: 1\n",
      "metadatas len: 1\n",
      "embeddings len: 1\n",
      "begin to save in vectore store\n"
     ]
    },
    {
     "name": "stderr",
     "output_type": "stream",
     "text": [
      "  7%|▋         | 122/1730 [1:44:44<27:46:40, 62.19s/it]"
     ]
    },
    {
     "name": "stdout",
     "output_type": "stream",
     "text": [
      "finish save in vectore store: wy_demo_image_2\n",
      "sleep 60 sec\n",
      "(849, 567)\n",
      "resize image size: (800, 534)\n",
      "store image size: (480, 320)\n",
      "for_llm len: 90484\n",
      "max_tokens: 2048\n",
      "modelId: anthropic.claude-3-5-sonnet-20240620-v1:0\n",
      "temperature: 0.01\n",
      "language: english\n",
      "response: minority groups, defining feature, lack of power, discrimination, social categories, characteristics, examples\n",
      "for_display len: 37064\n",
      "texts len: 1\n",
      "metadatas len: 1\n",
      "embeddings len: 1\n",
      "begin to save in vectore store\n"
     ]
    },
    {
     "name": "stderr",
     "output_type": "stream",
     "text": [
      "  7%|▋         | 123/1730 [1:45:46<27:43:08, 62.10s/it]"
     ]
    },
    {
     "name": "stdout",
     "output_type": "stream",
     "text": [
      "finish save in vectore store: wy_demo_image_2\n",
      "sleep 60 sec\n",
      "(817, 549)\n",
      "resize image size: (800, 537)\n",
      "store image size: (480, 322)\n",
      "for_llm len: 62560\n",
      "max_tokens: 2048\n",
      "modelId: anthropic.claude-3-5-sonnet-20240620-v1:0\n",
      "temperature: 0.01\n",
      "language: english\n",
      "response: medical image, histology, purple stained tissue, multiple fragments, tumor, multiple choice question, neurofibromatosis, meningothelial, vascular lesions\n",
      "for_display len: 29432\n",
      "texts len: 1\n",
      "metadatas len: 1\n",
      "embeddings len: 1\n",
      "begin to save in vectore store\n"
     ]
    },
    {
     "name": "stderr",
     "output_type": "stream",
     "text": [
      "  7%|▋         | 124/1730 [1:46:48<27:43:59, 62.17s/it]"
     ]
    },
    {
     "name": "stdout",
     "output_type": "stream",
     "text": [
      "finish save in vectore store: wy_demo_image_2\n",
      "sleep 60 sec\n",
      "(843, 860)\n",
      "resize image size: (800, 816)\n",
      "store image size: (480, 489)\n",
      "for_llm len: 51532\n",
      "max_tokens: 2048\n",
      "modelId: anthropic.claude-3-5-sonnet-20240620-v1:0\n",
      "temperature: 0.01\n",
      "language: english\n",
      "response: physics problem, ball collision, wall, angle, impulse, mass, velocity, trigonometry, multiple choice\n",
      "for_display len: 24056\n",
      "texts len: 1\n",
      "metadatas len: 1\n",
      "embeddings len: 1\n",
      "begin to save in vectore store\n"
     ]
    },
    {
     "name": "stderr",
     "output_type": "stream",
     "text": [
      "  7%|▋         | 125/1730 [1:47:50<27:42:22, 62.14s/it]"
     ]
    },
    {
     "name": "stdout",
     "output_type": "stream",
     "text": [
      "finish save in vectore store: wy_demo_image_2\n",
      "sleep 60 sec\n",
      "(850, 682)\n",
      "resize image size: (800, 641)\n",
      "store image size: (480, 385)\n",
      "for_llm len: 60944\n",
      "max_tokens: 2048\n",
      "modelId: anthropic.claude-3-5-sonnet-20240620-v1:0\n",
      "temperature: 0.01\n",
      "language: english\n",
      "response: graph, injuries and illnesses, corporation, workers, regression line, 2003-2011, least-squares, prediction\n",
      "for_display len: 29036\n",
      "texts len: 1\n",
      "metadatas len: 1\n",
      "embeddings len: 1\n",
      "begin to save in vectore store\n"
     ]
    },
    {
     "name": "stderr",
     "output_type": "stream",
     "text": [
      "  7%|▋         | 126/1730 [1:48:52<27:40:02, 62.10s/it]"
     ]
    },
    {
     "name": "stdout",
     "output_type": "stream",
     "text": [
      "finish save in vectore store: wy_demo_image_2\n",
      "sleep 60 sec\n",
      "(886, 343)\n",
      "resize image size: (800, 309)\n",
      "store image size: (480, 185)\n",
      "for_llm len: 35572\n",
      "max_tokens: 2048\n",
      "modelId: anthropic.claude-3-5-sonnet-20240620-v1:0\n",
      "temperature: 0.01\n",
      "language: english\n",
      "response: technical drawing, orthographic views, mechanical part, multiple choice question, top view, side views\n",
      "for_display len: 16948\n",
      "texts len: 1\n",
      "metadatas len: 1\n",
      "embeddings len: 1\n",
      "begin to save in vectore store\n"
     ]
    },
    {
     "name": "stderr",
     "output_type": "stream",
     "text": [
      "  7%|▋         | 127/1730 [1:49:54<27:38:35, 62.08s/it]"
     ]
    },
    {
     "name": "stdout",
     "output_type": "stream",
     "text": [
      "finish save in vectore store: wy_demo_image_2\n",
      "sleep 60 sec\n",
      "(2448, 2372)\n",
      "resize image size: (800, 775)\n",
      "store image size: (480, 465)\n",
      "for_llm len: 142688\n",
      "max_tokens: 2048\n",
      "modelId: anthropic.claude-3-5-sonnet-20240620-v1:0\n",
      "temperature: 0.01\n",
      "language: english\n",
      "response: Seven Years' War, Revolutionary War, causal link, British colonies, independence, taxation, Stamp Act, economic instability, military experience, colonial militia, Sons of Liberty, British foreign policy, debt, colonial resentment\n",
      "for_display len: 58664\n",
      "texts len: 1\n",
      "metadatas len: 1\n",
      "embeddings len: 1\n",
      "begin to save in vectore store\n"
     ]
    },
    {
     "name": "stderr",
     "output_type": "stream",
     "text": [
      "  7%|▋         | 128/1730 [1:50:57<27:45:05, 62.36s/it]"
     ]
    },
    {
     "name": "stdout",
     "output_type": "stream",
     "text": [
      "finish save in vectore store: wy_demo_image_2\n",
      "sleep 60 sec\n",
      "(851, 569)\n",
      "resize image size: (800, 534)\n",
      "store image size: (480, 320)\n",
      "for_llm len: 58992\n",
      "max_tokens: 2048\n",
      "modelId: anthropic.claude-3-5-sonnet-20240620-v1:0\n",
      "temperature: 0.01\n",
      "language: english\n",
      "response: accounting problem, income statement, patio furniture company, net income calculation, multiple choice question\n",
      "for_display len: 26568\n",
      "texts len: 1\n",
      "metadatas len: 1\n",
      "embeddings len: 1\n",
      "begin to save in vectore store\n"
     ]
    },
    {
     "name": "stderr",
     "output_type": "stream",
     "text": [
      "  7%|▋         | 129/1730 [1:51:59<27:40:13, 62.22s/it]"
     ]
    },
    {
     "name": "stdout",
     "output_type": "stream",
     "text": [
      "finish save in vectore store: wy_demo_image_2\n",
      "sleep 60 sec\n",
      "(1280, 960)\n",
      "resize image size: (800, 600)\n",
      "store image size: (480, 360)\n",
      "for_llm len: 95740\n",
      "max_tokens: 2048\n",
      "modelId: anthropic.claude-3-5-sonnet-20240620-v1:0\n",
      "temperature: 0.01\n",
      "language: english\n",
      "response: ancient art, nature depictions, comparison, multiple choice question, attitudes toward nature, relief carving, ink drawing, animals, chariots\n",
      "for_display len: 35392\n",
      "texts len: 1\n",
      "metadatas len: 1\n",
      "embeddings len: 1\n",
      "begin to save in vectore store\n"
     ]
    },
    {
     "name": "stderr",
     "output_type": "stream",
     "text": [
      "  8%|▊         | 130/1730 [1:53:02<27:42:19, 62.34s/it]"
     ]
    },
    {
     "name": "stdout",
     "output_type": "stream",
     "text": [
      "finish save in vectore store: wy_demo_image_2\n",
      "sleep 60 sec\n",
      "(920, 819)\n",
      "resize image size: (800, 712)\n",
      "store image size: (480, 427)\n",
      "for_llm len: 65776\n",
      "max_tokens: 2048\n",
      "modelId: anthropic.claude-3-5-sonnet-20240620-v1:0\n",
      "temperature: 0.01\n",
      "language: english\n",
      "response: magnetic tape, pulleys, computer frame, acceleration ratio, radius, physics problem, multiple choice question\n",
      "for_display len: 31544\n",
      "texts len: 1\n",
      "metadatas len: 1\n",
      "embeddings len: 1\n",
      "begin to save in vectore store\n"
     ]
    },
    {
     "name": "stderr",
     "output_type": "stream",
     "text": [
      "  8%|▊         | 131/1730 [1:54:04<27:37:58, 62.21s/it]"
     ]
    },
    {
     "name": "stdout",
     "output_type": "stream",
     "text": [
      "finish save in vectore store: wy_demo_image_2\n",
      "sleep 60 sec\n",
      "(703, 599)\n",
      "store image size: (480, 408)\n",
      "for_llm len: 69952\n",
      "max_tokens: 2048\n",
      "modelId: anthropic.claude-3-5-sonnet-20240620-v1:0\n",
      "temperature: 0.01\n",
      "language: english\n",
      "response: sleeve types, fashion, blouse, peplum top, blue shirt, red belt, garden background, multiple choice question\n",
      "for_display len: 37600\n",
      "texts len: 1\n",
      "metadatas len: 1\n",
      "embeddings len: 1\n",
      "begin to save in vectore store\n"
     ]
    },
    {
     "name": "stderr",
     "output_type": "stream",
     "text": [
      "  8%|▊         | 132/1730 [1:55:06<27:38:11, 62.26s/it]"
     ]
    },
    {
     "name": "stdout",
     "output_type": "stream",
     "text": [
      "finish save in vectore store: wy_demo_image_2\n",
      "sleep 60 sec\n",
      "(2448, 2372)\n",
      "resize image size: (800, 775)\n",
      "store image size: (480, 465)\n",
      "for_llm len: 98868\n",
      "max_tokens: 2048\n",
      "modelId: anthropic.claude-3-5-sonnet-20240620-v1:0\n",
      "temperature: 0.01\n",
      "language: english\n",
      "response: CD4+ T helper cells, healthy volunteers, immunocompromised patients, t-test, negatively skewed distribution, statistical analysis\n",
      "for_display len: 47932\n",
      "texts len: 1\n",
      "metadatas len: 1\n",
      "embeddings len: 1\n",
      "begin to save in vectore store\n"
     ]
    },
    {
     "name": "stderr",
     "output_type": "stream",
     "text": [
      "  8%|▊         | 133/1730 [1:56:09<27:40:21, 62.38s/it]"
     ]
    },
    {
     "name": "stdout",
     "output_type": "stream",
     "text": [
      "finish save in vectore store: wy_demo_image_2\n",
      "sleep 60 sec\n",
      "(905, 1083)\n",
      "resize image size: (800, 957)\n",
      "store image size: (480, 574)\n",
      "for_llm len: 144140\n",
      "max_tokens: 2048\n",
      "modelId: anthropic.claude-3-5-sonnet-20240620-v1:0\n",
      "temperature: 0.01\n",
      "language: english\n",
      "response: machine tool, mass, moment of inertia, elastic supports, stiffness, natural frequencies, mode shapes, options, radians per second\n",
      "for_display len: 67316\n",
      "texts len: 1\n",
      "metadatas len: 1\n",
      "embeddings len: 1\n",
      "begin to save in vectore store\n"
     ]
    },
    {
     "name": "stderr",
     "output_type": "stream",
     "text": [
      "  8%|▊         | 134/1730 [1:57:11<27:39:35, 62.39s/it]"
     ]
    },
    {
     "name": "stdout",
     "output_type": "stream",
     "text": [
      "finish save in vectore store: wy_demo_image_2\n",
      "sleep 60 sec\n",
      "(2340, 2090)\n",
      "resize image size: (800, 714)\n",
      "store image size: (480, 428)\n",
      "for_llm len: 51832\n",
      "max_tokens: 2048\n",
      "modelId: anthropic.claude-3-5-sonnet-20240620-v1:0\n",
      "temperature: 0.01\n",
      "language: english\n",
      "response: floor plan, architectural drawing, grid layout, columns, post and lintel system, structural options\n",
      "for_display len: 24552\n",
      "texts len: 1\n",
      "metadatas len: 1\n",
      "embeddings len: 1\n",
      "begin to save in vectore store\n"
     ]
    },
    {
     "name": "stderr",
     "output_type": "stream",
     "text": [
      "  8%|▊         | 135/1730 [1:58:13<27:36:41, 62.32s/it]"
     ]
    },
    {
     "name": "stdout",
     "output_type": "stream",
     "text": [
      "finish save in vectore store: wy_demo_image_2\n",
      "sleep 60 sec\n",
      "(2688, 2372)\n",
      "resize image size: (800, 705)\n",
      "store image size: (480, 423)\n",
      "for_llm len: 113316\n",
      "max_tokens: 2048\n",
      "modelId: anthropic.claude-3-5-sonnet-20240620-v1:0\n",
      "temperature: 0.01\n",
      "language: english\n",
      "response: finance problem, cash flow, rate of return, initial amount, annual cash flow, multiple choice question, investment calculation, years of return\n",
      "for_display len: 52964\n",
      "texts len: 1\n",
      "metadatas len: 1\n",
      "embeddings len: 1\n",
      "begin to save in vectore store\n"
     ]
    },
    {
     "name": "stderr",
     "output_type": "stream",
     "text": [
      "  8%|▊         | 136/1730 [1:59:16<27:36:39, 62.36s/it]"
     ]
    },
    {
     "name": "stdout",
     "output_type": "stream",
     "text": [
      "finish save in vectore store: wy_demo_image_2\n",
      "sleep 60 sec\n",
      "(2340, 1650)\n",
      "resize image size: (800, 564)\n",
      "store image size: (480, 338)\n",
      "for_llm len: 41364\n",
      "max_tokens: 2048\n",
      "modelId: anthropic.claude-3-5-sonnet-20240620-v1:0\n",
      "temperature: 0.01\n",
      "language: english\n",
      "response: Egyptian timeline, Menes, Lower Egypt, Ramses the Great, ancient history, multiple choice question\n",
      "for_display len: 18468\n",
      "texts len: 1\n",
      "metadatas len: 1\n",
      "embeddings len: 1\n",
      "begin to save in vectore store\n"
     ]
    },
    {
     "name": "stderr",
     "output_type": "stream",
     "text": [
      "  8%|▊         | 137/1730 [2:00:18<27:33:40, 62.29s/it]"
     ]
    },
    {
     "name": "stdout",
     "output_type": "stream",
     "text": [
      "finish save in vectore store: wy_demo_image_2\n",
      "sleep 60 sec\n",
      "(2850, 2296)\n",
      "resize image size: (800, 644)\n",
      "store image size: (480, 386)\n",
      "for_llm len: 77296\n",
      "max_tokens: 2048\n",
      "modelId: anthropic.claude-3-5-sonnet-20240620-v1:0\n",
      "temperature: 0.01\n",
      "language: english\n",
      "response: hole, crater, ground, grass, circular, deep, geological formation\n",
      "for_display len: 33424\n",
      "texts len: 1\n",
      "metadatas len: 1\n",
      "embeddings len: 1\n",
      "begin to save in vectore store\n"
     ]
    },
    {
     "name": "stderr",
     "output_type": "stream",
     "text": [
      "  8%|▊         | 138/1730 [2:01:20<27:32:35, 62.28s/it]"
     ]
    },
    {
     "name": "stdout",
     "output_type": "stream",
     "text": [
      "finish save in vectore store: wy_demo_image_2\n",
      "sleep 60 sec\n",
      "(2850, 2296)\n",
      "resize image size: (800, 644)\n",
      "store image size: (480, 386)\n",
      "for_llm len: 37116\n",
      "max_tokens: 2048\n",
      "modelId: anthropic.claude-3-5-sonnet-20240620-v1:0\n",
      "temperature: 0.01\n",
      "language: english\n",
      "response: electrical circuit, resistors, ammeter, resistance calculation, multiple choice question\n",
      "for_display len: 16776\n",
      "texts len: 1\n",
      "metadatas len: 1\n",
      "embeddings len: 1\n",
      "begin to save in vectore store\n"
     ]
    },
    {
     "name": "stderr",
     "output_type": "stream",
     "text": [
      "  8%|▊         | 139/1730 [2:02:22<27:29:50, 62.22s/it]"
     ]
    },
    {
     "name": "stdout",
     "output_type": "stream",
     "text": [
      "finish save in vectore store: wy_demo_image_2\n",
      "sleep 60 sec\n",
      "(2340, 1650)\n",
      "resize image size: (800, 564)\n",
      "store image size: (480, 338)\n",
      "for_llm len: 47220\n",
      "max_tokens: 2048\n",
      "modelId: anthropic.claude-3-5-sonnet-20240620-v1:0\n",
      "temperature: 0.01\n",
      "language: english\n",
      "response: stock comparison, financial data, index model regression, R-square, residual standard deviation, excess returns, investment analysis\n",
      "for_display len: 19968\n",
      "texts len: 1\n",
      "metadatas len: 1\n",
      "embeddings len: 1\n",
      "begin to save in vectore store\n"
     ]
    },
    {
     "name": "stderr",
     "output_type": "stream",
     "text": [
      "  8%|▊         | 140/1730 [2:03:25<27:31:45, 62.33s/it]"
     ]
    },
    {
     "name": "stdout",
     "output_type": "stream",
     "text": [
      "finish save in vectore store: wy_demo_image_2\n",
      "sleep 60 sec\n",
      "(846, 396)\n",
      "resize image size: (800, 374)\n",
      "store image size: (480, 224)\n",
      "for_llm len: 58992\n",
      "max_tokens: 2048\n",
      "modelId: anthropic.claude-3-5-sonnet-20240620-v1:0\n",
      "temperature: 0.01\n",
      "language: english\n",
      "response: CPU scheduling, Gantt chart, preemptive shortest-job-first, process execution, burst times\n",
      "for_display len: 26836\n",
      "texts len: 1\n",
      "metadatas len: 1\n",
      "embeddings len: 1\n",
      "begin to save in vectore store\n"
     ]
    },
    {
     "name": "stderr",
     "output_type": "stream",
     "text": [
      "  8%|▊         | 141/1730 [2:04:27<27:29:04, 62.27s/it]"
     ]
    },
    {
     "name": "stdout",
     "output_type": "stream",
     "text": [
      "finish save in vectore store: wy_demo_image_2\n",
      "sleep 60 sec\n",
      "(3732, 1884)\n",
      "resize image size: (800, 403)\n",
      "store image size: (480, 242)\n",
      "for_llm len: 47048\n",
      "max_tokens: 2048\n",
      "modelId: anthropic.claude-3-5-sonnet-20240620-v1:0\n",
      "temperature: 0.01\n",
      "language: english\n",
      "response: Chinese communist rally, large crowd, red flags, Mao Zedong, political gathering, propaganda\n",
      "for_display len: 19704\n",
      "texts len: 1\n",
      "metadatas len: 1\n",
      "embeddings len: 1\n",
      "begin to save in vectore store\n"
     ]
    },
    {
     "name": "stderr",
     "output_type": "stream",
     "text": [
      "  8%|▊         | 142/1730 [2:05:29<27:29:47, 62.33s/it]"
     ]
    },
    {
     "name": "stdout",
     "output_type": "stream",
     "text": [
      "finish save in vectore store: wy_demo_image_2\n",
      "sleep 60 sec\n",
      "(3732, 1884)\n",
      "resize image size: (800, 403)\n",
      "store image size: (480, 242)\n",
      "for_llm len: 28228\n",
      "max_tokens: 2048\n",
      "modelId: anthropic.claude-3-5-sonnet-20240620-v1:0\n",
      "temperature: 0.01\n",
      "language: english\n",
      "response: electric circuit, battery, fuse, resistors, voltmeter, voltage reading, multiple choice question\n",
      "for_display len: 12404\n",
      "texts len: 1\n",
      "metadatas len: 1\n",
      "embeddings len: 1\n",
      "begin to save in vectore store\n"
     ]
    },
    {
     "name": "stderr",
     "output_type": "stream",
     "text": [
      "  8%|▊         | 143/1730 [2:06:32<27:27:36, 62.29s/it]"
     ]
    },
    {
     "name": "stdout",
     "output_type": "stream",
     "text": [
      "finish save in vectore store: wy_demo_image_2\n",
      "sleep 60 sec\n",
      "(2340, 2090)\n",
      "resize image size: (800, 714)\n",
      "store image size: (480, 428)\n",
      "for_llm len: 131800\n",
      "max_tokens: 2048\n",
      "modelId: anthropic.claude-3-5-sonnet-20240620-v1:0\n",
      "temperature: 0.01\n",
      "language: english\n",
      "response: base line measurement, tape catenary, length correction, temperature coefficient, elastic modulus, Earth radius, observed length, mean temperature, reduced levels, multiple choice options\n",
      "for_display len: 60032\n",
      "texts len: 1\n",
      "metadatas len: 1\n",
      "embeddings len: 1\n",
      "begin to save in vectore store\n"
     ]
    },
    {
     "name": "stderr",
     "output_type": "stream",
     "text": [
      "  8%|▊         | 144/1730 [2:07:34<27:28:46, 62.37s/it]"
     ]
    },
    {
     "name": "stdout",
     "output_type": "stream",
     "text": [
      "finish save in vectore store: wy_demo_image_2\n",
      "sleep 60 sec\n",
      "(2804, 1998)\n",
      "resize image size: (800, 570)\n",
      "store image size: (480, 342)\n",
      "for_llm len: 51756\n",
      "max_tokens: 2048\n",
      "modelId: anthropic.claude-3-5-sonnet-20240620-v1:0\n",
      "temperature: 0.01\n",
      "language: english\n",
      "response: painting, landscape, cypress tree, swirling sky, post-impressionist style, black and white image, multiple choice question, artist attribution\n",
      "for_display len: 21848\n",
      "texts len: 1\n",
      "metadatas len: 1\n",
      "embeddings len: 1\n",
      "begin to save in vectore store\n"
     ]
    },
    {
     "name": "stderr",
     "output_type": "stream",
     "text": [
      "  8%|▊         | 145/1730 [2:08:37<27:28:10, 62.39s/it]"
     ]
    },
    {
     "name": "stdout",
     "output_type": "stream",
     "text": [
      "finish save in vectore store: wy_demo_image_2\n",
      "sleep 60 sec\n",
      "(853, 961)\n",
      "resize image size: (800, 901)\n",
      "store image size: (480, 540)\n",
      "for_llm len: 116424\n",
      "max_tokens: 2048\n",
      "modelId: anthropic.claude-3-5-sonnet-20240620-v1:0\n",
      "temperature: 0.01\n",
      "language: english\n",
      "response: Buddha statue, Mahabodhi Temple, India, Emperor Ashoka, 3rd century BCE, religious imagery, political power, art, architecture, propaganda\n",
      "for_display len: 53320\n",
      "texts len: 1\n",
      "metadatas len: 1\n",
      "embeddings len: 1\n",
      "begin to save in vectore store\n"
     ]
    },
    {
     "name": "stderr",
     "output_type": "stream",
     "text": [
      "  8%|▊         | 146/1730 [2:09:39<27:25:08, 62.32s/it]"
     ]
    },
    {
     "name": "stdout",
     "output_type": "stream",
     "text": [
      "finish save in vectore store: wy_demo_image_2\n",
      "sleep 60 sec\n",
      "(3830, 2220)\n",
      "resize image size: (800, 463)\n",
      "store image size: (480, 278)\n",
      "for_llm len: 38520\n",
      "max_tokens: 2048\n",
      "modelId: anthropic.claude-3-5-sonnet-20240620-v1:0\n",
      "temperature: 0.01\n",
      "language: english\n",
      "response: wind tunnel, pressure measurement, sea-level air, test section, pressure transducer, absolute pressure, model nose, multiple choice question\n",
      "for_display len: 18488\n",
      "texts len: 1\n",
      "metadatas len: 1\n",
      "embeddings len: 1\n",
      "begin to save in vectore store\n"
     ]
    },
    {
     "name": "stderr",
     "output_type": "stream",
     "text": [
      "  8%|▊         | 147/1730 [2:10:42<27:27:27, 62.44s/it]"
     ]
    },
    {
     "name": "stdout",
     "output_type": "stream",
     "text": [
      "finish save in vectore store: wy_demo_image_2\n",
      "sleep 60 sec\n",
      "(2604, 2360)\n",
      "resize image size: (800, 725)\n",
      "store image size: (480, 435)\n",
      "for_llm len: 66708\n",
      "max_tokens: 2048\n",
      "modelId: anthropic.claude-3-5-sonnet-20240620-v1:0\n",
      "temperature: 0.01\n",
      "language: english\n",
      "response: break-even analysis, price increase, Baghdad Company, financial statement, contribution margin, fixed costs, variable costs, sales price, units sold, net income\n",
      "for_display len: 28748\n",
      "texts len: 1\n",
      "metadatas len: 1\n",
      "embeddings len: 1\n",
      "begin to save in vectore store\n"
     ]
    },
    {
     "name": "stderr",
     "output_type": "stream",
     "text": [
      "  9%|▊         | 148/1730 [2:11:44<27:24:54, 62.39s/it]"
     ]
    },
    {
     "name": "stdout",
     "output_type": "stream",
     "text": [
      "finish save in vectore store: wy_demo_image_2\n",
      "sleep 60 sec\n",
      "(3854, 2128)\n",
      "resize image size: (800, 441)\n",
      "store image size: (480, 265)\n",
      "for_llm len: 40976\n",
      "max_tokens: 2048\n",
      "modelId: anthropic.claude-3-5-sonnet-20240620-v1:0\n",
      "temperature: 0.01\n",
      "language: english\n",
      "response: Common sicknesses, stigma, mental health, social distancing, virus icons, people on steps, multiple choice question\n",
      "for_display len: 18168\n",
      "texts len: 1\n",
      "metadatas len: 1\n",
      "embeddings len: 1\n",
      "begin to save in vectore store\n"
     ]
    },
    {
     "name": "stderr",
     "output_type": "stream",
     "text": [
      "  9%|▊         | 149/1730 [2:12:47<27:32:03, 62.70s/it]"
     ]
    },
    {
     "name": "stdout",
     "output_type": "stream",
     "text": [
      "finish save in vectore store: wy_demo_image_2\n",
      "sleep 60 sec\n",
      "(3854, 2128)\n",
      "resize image size: (800, 441)\n",
      "store image size: (480, 265)\n",
      "for_llm len: 48708\n",
      "max_tokens: 2048\n",
      "modelId: anthropic.claude-3-5-sonnet-20240620-v1:0\n",
      "temperature: 0.01\n",
      "language: english\n",
      "response: electrical circuits, capacitors, inductors, voltage expressions, multiple choice question, notebook page, circuit diagrams, exponential decay\n",
      "for_display len: 23316\n",
      "texts len: 1\n",
      "metadatas len: 1\n",
      "embeddings len: 1\n",
      "begin to save in vectore store\n"
     ]
    },
    {
     "name": "stderr",
     "output_type": "stream",
     "text": [
      "  9%|▊         | 150/1730 [2:13:49<27:27:45, 62.57s/it]"
     ]
    },
    {
     "name": "stdout",
     "output_type": "stream",
     "text": [
      "finish save in vectore store: wy_demo_image_2\n",
      "sleep 60 sec\n",
      "(3854, 2128)\n",
      "resize image size: (800, 441)\n",
      "store image size: (480, 265)\n",
      "for_llm len: 40348\n",
      "max_tokens: 2048\n",
      "modelId: anthropic.claude-3-5-sonnet-20240620-v1:0\n",
      "temperature: 0.01\n",
      "language: english\n",
      "response: music notation, time signature, 2/4 time, multiple choice question, sheet music, rhythm patterns\n",
      "for_display len: 19156\n",
      "texts len: 1\n",
      "metadatas len: 1\n",
      "embeddings len: 1\n",
      "begin to save in vectore store\n"
     ]
    },
    {
     "name": "stderr",
     "output_type": "stream",
     "text": [
      "  9%|▊         | 151/1730 [2:14:52<27:22:53, 62.43s/it]"
     ]
    },
    {
     "name": "stdout",
     "output_type": "stream",
     "text": [
      "finish save in vectore store: wy_demo_image_2\n",
      "sleep 60 sec\n",
      "(842, 654)\n",
      "resize image size: (800, 621)\n",
      "store image size: (480, 372)\n",
      "for_llm len: 38716\n",
      "max_tokens: 2048\n",
      "modelId: anthropic.claude-3-5-sonnet-20240620-v1:0\n",
      "temperature: 0.01\n",
      "language: english\n",
      "response: chemistry question, saturated hydrocarbon, molecular structures, alkene, alkane, cycloalkane, multiple choice\n",
      "for_display len: 19736\n",
      "texts len: 1\n",
      "metadatas len: 1\n",
      "embeddings len: 1\n",
      "begin to save in vectore store\n"
     ]
    },
    {
     "name": "stderr",
     "output_type": "stream",
     "text": [
      "  9%|▉         | 152/1730 [2:15:53<27:17:06, 62.25s/it]"
     ]
    },
    {
     "name": "stdout",
     "output_type": "stream",
     "text": [
      "finish save in vectore store: wy_demo_image_2\n",
      "sleep 60 sec\n",
      "(3854, 2128)\n",
      "resize image size: (800, 441)\n",
      "store image size: (480, 265)\n",
      "for_llm len: 69828\n",
      "max_tokens: 2048\n",
      "modelId: anthropic.claude-3-5-sonnet-20240620-v1:0\n",
      "temperature: 0.01\n",
      "language: english\n",
      "response: DFA diagram, state machine, multiple choice question, notebook paper, minimal DFA\n",
      "for_display len: 25540\n",
      "texts len: 1\n",
      "metadatas len: 1\n",
      "embeddings len: 1\n",
      "begin to save in vectore store\n"
     ]
    },
    {
     "name": "stderr",
     "output_type": "stream",
     "text": [
      "  9%|▉         | 153/1730 [2:16:56<27:20:21, 62.41s/it]"
     ]
    },
    {
     "name": "stdout",
     "output_type": "stream",
     "text": [
      "finish save in vectore store: wy_demo_image_2\n",
      "sleep 60 sec\n",
      "(3854, 2128)\n",
      "resize image size: (800, 441)\n",
      "store image size: (480, 265)\n",
      "for_llm len: 53808\n",
      "max_tokens: 2048\n",
      "modelId: anthropic.claude-3-5-sonnet-20240620-v1:0\n",
      "temperature: 0.01\n",
      "language: english\n",
      "response: audiobook, ebook, digital book, sound icon, book icon, reading, listening, electronic publication\n",
      "for_display len: 27044\n",
      "texts len: 1\n",
      "metadatas len: 1\n",
      "embeddings len: 1\n",
      "begin to save in vectore store\n"
     ]
    },
    {
     "name": "stderr",
     "output_type": "stream",
     "text": [
      "  9%|▉         | 154/1730 [2:17:59<27:20:36, 62.46s/it]"
     ]
    },
    {
     "name": "stdout",
     "output_type": "stream",
     "text": [
      "finish save in vectore store: wy_demo_image_2\n",
      "sleep 60 sec\n",
      "(2602, 2128)\n",
      "resize image size: (800, 654)\n",
      "store image size: (480, 392)\n",
      "for_llm len: 39460\n",
      "max_tokens: 2048\n",
      "modelId: anthropic.claude-3-5-sonnet-20240620-v1:0\n",
      "temperature: 0.01\n",
      "language: english\n",
      "response: stakeholder mapping, organization, puzzle pieces, circular diagram, business concept\n",
      "for_display len: 17228\n",
      "texts len: 1\n",
      "metadatas len: 1\n",
      "embeddings len: 1\n",
      "begin to save in vectore store\n"
     ]
    },
    {
     "name": "stderr",
     "output_type": "stream",
     "text": [
      "  9%|▉         | 155/1730 [2:19:01<27:17:01, 62.36s/it]"
     ]
    },
    {
     "name": "stdout",
     "output_type": "stream",
     "text": [
      "finish save in vectore store: wy_demo_image_2\n",
      "sleep 60 sec\n",
      "(805, 837)\n",
      "resize image size: (800, 831)\n",
      "store image size: (480, 499)\n",
      "for_llm len: 191276\n",
      "max_tokens: 2048\n",
      "modelId: anthropic.claude-3-5-sonnet-20240620-v1:0\n",
      "temperature: 0.01\n",
      "language: english\n",
      "response: Europe maps, World War I, before and after, new nations, Russia, borders, multiple choice question\n",
      "for_display len: 79952\n",
      "texts len: 1\n",
      "metadatas len: 1\n",
      "embeddings len: 1\n",
      "begin to save in vectore store\n"
     ]
    },
    {
     "name": "stderr",
     "output_type": "stream",
     "text": [
      "  9%|▉         | 156/1730 [2:20:03<27:12:39, 62.24s/it]"
     ]
    },
    {
     "name": "stdout",
     "output_type": "stream",
     "text": [
      "finish save in vectore store: wy_demo_image_2\n",
      "sleep 60 sec\n",
      "(2602, 2128)\n",
      "resize image size: (800, 654)\n",
      "store image size: (480, 392)\n",
      "for_llm len: 44724\n",
      "max_tokens: 2048\n",
      "modelId: anthropic.claude-3-5-sonnet-20240620-v1:0\n",
      "temperature: 0.01\n",
      "language: english\n",
      "response: electrical circuit diagram, phasor techniques, voltage calculation, AC circuit analysis, multiple choice question, circuit components, resistors, capacitor, voltage source\n",
      "for_display len: 20852\n",
      "texts len: 1\n",
      "metadatas len: 1\n",
      "embeddings len: 1\n",
      "begin to save in vectore store\n"
     ]
    },
    {
     "name": "stderr",
     "output_type": "stream",
     "text": [
      "  9%|▉         | 157/1730 [2:21:05<27:13:47, 62.32s/it]"
     ]
    },
    {
     "name": "stdout",
     "output_type": "stream",
     "text": [
      "finish save in vectore store: wy_demo_image_2\n",
      "sleep 60 sec\n",
      "(783, 735)\n",
      "store image size: (480, 450)\n",
      "for_llm len: 45384\n",
      "max_tokens: 2048\n",
      "modelId: anthropic.claude-3-5-sonnet-20240620-v1:0\n",
      "temperature: 0.01\n",
      "language: english\n",
      "response: thread model, many-to-many, user threads, kernel threads, diagrams, multiple choice question\n",
      "for_display len: 21980\n",
      "texts len: 1\n",
      "metadatas len: 1\n",
      "embeddings len: 1\n",
      "begin to save in vectore store\n"
     ]
    },
    {
     "name": "stderr",
     "output_type": "stream",
     "text": [
      "  9%|▉         | 158/1730 [2:22:07<27:08:28, 62.16s/it]"
     ]
    },
    {
     "name": "stdout",
     "output_type": "stream",
     "text": [
      "finish save in vectore store: wy_demo_image_2\n",
      "sleep 60 sec\n",
      "(791, 803)\n",
      "store image size: (480, 487)\n",
      "for_llm len: 127708\n",
      "max_tokens: 2048\n",
      "modelId: anthropic.claude-3-5-sonnet-20240620-v1:0\n",
      "temperature: 0.01\n",
      "language: english\n",
      "response: geometry, triangle, interior angles, bearings, multiple choice question\n",
      "for_display len: 61852\n",
      "texts len: 1\n",
      "metadatas len: 1\n",
      "embeddings len: 1\n",
      "begin to save in vectore store\n"
     ]
    },
    {
     "name": "stderr",
     "output_type": "stream",
     "text": [
      "  9%|▉         | 159/1730 [2:23:09<27:03:28, 62.00s/it]"
     ]
    },
    {
     "name": "stdout",
     "output_type": "stream",
     "text": [
      "finish save in vectore store: wy_demo_image_2\n",
      "sleep 60 sec\n",
      "(1280, 1237)\n",
      "resize image size: (800, 773)\n",
      "store image size: (480, 463)\n",
      "for_llm len: 99168\n",
      "max_tokens: 2048\n",
      "modelId: anthropic.claude-3-5-sonnet-20240620-v1:0\n",
      "temperature: 0.01\n",
      "language: english\n",
      "response: reading, books, collage, flowers, handwriting, calendar, annotation, study, literature\n",
      "for_display len: 40356\n",
      "texts len: 1\n",
      "metadatas len: 1\n",
      "embeddings len: 1\n",
      "begin to save in vectore store\n"
     ]
    },
    {
     "name": "stderr",
     "output_type": "stream",
     "text": [
      "  9%|▉         | 160/1730 [2:24:11<27:04:28, 62.08s/it]"
     ]
    },
    {
     "name": "stdout",
     "output_type": "stream",
     "text": [
      "finish save in vectore store: wy_demo_image_2\n",
      "sleep 60 sec\n",
      "(960, 1280)\n",
      "resize image size: (800, 1066)\n",
      "store image size: (480, 640)\n",
      "for_llm len: 161660\n",
      "max_tokens: 2048\n",
      "modelId: anthropic.claude-3-5-sonnet-20240620-v1:0\n",
      "temperature: 0.01\n",
      "language: english\n",
      "response: Gender socialization\n",
      "Male and female symbols\n",
      "Pink and blue figures\n",
      "Social norms\n",
      "Cultural expectations\n",
      "Learning gender roles\n",
      "Childhood development\n",
      "Media influence\n",
      "Toys and activities\n",
      "Society and culture\n",
      "for_display len: 57108\n",
      "texts len: 1\n",
      "metadatas len: 1\n",
      "embeddings len: 1\n",
      "begin to save in vectore store\n"
     ]
    },
    {
     "name": "stderr",
     "output_type": "stream",
     "text": [
      "  9%|▉         | 161/1730 [2:25:14<27:07:13, 62.23s/it]"
     ]
    },
    {
     "name": "stdout",
     "output_type": "stream",
     "text": [
      "finish save in vectore store: wy_demo_image_2\n",
      "sleep 60 sec\n",
      "(2602, 2358)\n",
      "resize image size: (800, 724)\n",
      "store image size: (480, 434)\n",
      "for_llm len: 81784\n",
      "max_tokens: 2048\n",
      "modelId: anthropic.claude-3-5-sonnet-20240620-v1:0\n",
      "temperature: 0.01\n",
      "language: english\n",
      "response: financial ratios, McDougal Printing, sales, operating profit margin, income statement, balance sheet, calculation, multiple choice\n",
      "for_display len: 37664\n",
      "texts len: 1\n",
      "metadatas len: 1\n",
      "embeddings len: 1\n",
      "begin to save in vectore store\n"
     ]
    },
    {
     "name": "stderr",
     "output_type": "stream",
     "text": [
      "  9%|▉         | 162/1730 [2:26:16<27:07:28, 62.28s/it]"
     ]
    },
    {
     "name": "stdout",
     "output_type": "stream",
     "text": [
      "finish save in vectore store: wy_demo_image_2\n",
      "sleep 60 sec\n",
      "(2602, 2358)\n",
      "resize image size: (800, 724)\n",
      "store image size: (480, 434)\n",
      "for_llm len: 62280\n",
      "max_tokens: 2048\n",
      "modelId: anthropic.claude-3-5-sonnet-20240620-v1:0\n",
      "temperature: 0.01\n",
      "language: english\n",
      "response: electrical circuit, Thevenin's theorem, phasor voltage calculation, complex impedances, voltage source, resistors, capacitors, circuit diagram, multiple choice question\n",
      "for_display len: 30316\n",
      "texts len: 1\n",
      "metadatas len: 1\n",
      "embeddings len: 1\n",
      "begin to save in vectore store\n"
     ]
    },
    {
     "name": "stderr",
     "output_type": "stream",
     "text": [
      "  9%|▉         | 163/1730 [2:27:18<27:07:41, 62.32s/it]"
     ]
    },
    {
     "name": "stdout",
     "output_type": "stream",
     "text": [
      "finish save in vectore store: wy_demo_image_2\n",
      "sleep 60 sec\n",
      "(2602, 2358)\n",
      "resize image size: (800, 724)\n",
      "store image size: (480, 434)\n",
      "for_llm len: 63344\n",
      "max_tokens: 2048\n",
      "modelId: anthropic.claude-3-5-sonnet-20240620-v1:0\n",
      "temperature: 0.01\n",
      "language: english\n",
      "response: lychee leaves, rust mite damage, distorted growth, brown discoloration, plant disease\n",
      "for_display len: 26288\n",
      "texts len: 1\n",
      "metadatas len: 1\n",
      "embeddings len: 1\n",
      "begin to save in vectore store\n"
     ]
    },
    {
     "name": "stderr",
     "output_type": "stream",
     "text": [
      "  9%|▉         | 164/1730 [2:28:21<27:06:08, 62.30s/it]"
     ]
    },
    {
     "name": "stdout",
     "output_type": "stream",
     "text": [
      "finish save in vectore store: wy_demo_image_2\n",
      "sleep 60 sec\n",
      "(564, 1212)\n",
      "store image size: (480, 1031)\n",
      "for_llm len: 183944\n",
      "max_tokens: 2048\n",
      "modelId: anthropic.claude-3-5-sonnet-20240620-v1:0\n",
      "temperature: 0.01\n",
      "language: english\n",
      "response: drug usage studies, social processes, peer influence, marijuana use, socialization, adolescent health, nominated peers, grade-level peers, individual usage increase, social theories\n",
      "for_display len: 136208\n",
      "texts len: 1\n",
      "metadatas len: 1\n",
      "embeddings len: 1\n",
      "begin to save in vectore store\n"
     ]
    },
    {
     "name": "stderr",
     "output_type": "stream",
     "text": [
      " 10%|▉         | 165/1730 [2:29:23<27:08:03, 62.42s/it]"
     ]
    },
    {
     "name": "stdout",
     "output_type": "stream",
     "text": [
      "finish save in vectore store: wy_demo_image_2\n",
      "sleep 60 sec\n",
      "(1964, 2358)\n",
      "resize image size: (800, 960)\n",
      "store image size: (480, 576)\n",
      "for_llm len: 108364\n",
      "max_tokens: 2048\n",
      "modelId: anthropic.claude-3-5-sonnet-20240620-v1:0\n",
      "temperature: 0.01\n",
      "language: english\n",
      "response: project management, critical path, task dependencies, Gantt chart, sports car manufacturing, Rover 6, activity sequence, timeline, production process\n",
      "for_display len: 46940\n",
      "texts len: 1\n",
      "metadatas len: 1\n",
      "embeddings len: 1\n",
      "begin to save in vectore store\n"
     ]
    },
    {
     "name": "stderr",
     "output_type": "stream",
     "text": [
      " 10%|▉         | 166/1730 [2:30:26<27:09:43, 62.52s/it]"
     ]
    },
    {
     "name": "stdout",
     "output_type": "stream",
     "text": [
      "finish save in vectore store: wy_demo_image_2\n",
      "sleep 60 sec\n",
      "(2586, 2088)\n",
      "resize image size: (800, 645)\n",
      "store image size: (480, 387)\n",
      "for_llm len: 64892\n",
      "max_tokens: 2048\n",
      "modelId: anthropic.claude-3-5-sonnet-20240620-v1:0\n",
      "temperature: 0.01\n",
      "language: english\n",
      "response: accounting problem, inventory, raw materials, direct labor costs, overhead, cost of materials used, production costs, multiple choice question\n",
      "for_display len: 30820\n",
      "texts len: 1\n",
      "metadatas len: 1\n",
      "embeddings len: 1\n",
      "begin to save in vectore store\n"
     ]
    },
    {
     "name": "stderr",
     "output_type": "stream",
     "text": [
      " 10%|▉         | 167/1730 [2:31:29<27:10:15, 62.58s/it]"
     ]
    },
    {
     "name": "stdout",
     "output_type": "stream",
     "text": [
      "finish save in vectore store: wy_demo_image_2\n",
      "sleep 60 sec\n",
      "(2586, 2258)\n",
      "resize image size: (800, 698)\n",
      "store image size: (480, 419)\n",
      "for_llm len: 66324\n",
      "max_tokens: 2048\n",
      "modelId: anthropic.claude-3-5-sonnet-20240620-v1:0\n",
      "temperature: 0.01\n",
      "language: english\n",
      "response: World War II propaganda\n",
      "Car-sharing club\n",
      "Fuel conservation\n",
      "United States 1940s\n",
      "Hitler reference\n",
      "Wartime poster\n",
      "for_display len: 31188\n",
      "texts len: 1\n",
      "metadatas len: 1\n",
      "embeddings len: 1\n",
      "begin to save in vectore store\n"
     ]
    },
    {
     "name": "stderr",
     "output_type": "stream",
     "text": [
      " 10%|▉         | 168/1730 [2:32:31<27:08:18, 62.55s/it]"
     ]
    },
    {
     "name": "stdout",
     "output_type": "stream",
     "text": [
      "finish save in vectore store: wy_demo_image_2\n",
      "sleep 60 sec\n",
      "(3832, 2258)\n",
      "resize image size: (800, 471)\n",
      "store image size: (480, 282)\n",
      "for_llm len: 34848\n",
      "max_tokens: 2048\n",
      "modelId: anthropic.claude-3-5-sonnet-20240620-v1:0\n",
      "temperature: 0.01\n",
      "language: english\n",
      "response: finite automaton, regular expression, state diagram, multiple choice question, computer science, theory of computation\n",
      "for_display len: 15792\n",
      "texts len: 1\n",
      "metadatas len: 1\n",
      "embeddings len: 1\n",
      "begin to save in vectore store\n"
     ]
    },
    {
     "name": "stderr",
     "output_type": "stream",
     "text": [
      " 10%|▉         | 169/1730 [2:33:34<27:05:38, 62.48s/it]"
     ]
    },
    {
     "name": "stdout",
     "output_type": "stream",
     "text": [
      "finish save in vectore store: wy_demo_image_2\n",
      "sleep 60 sec\n",
      "(601, 533)\n",
      "store image size: (480, 425)\n",
      "for_llm len: 25284\n",
      "max_tokens: 2048\n",
      "modelId: anthropic.claude-3-5-sonnet-20240620-v1:0\n",
      "temperature: 0.01\n",
      "language: english\n",
      "response: music notation, dotted notes, quarter note, multiple choice, rhythm, musical symbols\n",
      "for_display len: 17876\n",
      "texts len: 1\n",
      "metadatas len: 1\n",
      "embeddings len: 1\n",
      "begin to save in vectore store\n"
     ]
    },
    {
     "name": "stderr",
     "output_type": "stream",
     "text": [
      " 10%|▉         | 170/1730 [2:34:35<26:58:08, 62.24s/it]"
     ]
    },
    {
     "name": "stdout",
     "output_type": "stream",
     "text": [
      "finish save in vectore store: wy_demo_image_2\n",
      "sleep 60 sec\n",
      "(782, 1200)\n",
      "store image size: (480, 736)\n",
      "for_llm len: 92756\n",
      "max_tokens: 2048\n",
      "modelId: anthropic.claude-3-5-sonnet-20240620-v1:0\n",
      "temperature: 0.01\n",
      "language: english\n",
      "response: electrical circuit, capacitor, voltage source, sine wave, current calculation, multiple choice question\n",
      "for_display len: 45160\n",
      "texts len: 1\n",
      "metadatas len: 1\n",
      "embeddings len: 1\n",
      "begin to save in vectore store\n"
     ]
    },
    {
     "name": "stderr",
     "output_type": "stream",
     "text": [
      " 10%|▉         | 171/1730 [2:35:37<26:53:49, 62.11s/it]"
     ]
    },
    {
     "name": "stdout",
     "output_type": "stream",
     "text": [
      "finish save in vectore store: wy_demo_image_2\n",
      "sleep 60 sec\n",
      "(2570, 2282)\n",
      "resize image size: (800, 710)\n",
      "store image size: (480, 426)\n",
      "for_llm len: 107080\n",
      "max_tokens: 2048\n",
      "modelId: anthropic.claude-3-5-sonnet-20240620-v1:0\n",
      "temperature: 0.01\n",
      "language: english\n",
      "response: electrical circuit, Laplace transform, superposition, voltage calculation, RLC circuit, step response, multiple choice question\n",
      "for_display len: 52132\n",
      "texts len: 1\n",
      "metadatas len: 1\n",
      "embeddings len: 1\n",
      "begin to save in vectore store\n"
     ]
    },
    {
     "name": "stderr",
     "output_type": "stream",
     "text": [
      " 10%|▉         | 172/1730 [2:36:39<26:53:49, 62.15s/it]"
     ]
    },
    {
     "name": "stdout",
     "output_type": "stream",
     "text": [
      "finish save in vectore store: wy_demo_image_2\n",
      "sleep 60 sec\n",
      "(1280, 1171)\n",
      "resize image size: (800, 731)\n",
      "store image size: (480, 439)\n",
      "for_llm len: 80812\n",
      "max_tokens: 2048\n",
      "modelId: anthropic.claude-3-5-sonnet-20240620-v1:0\n",
      "temperature: 0.01\n",
      "language: english\n",
      "response: Social Learning Theory, attention, retention, motor reproduction, motivation, stimuli, rehearse, practice, reward, multiple choice question, options, psychological processes, self-concept, social norms, expectations\n",
      "for_display len: 33152\n",
      "texts len: 1\n",
      "metadatas len: 1\n",
      "embeddings len: 1\n",
      "begin to save in vectore store\n"
     ]
    },
    {
     "name": "stderr",
     "output_type": "stream",
     "text": [
      " 10%|█         | 173/1730 [2:37:42<26:57:17, 62.32s/it]"
     ]
    },
    {
     "name": "stdout",
     "output_type": "stream",
     "text": [
      "finish save in vectore store: wy_demo_image_2\n",
      "sleep 60 sec\n",
      "(2570, 2282)\n",
      "resize image size: (800, 710)\n",
      "store image size: (480, 426)\n",
      "for_llm len: 46332\n",
      "max_tokens: 2048\n",
      "modelId: anthropic.claude-3-5-sonnet-20240620-v1:0\n",
      "temperature: 0.01\n",
      "language: english\n",
      "response: signal processing, block diagram, system output, discrete-time system, transfer function, multiple choice question\n",
      "for_display len: 21672\n",
      "texts len: 1\n",
      "metadatas len: 1\n",
      "embeddings len: 1\n",
      "begin to save in vectore store\n"
     ]
    },
    {
     "name": "stderr",
     "output_type": "stream",
     "text": [
      " 10%|█         | 174/1730 [2:38:44<26:53:36, 62.22s/it]"
     ]
    },
    {
     "name": "stdout",
     "output_type": "stream",
     "text": [
      "finish save in vectore store: wy_demo_image_2\n",
      "sleep 60 sec\n",
      "(1280, 960)\n",
      "resize image size: (800, 600)\n",
      "store image size: (480, 360)\n",
      "for_llm len: 45276\n",
      "max_tokens: 2048\n",
      "modelId: anthropic.claude-3-5-sonnet-20240620-v1:0\n",
      "temperature: 0.01\n",
      "language: english\n",
      "response: thermodynamics, piston cylinder, nitrogen gas, boundary work, pressure expansion, multiple choice question\n",
      "for_display len: 17144\n",
      "texts len: 1\n",
      "metadatas len: 1\n",
      "embeddings len: 1\n",
      "begin to save in vectore store\n"
     ]
    },
    {
     "name": "stderr",
     "output_type": "stream",
     "text": [
      " 10%|█         | 175/1730 [2:39:46<26:50:03, 62.12s/it]"
     ]
    },
    {
     "name": "stdout",
     "output_type": "stream",
     "text": [
      "finish save in vectore store: wy_demo_image_2\n",
      "sleep 60 sec\n",
      "(2574, 1296)\n",
      "resize image size: (800, 402)\n",
      "store image size: (480, 241)\n",
      "for_llm len: 21980\n",
      "max_tokens: 2048\n",
      "modelId: anthropic.claude-3-5-sonnet-20240620-v1:0\n",
      "temperature: 0.01\n",
      "language: english\n",
      "response: NFA, finite automaton, state diagram, multiple choice question, computer science, theory of computation\n",
      "for_display len: 10164\n",
      "texts len: 1\n",
      "metadatas len: 1\n",
      "embeddings len: 1\n",
      "begin to save in vectore store\n"
     ]
    },
    {
     "name": "stderr",
     "output_type": "stream",
     "text": [
      " 10%|█         | 176/1730 [2:40:48<26:48:56, 62.12s/it]"
     ]
    },
    {
     "name": "stdout",
     "output_type": "stream",
     "text": [
      "finish save in vectore store: wy_demo_image_2\n",
      "sleep 60 sec\n",
      "(2316, 1600)\n",
      "resize image size: (800, 552)\n",
      "store image size: (480, 331)\n",
      "for_llm len: 52240\n",
      "max_tokens: 2048\n",
      "modelId: anthropic.claude-3-5-sonnet-20240620-v1:0\n",
      "temperature: 0.01\n",
      "language: english\n",
      "response: nude figure, beach, hat, impressionist painting, female form, seaside, classical art\n",
      "for_display len: 22912\n",
      "texts len: 1\n",
      "metadatas len: 1\n",
      "embeddings len: 1\n",
      "begin to save in vectore store\n"
     ]
    },
    {
     "name": "stderr",
     "output_type": "stream",
     "text": [
      " 10%|█         | 177/1730 [2:41:50<26:45:46, 62.04s/it]"
     ]
    },
    {
     "name": "stdout",
     "output_type": "stream",
     "text": [
      "finish save in vectore store: wy_demo_image_2\n",
      "sleep 60 sec\n",
      "(2570, 2282)\n",
      "resize image size: (800, 710)\n",
      "store image size: (480, 426)\n",
      "for_llm len: 102456\n",
      "max_tokens: 2048\n",
      "modelId: anthropic.claude-3-5-sonnet-20240620-v1:0\n",
      "temperature: 0.01\n",
      "language: english\n",
      "response: prosopagnosia, face recognition, neurological disorder, facial features, experiment, graph, percentage correct, respondents, portrait image\n",
      "for_display len: 37776\n",
      "texts len: 1\n",
      "metadatas len: 1\n",
      "embeddings len: 1\n",
      "begin to save in vectore store\n"
     ]
    },
    {
     "name": "stderr",
     "output_type": "stream",
     "text": [
      " 10%|█         | 178/1730 [2:42:52<26:45:53, 62.08s/it]"
     ]
    },
    {
     "name": "stdout",
     "output_type": "stream",
     "text": [
      "finish save in vectore store: wy_demo_image_2\n",
      "sleep 60 sec\n",
      "(2570, 2154)\n",
      "resize image size: (800, 670)\n",
      "store image size: (480, 402)\n",
      "for_llm len: 84760\n",
      "max_tokens: 2048\n",
      "modelId: anthropic.claude-3-5-sonnet-20240620-v1:0\n",
      "temperature: 0.01\n",
      "language: english\n",
      "response: dataset, outliers, gaussian distribution, parameters, mu1, sigma1, plot, options, statistics, data analysis\n",
      "for_display len: 40444\n",
      "texts len: 1\n",
      "metadatas len: 1\n",
      "embeddings len: 1\n",
      "begin to save in vectore store\n"
     ]
    },
    {
     "name": "stderr",
     "output_type": "stream",
     "text": [
      " 10%|█         | 179/1730 [2:43:54<26:45:21, 62.10s/it]"
     ]
    },
    {
     "name": "stdout",
     "output_type": "stream",
     "text": [
      "finish save in vectore store: wy_demo_image_2\n",
      "sleep 60 sec\n",
      "(2270, 1600)\n",
      "resize image size: (800, 563)\n",
      "store image size: (480, 338)\n",
      "for_llm len: 84664\n",
      "max_tokens: 2048\n",
      "modelId: anthropic.claude-3-5-sonnet-20240620-v1:0\n",
      "temperature: 0.01\n",
      "language: english\n",
      "response: frontispiece, book illustration, title page, tone setting, reader enticement\n",
      "for_display len: 41448\n",
      "texts len: 1\n",
      "metadatas len: 1\n",
      "embeddings len: 1\n",
      "begin to save in vectore store\n"
     ]
    },
    {
     "name": "stderr",
     "output_type": "stream",
     "text": [
      " 10%|█         | 180/1730 [2:44:56<26:42:34, 62.04s/it]"
     ]
    },
    {
     "name": "stdout",
     "output_type": "stream",
     "text": [
      "finish save in vectore store: wy_demo_image_2\n",
      "sleep 60 sec\n",
      "(2280, 1312)\n",
      "resize image size: (800, 460)\n",
      "store image size: (480, 276)\n",
      "for_llm len: 25448\n",
      "max_tokens: 2048\n",
      "modelId: anthropic.claude-3-5-sonnet-20240620-v1:0\n",
      "temperature: 0.01\n",
      "language: english\n",
      "response: cell diagram, organelles, ribosomes, protein synthesis, multiple choice question\n",
      "for_display len: 12944\n",
      "texts len: 1\n",
      "metadatas len: 1\n",
      "embeddings len: 1\n",
      "begin to save in vectore store\n"
     ]
    },
    {
     "name": "stderr",
     "output_type": "stream",
     "text": [
      " 10%|█         | 181/1730 [2:45:58<26:39:15, 61.95s/it]"
     ]
    },
    {
     "name": "stdout",
     "output_type": "stream",
     "text": [
      "finish save in vectore store: wy_demo_image_2\n",
      "sleep 60 sec\n",
      "(1280, 960)\n",
      "resize image size: (800, 600)\n",
      "store image size: (480, 360)\n",
      "for_llm len: 101988\n",
      "max_tokens: 2048\n",
      "modelId: anthropic.claude-3-5-sonnet-20240620-v1:0\n",
      "temperature: 0.01\n",
      "language: english\n",
      "response: ladder problem, geometry, trigonometry, rate of change, multiple choice question\n",
      "for_display len: 46336\n",
      "texts len: 1\n",
      "metadatas len: 1\n",
      "embeddings len: 1\n",
      "begin to save in vectore store\n"
     ]
    },
    {
     "name": "stderr",
     "output_type": "stream",
     "text": [
      " 11%|█         | 182/1730 [2:47:00<26:37:05, 61.90s/it]"
     ]
    },
    {
     "name": "stdout",
     "output_type": "stream",
     "text": [
      "finish save in vectore store: wy_demo_image_2\n",
      "sleep 60 sec\n",
      "(1280, 960)\n",
      "resize image size: (800, 600)\n",
      "store image size: (480, 360)\n",
      "for_llm len: 144180\n",
      "max_tokens: 2048\n",
      "modelId: anthropic.claude-3-5-sonnet-20240620-v1:0\n",
      "temperature: 0.01\n",
      "language: english\n",
      "response: multiple choice question\n",
      "sculpture expectations\n",
      "public display\n",
      "historical event\n",
      "heroic stance\n",
      "classical nudes\n",
      "allegorical figure\n",
      "romantic style\n",
      "religious building\n",
      "symbolic representation\n",
      "glorified manner\n",
      "for_display len: 53696\n",
      "texts len: 1\n",
      "metadatas len: 1\n",
      "embeddings len: 1\n",
      "begin to save in vectore store\n"
     ]
    },
    {
     "name": "stderr",
     "output_type": "stream",
     "text": [
      " 11%|█         | 183/1730 [2:48:02<26:41:59, 62.13s/it]"
     ]
    },
    {
     "name": "stdout",
     "output_type": "stream",
     "text": [
      "finish save in vectore store: wy_demo_image_2\n",
      "sleep 60 sec\n",
      "(1738, 1508)\n",
      "resize image size: (800, 694)\n",
      "store image size: (480, 416)\n",
      "for_llm len: 67344\n",
      "max_tokens: 2048\n",
      "modelId: anthropic.claude-3-5-sonnet-20240620-v1:0\n",
      "temperature: 0.01\n",
      "language: english\n",
      "response: anarchy symbol, multiple choice question, states, societal control, cultural preservation, power distribution, historical development, economic growth, democratic will, law and order, artificial constructs\n",
      "for_display len: 32356\n",
      "texts len: 1\n",
      "metadatas len: 1\n",
      "embeddings len: 1\n",
      "begin to save in vectore store\n"
     ]
    },
    {
     "name": "stderr",
     "output_type": "stream",
     "text": [
      " 11%|█         | 184/1730 [2:49:05<26:44:05, 62.25s/it]"
     ]
    },
    {
     "name": "stdout",
     "output_type": "stream",
     "text": [
      "finish save in vectore store: wy_demo_image_2\n",
      "sleep 60 sec\n",
      "(1736, 1090)\n",
      "resize image size: (800, 502)\n",
      "store image size: (480, 301)\n",
      "for_llm len: 32140\n",
      "max_tokens: 2048\n",
      "modelId: anthropic.claude-3-5-sonnet-20240620-v1:0\n",
      "temperature: 0.01\n",
      "language: english\n",
      "response: Math problem, geometry, parabola, linear function, region R, perimeter calculation, graph, y-axis, x-axis, multiple choice options\n",
      "for_display len: 14600\n",
      "texts len: 1\n",
      "metadatas len: 1\n",
      "embeddings len: 1\n",
      "begin to save in vectore store\n"
     ]
    },
    {
     "name": "stderr",
     "output_type": "stream",
     "text": [
      " 11%|█         | 185/1730 [2:50:07<26:41:51, 62.21s/it]"
     ]
    },
    {
     "name": "stdout",
     "output_type": "stream",
     "text": [
      "finish save in vectore store: wy_demo_image_2\n",
      "sleep 60 sec\n",
      "(1286, 2050)\n",
      "resize image size: (800, 1275)\n",
      "store image size: (480, 765)\n",
      "for_llm len: 123528\n",
      "max_tokens: 2048\n",
      "modelId: anthropic.claude-3-5-sonnet-20240620-v1:0\n",
      "temperature: 0.01\n",
      "language: english\n",
      "response: signal processing, discrete-time system, impulse response, difference equation, block diagram, input-output relationship, multiple choice question\n",
      "for_display len: 62272\n",
      "texts len: 1\n",
      "metadatas len: 1\n",
      "embeddings len: 1\n",
      "begin to save in vectore store\n"
     ]
    },
    {
     "name": "stderr",
     "output_type": "stream",
     "text": [
      " 11%|█         | 186/1730 [2:51:09<26:41:36, 62.24s/it]"
     ]
    },
    {
     "name": "stdout",
     "output_type": "stream",
     "text": [
      "finish save in vectore store: wy_demo_image_2\n",
      "sleep 60 sec\n",
      "(1356, 2030)\n",
      "resize image size: (800, 1197)\n",
      "store image size: (480, 718)\n",
      "for_llm len: 164212\n",
      "max_tokens: 2048\n",
      "modelId: anthropic.claude-3-5-sonnet-20240620-v1:0\n",
      "temperature: 0.01\n",
      "language: english\n",
      "response: Hunan Province, haemorrhagic fever, renal syndrome, rodents, monitoring sites, Xiangtan County, poison rate, data table, multiple choice options\n",
      "for_display len: 77100\n",
      "texts len: 1\n",
      "metadatas len: 1\n",
      "embeddings len: 1\n",
      "begin to save in vectore store\n"
     ]
    },
    {
     "name": "stderr",
     "output_type": "stream",
     "text": [
      " 11%|█         | 187/1730 [2:52:12<26:44:39, 62.40s/it]"
     ]
    },
    {
     "name": "stdout",
     "output_type": "stream",
     "text": [
      "finish save in vectore store: wy_demo_image_2\n",
      "sleep 60 sec\n",
      "(1412, 2030)\n",
      "resize image size: (800, 1150)\n",
      "store image size: (480, 690)\n",
      "for_llm len: 83516\n",
      "max_tokens: 2048\n",
      "modelId: anthropic.claude-3-5-sonnet-20240620-v1:0\n",
      "temperature: 0.01\n",
      "language: english\n",
      "response: arousal performance relationship, graphs, options, inverted U-shape, linear relationships, curved relationships, psychology test question\n",
      "for_display len: 42420\n",
      "texts len: 1\n",
      "metadatas len: 1\n",
      "embeddings len: 1\n",
      "begin to save in vectore store\n"
     ]
    },
    {
     "name": "stderr",
     "output_type": "stream",
     "text": [
      " 11%|█         | 188/1730 [2:53:14<26:42:42, 62.36s/it]"
     ]
    },
    {
     "name": "stdout",
     "output_type": "stream",
     "text": [
      "finish save in vectore store: wy_demo_image_2\n",
      "sleep 60 sec\n",
      "(1732, 1072)\n",
      "resize image size: (800, 495)\n",
      "store image size: (480, 297)\n",
      "for_llm len: 54332\n",
      "max_tokens: 2048\n",
      "modelId: anthropic.claude-3-5-sonnet-20240620-v1:0\n",
      "temperature: 0.01\n",
      "language: english\n",
      "response: electrical circuit, steady-state voltage, network analysis, AC circuit, impedance, phasor diagram, cosine function, multiple choice question\n",
      "for_display len: 24736\n",
      "texts len: 1\n",
      "metadatas len: 1\n",
      "embeddings len: 1\n",
      "begin to save in vectore store\n"
     ]
    },
    {
     "name": "stderr",
     "output_type": "stream",
     "text": [
      " 11%|█         | 189/1730 [2:54:16<26:38:12, 62.23s/it]"
     ]
    },
    {
     "name": "stdout",
     "output_type": "stream",
     "text": [
      "finish save in vectore store: wy_demo_image_2\n",
      "sleep 60 sec\n",
      "(1734, 1424)\n",
      "resize image size: (800, 656)\n",
      "store image size: (480, 394)\n",
      "for_llm len: 62552\n",
      "max_tokens: 2048\n",
      "modelId: anthropic.claude-3-5-sonnet-20240620-v1:0\n",
      "temperature: 0.01\n",
      "language: english\n",
      "response: physics problem, projectile motion, viscous liquid, velocity, retarding force, acceleration, distance traveled, time, horizontal motion, multiple choice options\n",
      "for_display len: 28040\n",
      "texts len: 1\n",
      "metadatas len: 1\n",
      "embeddings len: 1\n",
      "begin to save in vectore store\n"
     ]
    },
    {
     "name": "stderr",
     "output_type": "stream",
     "text": [
      " 11%|█         | 190/1730 [2:55:18<26:36:59, 62.22s/it]"
     ]
    },
    {
     "name": "stdout",
     "output_type": "stream",
     "text": [
      "finish save in vectore store: wy_demo_image_2\n",
      "sleep 60 sec\n",
      "(1774, 1090)\n",
      "resize image size: (800, 491)\n",
      "store image size: (480, 294)\n",
      "for_llm len: 72536\n",
      "max_tokens: 2048\n",
      "modelId: anthropic.claude-3-5-sonnet-20240620-v1:0\n",
      "temperature: 0.01\n",
      "language: english\n",
      "response: vapor pressure, CIF_3, enthalpy of vaporization, graphical method, least squares fitting, temperature, pressure, table, calculation, options\n",
      "for_display len: 34172\n",
      "texts len: 1\n",
      "metadatas len: 1\n",
      "embeddings len: 1\n",
      "begin to save in vectore store\n"
     ]
    },
    {
     "name": "stderr",
     "output_type": "stream",
     "text": [
      " 11%|█         | 191/1730 [2:56:21<26:39:10, 62.35s/it]"
     ]
    },
    {
     "name": "stdout",
     "output_type": "stream",
     "text": [
      "finish save in vectore store: wy_demo_image_2\n",
      "sleep 60 sec\n",
      "(1734, 1922)\n",
      "resize image size: (800, 886)\n",
      "store image size: (480, 532)\n",
      "for_llm len: 162556\n",
      "max_tokens: 2048\n",
      "modelId: anthropic.claude-3-5-sonnet-20240620-v1:0\n",
      "temperature: 0.01\n",
      "language: english\n",
      "response: dark adaptation curve, rod and cone receptors, retina, visual perception, light sensitivity, time in dark, graph, research methods, human vision\n",
      "for_display len: 70688\n",
      "texts len: 1\n",
      "metadatas len: 1\n",
      "embeddings len: 1\n",
      "begin to save in vectore store\n"
     ]
    },
    {
     "name": "stderr",
     "output_type": "stream",
     "text": [
      " 11%|█         | 192/1730 [2:57:24<26:40:01, 62.42s/it]"
     ]
    },
    {
     "name": "stdout",
     "output_type": "stream",
     "text": [
      "finish save in vectore store: wy_demo_image_2\n",
      "sleep 60 sec\n",
      "(907, 1280)\n",
      "resize image size: (800, 1128)\n",
      "store image size: (480, 677)\n",
      "for_llm len: 166940\n",
      "max_tokens: 2048\n",
      "modelId: anthropic.claude-3-5-sonnet-20240620-v1:0\n",
      "temperature: 0.01\n",
      "language: english\n",
      "response: accounting problem, work in process inventory, conversion costs, weighted-average method, equivalent units, quarterly data, multiple choice options\n",
      "for_display len: 77868\n",
      "texts len: 1\n",
      "metadatas len: 1\n",
      "embeddings len: 1\n",
      "begin to save in vectore store\n"
     ]
    },
    {
     "name": "stderr",
     "output_type": "stream",
     "text": [
      " 11%|█         | 193/1730 [2:58:26<26:40:53, 62.49s/it]"
     ]
    },
    {
     "name": "stdout",
     "output_type": "stream",
     "text": [
      "finish save in vectore store: wy_demo_image_2\n",
      "sleep 60 sec\n",
      "(1524, 2236)\n",
      "resize image size: (800, 1173)\n",
      "store image size: (480, 704)\n",
      "for_llm len: 65780\n",
      "max_tokens: 2048\n",
      "modelId: anthropic.claude-3-5-sonnet-20240620-v1:0\n",
      "temperature: 0.01\n",
      "language: english\n",
      "response: penicillin structures, fermentation, organic chemistry, antibiotics, chemical compounds, molecular structures\n",
      "for_display len: 30696\n",
      "texts len: 1\n",
      "metadatas len: 1\n",
      "embeddings len: 1\n",
      "begin to save in vectore store\n"
     ]
    },
    {
     "name": "stderr",
     "output_type": "stream",
     "text": [
      " 11%|█         | 194/1730 [2:59:29<26:38:05, 62.43s/it]"
     ]
    },
    {
     "name": "stdout",
     "output_type": "stream",
     "text": [
      "finish save in vectore store: wy_demo_image_2\n",
      "sleep 60 sec\n",
      "(1416, 1658)\n",
      "resize image size: (800, 936)\n",
      "store image size: (480, 562)\n",
      "for_llm len: 90336\n",
      "max_tokens: 2048\n",
      "modelId: anthropic.claude-3-5-sonnet-20240620-v1:0\n",
      "temperature: 0.01\n",
      "language: english\n",
      "response: surrealist painting, long arcaded building, yellow street, dark shadows, small running figure, mysterious atmosphere, metaphysical art\n",
      "for_display len: 40476\n",
      "texts len: 1\n",
      "metadatas len: 1\n",
      "embeddings len: 1\n",
      "begin to save in vectore store\n"
     ]
    },
    {
     "name": "stderr",
     "output_type": "stream",
     "text": [
      " 11%|█▏        | 195/1730 [3:00:31<26:38:15, 62.47s/it]"
     ]
    },
    {
     "name": "stdout",
     "output_type": "stream",
     "text": [
      "finish save in vectore store: wy_demo_image_2\n",
      "sleep 60 sec\n",
      "(1526, 1820)\n",
      "resize image size: (800, 954)\n",
      "store image size: (480, 572)\n",
      "for_llm len: 122564\n",
      "max_tokens: 2048\n",
      "modelId: anthropic.claude-3-5-sonnet-20240620-v1:0\n",
      "temperature: 0.01\n",
      "language: english\n",
      "response: sleep cycles, brain waves, REM sleep, sleep stages, hypnogram, sleep duration, circadian rhythm, sleep patterns, sleep physiology, sleep science\n",
      "for_display len: 54152\n",
      "texts len: 1\n",
      "metadatas len: 1\n",
      "embeddings len: 1\n",
      "begin to save in vectore store\n"
     ]
    },
    {
     "name": "stderr",
     "output_type": "stream",
     "text": [
      " 11%|█▏        | 196/1730 [3:01:33<26:35:14, 62.40s/it]"
     ]
    },
    {
     "name": "stdout",
     "output_type": "stream",
     "text": [
      "finish save in vectore store: wy_demo_image_2\n",
      "sleep 60 sec\n",
      "(1546, 1620)\n",
      "resize image size: (800, 838)\n",
      "store image size: (480, 502)\n",
      "for_llm len: 146172\n",
      "max_tokens: 2048\n",
      "modelId: anthropic.claude-3-5-sonnet-20240620-v1:0\n",
      "temperature: 0.01\n",
      "language: english\n",
      "response: Iron Arms, rotating forearm grips, exercise equipment, spring mechanism, D-shaped handle, carbon steel coil spring, infinite life design, technical specifications, engineering problem\n",
      "for_display len: 66748\n",
      "texts len: 1\n",
      "metadatas len: 1\n",
      "embeddings len: 1\n",
      "begin to save in vectore store\n"
     ]
    },
    {
     "name": "stderr",
     "output_type": "stream",
     "text": [
      " 11%|█▏        | 197/1730 [3:02:36<26:35:04, 62.43s/it]"
     ]
    },
    {
     "name": "stdout",
     "output_type": "stream",
     "text": [
      "finish save in vectore store: wy_demo_image_2\n",
      "sleep 60 sec\n",
      "(1160, 1786)\n",
      "resize image size: (800, 1231)\n",
      "store image size: (480, 739)\n",
      "for_llm len: 104076\n",
      "max_tokens: 2048\n",
      "modelId: anthropic.claude-3-5-sonnet-20240620-v1:0\n",
      "temperature: 0.01\n",
      "language: english\n",
      "response: botanical illustration, legume plant, compound leaves, pods, tendrils, Fabaceae family\n",
      "for_display len: 49384\n",
      "texts len: 1\n",
      "metadatas len: 1\n",
      "embeddings len: 1\n",
      "begin to save in vectore store\n"
     ]
    },
    {
     "name": "stderr",
     "output_type": "stream",
     "text": [
      " 11%|█▏        | 198/1730 [3:03:38<26:32:36, 62.37s/it]"
     ]
    },
    {
     "name": "stdout",
     "output_type": "stream",
     "text": [
      "finish save in vectore store: wy_demo_image_2\n",
      "sleep 60 sec\n",
      "(1542, 1544)\n",
      "resize image size: (800, 801)\n",
      "store image size: (480, 480)\n",
      "for_llm len: 111876\n",
      "max_tokens: 2048\n",
      "modelId: anthropic.claude-3-5-sonnet-20240620-v1:0\n",
      "temperature: 0.01\n",
      "language: english\n",
      "response: intestinal protozoa examinations, Jiangxi Province, ecological zones, parasites, prevalence, Yangtze River, infection rates, table, statistics, multiple choice options\n",
      "for_display len: 51604\n",
      "texts len: 1\n",
      "metadatas len: 1\n",
      "embeddings len: 1\n",
      "begin to save in vectore store\n"
     ]
    },
    {
     "name": "stderr",
     "output_type": "stream",
     "text": [
      " 12%|█▏        | 199/1730 [3:04:41<26:35:58, 62.55s/it]"
     ]
    },
    {
     "name": "stdout",
     "output_type": "stream",
     "text": [
      "finish save in vectore store: wy_demo_image_2\n",
      "sleep 60 sec\n",
      "(3480, 1924)\n",
      "resize image size: (800, 442)\n",
      "store image size: (480, 265)\n",
      "for_llm len: 29572\n",
      "max_tokens: 2048\n",
      "modelId: anthropic.claude-3-5-sonnet-20240620-v1:0\n",
      "temperature: 0.01\n",
      "language: english\n",
      "response: engineering mechanics, stress analysis, structural diagram, T-shaped structure, force calculation, problem solving\n",
      "for_display len: 12536\n",
      "texts len: 1\n",
      "metadatas len: 1\n",
      "embeddings len: 1\n",
      "begin to save in vectore store\n"
     ]
    },
    {
     "name": "stderr",
     "output_type": "stream",
     "text": [
      " 12%|█▏        | 200/1730 [3:05:43<26:31:29, 62.41s/it]"
     ]
    },
    {
     "name": "stdout",
     "output_type": "stream",
     "text": [
      "finish save in vectore store: wy_demo_image_2\n",
      "sleep 60 sec\n",
      "(1286, 1608)\n",
      "resize image size: (800, 1000)\n",
      "store image size: (480, 600)\n",
      "for_llm len: 132276\n",
      "max_tokens: 2048\n",
      "modelId: anthropic.claude-3-5-sonnet-20240620-v1:0\n",
      "temperature: 0.01\n",
      "language: english\n",
      "response: hydrocarbon structures, covalent bonds, molecular models, benzene ring, triple bond, single bond, chemistry question, multiple choice options\n",
      "for_display len: 63424\n",
      "texts len: 1\n",
      "metadatas len: 1\n",
      "embeddings len: 1\n",
      "begin to save in vectore store\n"
     ]
    },
    {
     "name": "stderr",
     "output_type": "stream",
     "text": [
      " 12%|█▏        | 201/1730 [3:06:45<26:28:37, 62.34s/it]"
     ]
    },
    {
     "name": "stdout",
     "output_type": "stream",
     "text": [
      "finish save in vectore store: wy_demo_image_2\n",
      "sleep 60 sec\n",
      "(1240, 1304)\n",
      "resize image size: (800, 841)\n",
      "store image size: (480, 504)\n",
      "for_llm len: 142472\n",
      "max_tokens: 2048\n",
      "modelId: anthropic.claude-3-5-sonnet-20240620-v1:0\n",
      "temperature: 0.01\n",
      "language: english\n",
      "response: Sri Lanka, Codiaeum, hedge, ornamental plant, growth, discovery, smile, options, genetic mutation, varietal characteristic, healthy plant\n",
      "for_display len: 57556\n",
      "texts len: 1\n",
      "metadatas len: 1\n",
      "embeddings len: 1\n",
      "begin to save in vectore store\n"
     ]
    },
    {
     "name": "stderr",
     "output_type": "stream",
     "text": [
      " 12%|█▏        | 202/1730 [3:07:48<26:27:11, 62.32s/it]"
     ]
    },
    {
     "name": "stdout",
     "output_type": "stream",
     "text": [
      "finish save in vectore store: wy_demo_image_2\n",
      "sleep 60 sec\n",
      "(960, 1280)\n",
      "resize image size: (800, 1066)\n",
      "store image size: (480, 640)\n",
      "for_llm len: 108176\n",
      "max_tokens: 2048\n",
      "modelId: anthropic.claude-3-5-sonnet-20240620-v1:0\n",
      "temperature: 0.01\n",
      "language: english\n",
      "response: optical illusion, triangle, subjective contours, perception, Gestalt psychology, multiple choice question\n",
      "for_display len: 47256\n",
      "texts len: 1\n",
      "metadatas len: 1\n",
      "embeddings len: 1\n",
      "begin to save in vectore store\n"
     ]
    },
    {
     "name": "stderr",
     "output_type": "stream",
     "text": [
      " 12%|█▏        | 203/1730 [3:08:50<26:26:15, 62.33s/it]"
     ]
    },
    {
     "name": "stdout",
     "output_type": "stream",
     "text": [
      "finish save in vectore store: wy_demo_image_2\n",
      "sleep 60 sec\n",
      "(1146, 696)\n",
      "resize image size: (800, 485)\n",
      "store image size: (480, 291)\n",
      "for_llm len: 32660\n",
      "max_tokens: 2048\n",
      "modelId: anthropic.claude-3-5-sonnet-20240620-v1:0\n",
      "temperature: 0.01\n",
      "language: english\n",
      "response: musical notation, chord, harmony, G sharp dominant seventh chord, G#7, multiple choice question\n",
      "for_display len: 16948\n",
      "texts len: 1\n",
      "metadatas len: 1\n",
      "embeddings len: 1\n",
      "begin to save in vectore store\n"
     ]
    },
    {
     "name": "stderr",
     "output_type": "stream",
     "text": [
      " 12%|█▏        | 204/1730 [3:09:52<26:20:37, 62.15s/it]"
     ]
    },
    {
     "name": "stdout",
     "output_type": "stream",
     "text": [
      "finish save in vectore store: wy_demo_image_2\n",
      "sleep 60 sec\n",
      "(1280, 960)\n",
      "resize image size: (800, 600)\n",
      "store image size: (480, 360)\n",
      "for_llm len: 63476\n",
      "max_tokens: 2048\n",
      "modelId: anthropic.claude-3-5-sonnet-20240620-v1:0\n",
      "temperature: 0.01\n",
      "language: english\n",
      "response: skull anatomy, base of skull, labeled diagram, anatomical structures, multiple choice question\n",
      "for_display len: 25260\n",
      "texts len: 1\n",
      "metadatas len: 1\n",
      "embeddings len: 1\n",
      "begin to save in vectore store\n"
     ]
    },
    {
     "name": "stderr",
     "output_type": "stream",
     "text": [
      " 12%|█▏        | 205/1730 [3:10:54<26:18:07, 62.09s/it]"
     ]
    },
    {
     "name": "stdout",
     "output_type": "stream",
     "text": [
      "finish save in vectore store: wy_demo_image_2\n",
      "sleep 60 sec\n",
      "(1428, 894)\n",
      "resize image size: (800, 500)\n",
      "store image size: (480, 300)\n",
      "for_llm len: 66272\n",
      "max_tokens: 2048\n",
      "modelId: anthropic.claude-3-5-sonnet-20240620-v1:0\n",
      "temperature: 0.01\n",
      "language: english\n",
      "response: truss structure, normal stress calculation, cross-sectional area, bar AB, tensile or compressive stress, multiple choice options, engineering mechanics problem\n",
      "for_display len: 30808\n",
      "texts len: 1\n",
      "metadatas len: 1\n",
      "embeddings len: 1\n",
      "begin to save in vectore store\n"
     ]
    },
    {
     "name": "stderr",
     "output_type": "stream",
     "text": [
      " 12%|█▏        | 206/1730 [3:11:56<26:17:07, 62.09s/it]"
     ]
    },
    {
     "name": "stdout",
     "output_type": "stream",
     "text": [
      "finish save in vectore store: wy_demo_image_2\n",
      "sleep 60 sec\n",
      "(1590, 800)\n",
      "resize image size: (800, 402)\n",
      "store image size: (480, 241)\n",
      "for_llm len: 23496\n",
      "max_tokens: 2048\n",
      "modelId: anthropic.claude-3-5-sonnet-20240620-v1:0\n",
      "temperature: 0.01\n",
      "language: english\n",
      "response: music theory, interval identification, musical notation, treble clef, flat note, natural note, multiple choice question\n",
      "for_display len: 11340\n",
      "texts len: 1\n",
      "metadatas len: 1\n",
      "embeddings len: 1\n",
      "begin to save in vectore store\n"
     ]
    },
    {
     "name": "stderr",
     "output_type": "stream",
     "text": [
      " 12%|█▏        | 207/1730 [3:12:58<26:14:32, 62.03s/it]"
     ]
    },
    {
     "name": "stdout",
     "output_type": "stream",
     "text": [
      "finish save in vectore store: wy_demo_image_2\n",
      "sleep 60 sec\n",
      "(1522, 862)\n",
      "resize image size: (800, 453)\n",
      "store image size: (480, 271)\n",
      "for_llm len: 30492\n",
      "max_tokens: 2048\n",
      "modelId: anthropic.claude-3-5-sonnet-20240620-v1:0\n",
      "temperature: 0.01\n",
      "language: english\n",
      "response: graph, action potential, resting potential, neuron, membrane potential, time, millivolts, multiple choice question\n",
      "for_display len: 13316\n",
      "texts len: 1\n",
      "metadatas len: 1\n",
      "embeddings len: 1\n",
      "begin to save in vectore store\n"
     ]
    },
    {
     "name": "stderr",
     "output_type": "stream",
     "text": [
      " 12%|█▏        | 208/1730 [3:14:00<26:12:18, 61.98s/it]"
     ]
    },
    {
     "name": "stdout",
     "output_type": "stream",
     "text": [
      "finish save in vectore store: wy_demo_image_2\n",
      "sleep 60 sec\n",
      "(2314, 1498)\n",
      "resize image size: (800, 517)\n",
      "store image size: (480, 310)\n",
      "for_llm len: 55240\n",
      "max_tokens: 2048\n",
      "modelId: anthropic.claude-3-5-sonnet-20240620-v1:0\n",
      "temperature: 0.01\n",
      "language: english\n",
      "response: beam, distributed load, simply supported, rectangular cross section, maximum permissible value, linearly varying load, tension, compression, options\n",
      "for_display len: 24584\n",
      "texts len: 1\n",
      "metadatas len: 1\n",
      "embeddings len: 1\n",
      "begin to save in vectore store\n"
     ]
    },
    {
     "name": "stderr",
     "output_type": "stream",
     "text": [
      " 12%|█▏        | 209/1730 [3:15:02<26:12:18, 62.02s/it]"
     ]
    },
    {
     "name": "stdout",
     "output_type": "stream",
     "text": [
      "finish save in vectore store: wy_demo_image_2\n",
      "sleep 60 sec\n",
      "(1280, 960)\n",
      "resize image size: (800, 600)\n",
      "store image size: (480, 360)\n",
      "for_llm len: 67372\n",
      "max_tokens: 2048\n",
      "modelId: anthropic.claude-3-5-sonnet-20240620-v1:0\n",
      "temperature: 0.01\n",
      "language: english\n",
      "response: story structure diagram, plot elements, rising action, climax, falling action, conflict, exposition, resolution, multiple choice question\n",
      "for_display len: 25992\n",
      "texts len: 1\n",
      "metadatas len: 1\n",
      "embeddings len: 1\n",
      "begin to save in vectore store\n"
     ]
    },
    {
     "name": "stderr",
     "output_type": "stream",
     "text": [
      " 12%|█▏        | 210/1730 [3:16:04<26:12:22, 62.07s/it]"
     ]
    },
    {
     "name": "stdout",
     "output_type": "stream",
     "text": [
      "finish save in vectore store: wy_demo_image_2\n",
      "sleep 60 sec\n",
      "(1556, 1178)\n",
      "resize image size: (800, 605)\n",
      "store image size: (480, 363)\n",
      "for_llm len: 36744\n",
      "max_tokens: 2048\n",
      "modelId: anthropic.claude-3-5-sonnet-20240620-v1:0\n",
      "temperature: 0.01\n",
      "language: english\n",
      "response: organic chemistry, enantiomer, molecular structure, stereochemistry, Fischer projection, methyl groups, bromine, hydroxyl group, ethyl group\n",
      "for_display len: 16968\n",
      "texts len: 1\n",
      "metadatas len: 1\n",
      "embeddings len: 1\n",
      "begin to save in vectore store\n"
     ]
    },
    {
     "name": "stderr",
     "output_type": "stream",
     "text": [
      " 12%|█▏        | 211/1730 [3:17:06<26:10:07, 62.02s/it]"
     ]
    },
    {
     "name": "stdout",
     "output_type": "stream",
     "text": [
      "finish save in vectore store: wy_demo_image_2\n",
      "sleep 60 sec\n",
      "(1524, 2236)\n",
      "resize image size: (800, 1173)\n",
      "store image size: (480, 704)\n",
      "for_llm len: 66552\n",
      "max_tokens: 2048\n",
      "modelId: anthropic.claude-3-5-sonnet-20240620-v1:0\n",
      "temperature: 0.01\n",
      "language: english\n",
      "response: Urban development, Timeline, 1876-1895, Industrialization, Skyscrapers, Social reform, City planning, Chicago, New York, Baseball, Electric trolley, Hull House, City Beautiful movement\n",
      "for_display len: 29316\n",
      "texts len: 1\n",
      "metadatas len: 1\n",
      "embeddings len: 1\n",
      "begin to save in vectore store\n"
     ]
    },
    {
     "name": "stderr",
     "output_type": "stream",
     "text": [
      " 12%|█▏        | 212/1730 [3:18:09<26:14:54, 62.25s/it]"
     ]
    },
    {
     "name": "stdout",
     "output_type": "stream",
     "text": [
      "finish save in vectore store: wy_demo_image_2\n",
      "sleep 60 sec\n",
      "(1280, 960)\n",
      "resize image size: (800, 600)\n",
      "store image size: (480, 360)\n",
      "for_llm len: 86336\n",
      "max_tokens: 2048\n",
      "modelId: anthropic.claude-3-5-sonnet-20240620-v1:0\n",
      "temperature: 0.01\n",
      "language: english\n",
      "response: physics problem, area calculation, error analysis, thermal expansion, geometric shape, multiple choice question\n",
      "for_display len: 35580\n",
      "texts len: 1\n",
      "metadatas len: 1\n",
      "embeddings len: 1\n",
      "begin to save in vectore store\n"
     ]
    },
    {
     "name": "stderr",
     "output_type": "stream",
     "text": [
      " 12%|█▏        | 213/1730 [3:19:10<26:11:13, 62.14s/it]"
     ]
    },
    {
     "name": "stdout",
     "output_type": "stream",
     "text": [
      "finish save in vectore store: wy_demo_image_2\n",
      "sleep 60 sec\n",
      "(2282, 1408)\n",
      "resize image size: (800, 493)\n",
      "store image size: (480, 296)\n",
      "for_llm len: 47424\n",
      "max_tokens: 2048\n",
      "modelId: anthropic.claude-3-5-sonnet-20240620-v1:0\n",
      "temperature: 0.01\n",
      "language: english\n",
      "response: database transactions, concurrency control, read-write operations, X and Y values, serial execution, multiple choice question\n",
      "for_display len: 20360\n",
      "texts len: 1\n",
      "metadatas len: 1\n",
      "embeddings len: 1\n",
      "begin to save in vectore store\n"
     ]
    },
    {
     "name": "stderr",
     "output_type": "stream",
     "text": [
      " 12%|█▏        | 214/1730 [3:20:13<26:10:43, 62.17s/it]"
     ]
    },
    {
     "name": "stdout",
     "output_type": "stream",
     "text": [
      "finish save in vectore store: wy_demo_image_2\n",
      "sleep 60 sec\n",
      "(2312, 1284)\n",
      "resize image size: (800, 444)\n",
      "store image size: (480, 266)\n",
      "for_llm len: 25188\n",
      "max_tokens: 2048\n",
      "modelId: anthropic.claude-3-5-sonnet-20240620-v1:0\n",
      "temperature: 0.01\n",
      "language: english\n",
      "response: data table, statistics, mean calculation, multiple choice question, numerical data, data set comparison\n",
      "for_display len: 11684\n",
      "texts len: 1\n",
      "metadatas len: 1\n",
      "embeddings len: 1\n",
      "begin to save in vectore store\n"
     ]
    },
    {
     "name": "stderr",
     "output_type": "stream",
     "text": [
      " 12%|█▏        | 215/1730 [3:21:15<26:07:14, 62.07s/it]"
     ]
    },
    {
     "name": "stdout",
     "output_type": "stream",
     "text": [
      "finish save in vectore store: wy_demo_image_2\n",
      "sleep 60 sec\n",
      "(2358, 1258)\n",
      "resize image size: (800, 426)\n",
      "store image size: (480, 256)\n",
      "for_llm len: 39652\n",
      "max_tokens: 2048\n",
      "modelId: anthropic.claude-3-5-sonnet-20240620-v1:0\n",
      "temperature: 0.01\n",
      "language: english\n",
      "response: tumor histology, pineal gland, multiple choice question, medical exam\n",
      "for_display len: 18412\n",
      "texts len: 1\n",
      "metadatas len: 1\n",
      "embeddings len: 1\n",
      "begin to save in vectore store\n"
     ]
    },
    {
     "name": "stderr",
     "output_type": "stream",
     "text": [
      " 12%|█▏        | 216/1730 [3:22:16<26:04:15, 61.99s/it]"
     ]
    },
    {
     "name": "stdout",
     "output_type": "stream",
     "text": [
      "finish save in vectore store: wy_demo_image_2\n",
      "sleep 60 sec\n",
      "(877, 1280)\n",
      "resize image size: (800, 1167)\n",
      "store image size: (480, 700)\n",
      "for_llm len: 164948\n",
      "max_tokens: 2048\n",
      "modelId: anthropic.claude-3-5-sonnet-20240620-v1:0\n",
      "temperature: 0.01\n",
      "language: english\n",
      "response: population statistics\n",
      "disease incidence\n",
      "graph\n",
      "point prevalence\n",
      "2010\n",
      "multiple choice question\n",
      "notebook page\n",
      "for_display len: 74448\n",
      "texts len: 1\n",
      "metadatas len: 1\n",
      "embeddings len: 1\n",
      "begin to save in vectore store\n"
     ]
    },
    {
     "name": "stderr",
     "output_type": "stream",
     "text": [
      " 13%|█▎        | 217/1730 [3:23:18<26:04:14, 62.03s/it]"
     ]
    },
    {
     "name": "stdout",
     "output_type": "stream",
     "text": [
      "finish save in vectore store: wy_demo_image_2\n",
      "sleep 60 sec\n",
      "(2382, 1514)\n",
      "resize image size: (800, 508)\n",
      "store image size: (480, 305)\n",
      "for_llm len: 69988\n",
      "max_tokens: 2048\n",
      "modelId: anthropic.claude-3-5-sonnet-20240620-v1:0\n",
      "temperature: 0.01\n",
      "language: english\n",
      "response: graph theory, minimum spanning tree, Kruskal's algorithm, edge sequence, multiple choice question\n",
      "for_display len: 32924\n",
      "texts len: 1\n",
      "metadatas len: 1\n",
      "embeddings len: 1\n",
      "begin to save in vectore store\n"
     ]
    },
    {
     "name": "stderr",
     "output_type": "stream",
     "text": [
      " 13%|█▎        | 218/1730 [3:24:20<26:02:14, 61.99s/it]"
     ]
    },
    {
     "name": "stdout",
     "output_type": "stream",
     "text": [
      "finish save in vectore store: wy_demo_image_2\n",
      "sleep 60 sec\n",
      "(2298, 1368)\n",
      "resize image size: (800, 476)\n",
      "store image size: (480, 285)\n",
      "for_llm len: 52724\n",
      "max_tokens: 2048\n",
      "modelId: anthropic.claude-3-5-sonnet-20240620-v1:0\n",
      "temperature: 0.01\n",
      "language: english\n",
      "response: Brain cross-section, pathology comparison, multiple choice question, acute neurological conditions, cerebral imaging\n",
      "for_display len: 24604\n",
      "texts len: 1\n",
      "metadatas len: 1\n",
      "embeddings len: 1\n",
      "begin to save in vectore store\n"
     ]
    },
    {
     "name": "stderr",
     "output_type": "stream",
     "text": [
      " 13%|█▎        | 219/1730 [3:25:23<26:03:19, 62.08s/it]"
     ]
    },
    {
     "name": "stdout",
     "output_type": "stream",
     "text": [
      "finish save in vectore store: wy_demo_image_2\n",
      "sleep 60 sec\n",
      "(2328, 1072)\n",
      "resize image size: (800, 368)\n",
      "store image size: (480, 221)\n",
      "for_llm len: 27776\n",
      "max_tokens: 2048\n",
      "modelId: anthropic.claude-3-5-sonnet-20240620-v1:0\n",
      "temperature: 0.01\n",
      "language: english\n",
      "response: brain scan, atrophy, multiple choice question, neurological diagnosis, medical imaging\n",
      "for_display len: 12636\n",
      "texts len: 1\n",
      "metadatas len: 1\n",
      "embeddings len: 1\n",
      "begin to save in vectore store\n"
     ]
    },
    {
     "name": "stderr",
     "output_type": "stream",
     "text": [
      " 13%|█▎        | 220/1730 [3:26:24<26:00:14, 62.00s/it]"
     ]
    },
    {
     "name": "stdout",
     "output_type": "stream",
     "text": [
      "finish save in vectore store: wy_demo_image_2\n",
      "sleep 60 sec\n",
      "(2454, 1022)\n",
      "resize image size: (800, 333)\n",
      "store image size: (480, 199)\n",
      "for_llm len: 26256\n",
      "max_tokens: 2048\n",
      "modelId: anthropic.claude-3-5-sonnet-20240620-v1:0\n",
      "temperature: 0.01\n",
      "language: english\n",
      "response: JFK portrait, black and white photos, AI image generation, multiple choice question\n",
      "for_display len: 13220\n",
      "texts len: 1\n",
      "metadatas len: 1\n",
      "embeddings len: 1\n",
      "begin to save in vectore store\n"
     ]
    },
    {
     "name": "stderr",
     "output_type": "stream",
     "text": [
      " 13%|█▎        | 221/1730 [3:27:26<25:56:28, 61.89s/it]"
     ]
    },
    {
     "name": "stdout",
     "output_type": "stream",
     "text": [
      "finish save in vectore store: wy_demo_image_2\n",
      "sleep 60 sec\n",
      "(2376, 1480)\n",
      "resize image size: (800, 498)\n",
      "store image size: (480, 298)\n",
      "for_llm len: 45468\n",
      "max_tokens: 2048\n",
      "modelId: anthropic.claude-3-5-sonnet-20240620-v1:0\n",
      "temperature: 0.01\n",
      "language: english\n",
      "response: periventricular leukomalacia, brain scan, developmental stages, infant pathology, medical question, multiple choice\n",
      "for_display len: 21584\n",
      "texts len: 1\n",
      "metadatas len: 1\n",
      "embeddings len: 1\n",
      "begin to save in vectore store\n"
     ]
    },
    {
     "name": "stderr",
     "output_type": "stream",
     "text": [
      " 13%|█▎        | 222/1730 [3:28:28<25:58:50, 62.02s/it]"
     ]
    },
    {
     "name": "stdout",
     "output_type": "stream",
     "text": [
      "finish save in vectore store: wy_demo_image_2\n",
      "sleep 60 sec\n",
      "(2360, 1692)\n",
      "resize image size: (800, 573)\n",
      "store image size: (480, 344)\n",
      "for_llm len: 76656\n",
      "max_tokens: 2048\n",
      "modelId: anthropic.claude-3-5-sonnet-20240620-v1:0\n",
      "temperature: 0.01\n",
      "language: english\n",
      "response: The Baptism of Christ, Renaissance painting, religious art, biblical scene\n",
      "for_display len: 35784\n",
      "texts len: 1\n",
      "metadatas len: 1\n",
      "embeddings len: 1\n",
      "begin to save in vectore store\n"
     ]
    },
    {
     "name": "stderr",
     "output_type": "stream",
     "text": [
      " 13%|█▎        | 223/1730 [3:29:30<25:56:37, 61.98s/it]"
     ]
    },
    {
     "name": "stdout",
     "output_type": "stream",
     "text": [
      "finish save in vectore store: wy_demo_image_2\n",
      "sleep 60 sec\n",
      "(2298, 1420)\n",
      "resize image size: (800, 494)\n",
      "store image size: (480, 296)\n",
      "for_llm len: 29536\n",
      "max_tokens: 2048\n",
      "modelId: anthropic.claude-3-5-sonnet-20240620-v1:0\n",
      "temperature: 0.01\n",
      "language: english\n",
      "response: structural engineering, beam deflection, cantilever, problem solving, multiple choice, diagram, force calculation\n",
      "for_display len: 13496\n",
      "texts len: 1\n",
      "metadatas len: 1\n",
      "embeddings len: 1\n",
      "begin to save in vectore store\n"
     ]
    },
    {
     "name": "stderr",
     "output_type": "stream",
     "text": [
      " 13%|█▎        | 224/1730 [3:30:32<25:54:44, 61.94s/it]"
     ]
    },
    {
     "name": "stdout",
     "output_type": "stream",
     "text": [
      "finish save in vectore store: wy_demo_image_2\n",
      "sleep 60 sec\n",
      "(2252, 2236)\n",
      "resize image size: (800, 794)\n",
      "store image size: (480, 476)\n",
      "for_llm len: 120948\n",
      "max_tokens: 2048\n",
      "modelId: anthropic.claude-3-5-sonnet-20240620-v1:0\n",
      "temperature: 0.01\n",
      "language: english\n",
      "response: rat experiment, green button, food pellet, wait time, reinforcement, behavioral psychology, graph, trial number, button presses\n",
      "for_display len: 56452\n",
      "texts len: 1\n",
      "metadatas len: 1\n",
      "embeddings len: 1\n",
      "begin to save in vectore store\n"
     ]
    },
    {
     "name": "stderr",
     "output_type": "stream",
     "text": [
      " 13%|█▎        | 225/1730 [3:31:35<25:57:30, 62.09s/it]"
     ]
    },
    {
     "name": "stdout",
     "output_type": "stream",
     "text": [
      "finish save in vectore store: wy_demo_image_2\n",
      "sleep 60 sec\n",
      "(1280, 960)\n",
      "resize image size: (800, 600)\n",
      "store image size: (480, 360)\n",
      "for_llm len: 64232\n",
      "max_tokens: 2048\n",
      "modelId: anthropic.claude-3-5-sonnet-20240620-v1:0\n",
      "temperature: 0.01\n",
      "language: english\n",
      "response: literary device, text and illustration, different stories, Rosie's Walk, cat illustration, multiple choice question, juxtaposition, metaphor, paradox, allegory, contrast, reasoning, satire, printmaking, irony, counterpoint\n",
      "for_display len: 25928\n",
      "texts len: 1\n",
      "metadatas len: 1\n",
      "embeddings len: 1\n",
      "begin to save in vectore store\n"
     ]
    },
    {
     "name": "stderr",
     "output_type": "stream",
     "text": [
      " 13%|█▎        | 226/1730 [3:32:37<26:01:44, 62.30s/it]"
     ]
    },
    {
     "name": "stdout",
     "output_type": "stream",
     "text": [
      "finish save in vectore store: wy_demo_image_2\n",
      "sleep 60 sec\n"
     ]
    }
   ],
   "source": [
    "import sys\n",
    "sys.path.append(r\"./python\")\n",
    "\n",
    "from tqdm import tqdm\n",
    "import fitz\n",
    "from PIL import Image\n",
    "import numpy as np\n",
    "import base64\n",
    "from opensearch_multimodel_dataload import add_multimodel_documents\n",
    "import re\n",
    "import os\n",
    "import time\n",
    "\n",
    "model_name = \"anthropic.claude-3-5-sonnet-20240620-v1:0\"\n",
    "# model_name = \"anthropic.claude-3-sonnet-20240229-v1:0\"\n",
    "llm = init_model_bedrock(model_name)\n",
    "text_max_length = 2000\n",
    "\n",
    "prompt = \"\"\"\n",
    "brief the key search terms of the image. \n",
    "Keep the key search terms as simple as possible\n",
    "No preface, just output the key search terms directly.\n",
    "\"\"\"\n",
    "llm_max_size = 800\n",
    "display_max_size = 480\n",
    "\n",
    "texts = []\n",
    "metadatas = []\n",
    "\n",
    "for i in tqdm(range(len(dataset))):\n",
    "    if i < 21:\n",
    "        continue\n",
    "    print('sleep 60 sec')\n",
    "    time.sleep(60)\n",
    "    image = dataset[i]['image']\n",
    "    image_id = dataset[i]['id']\n",
    "    answer = dataset[i]['answer']\n",
    "    subject = dataset[i]['subject']\n",
    "    \n",
    "    print(image.size)\n",
    "    if image.size[0] > llm_max_size:\n",
    "        image_for_llm = image.resize((llm_max_size,int(image.size[1]*llm_max_size / image.size[0])))\n",
    "        print('resize image size:',image_for_llm.size)\n",
    "    else:\n",
    "        image_for_llm = image\n",
    "    rgb_im = image_for_llm.convert('RGB')\n",
    "    rgb_im.save('for_llm.jpg')\n",
    "    \n",
    "    if image.size[0] > display_max_size:\n",
    "        image_for_display = image.resize((display_max_size,int(image.size[1]*display_max_size / image.size[0])))\n",
    "        print('store image size:',image_for_display.size)\n",
    "    else:\n",
    "        image_for_display = image\n",
    "    rgb_im = image_for_display.convert('RGB')\n",
    "    rgb_im.save('for_display.jpg')\n",
    "    \n",
    "    with open(\"for_llm.jpg\", \"rb\") as image_file:\n",
    "        image_bytes = image_file.read()\n",
    "        encoded_image = base64.b64encode(image_bytes).decode(\"utf-8\")\n",
    "        print('for_llm len:',len(encoded_image))\n",
    "        model_kwargs = {'image': encoded_image,'max_tokens':2048,'language':'english'}\n",
    "        llm.model_kwargs = model_kwargs\n",
    "        response = llm(prompt=prompt)\n",
    "        response = response.strip()\n",
    "        texts.append(response)\n",
    "        print('response:',response)\n",
    "    \n",
    "    \n",
    "    with open(\"for_display.jpg\", \"rb\") as image_file:\n",
    "        image_bytes = image_file.read()\n",
    "        encoded_image = base64.b64encode(image_bytes).decode(\"utf-8\")\n",
    "        print('for_display len:',len(encoded_image))\n",
    "        base_64_head = 'data:image/jpg;base64,'\n",
    "        image_code = base_64_head + encoded_image\n",
    "        \n",
    "    metadata = {}\n",
    "    metadata['sentence'] = response[:text_max_length] if len(response) > text_max_length else response\n",
    "    metadata['id'] = image_id\n",
    "    metadata['answer'] = answer\n",
    "    metadata['subject'] = subject\n",
    "    metadata['image_code'] = image_code\n",
    "    metadatas.append(metadata)\n",
    "    os.remove('for_llm.jpg')\n",
    "    os.remove('for_display.jpg')\n",
    "    \n",
    "    if len(texts) > 0:\n",
    "        if embedding_type == 'bedrock':\n",
    "            text_embeddings = embeddings.embed_documents([metadata['sentence'] for metadata in metadatas])\n",
    "        else:\n",
    "            text_embeddings = embeddings.embed_documents([metadata['sentence'] for metadata in metadatas],chunk_size=10)\n",
    "\n",
    "        print('texts len:',len(texts))\n",
    "        print('metadatas len:',len(metadatas))\n",
    "        print('embeddings len:',len(text_embeddings))\n",
    "        print('begin to save in vectore store')\n",
    "        add_multimodel_documents(\n",
    "            index,\n",
    "            texts=texts,\n",
    "            embeddings=text_embeddings,\n",
    "            metadatas=metadatas\n",
    "        )\n",
    "        print('finish save in vectore store:',index)\n",
    "        texts = []\n",
    "        metadatas = []\n"
   ]
  },
  {
   "cell_type": "code",
   "execution_count": null,
   "id": "3c99dafa-a3e1-4e0c-a420-3a0c3b130e5e",
   "metadata": {},
   "outputs": [],
   "source": [
    "\n",
    "    "
   ]
  }
 ],
 "metadata": {
  "kernelspec": {
   "display_name": "conda_pytorch_p310",
   "language": "python",
   "name": "conda_pytorch_p310"
  },
  "language_info": {
   "codemirror_mode": {
    "name": "ipython",
    "version": 3
   },
   "file_extension": ".py",
   "mimetype": "text/x-python",
   "name": "python",
   "nbconvert_exporter": "python",
   "pygments_lexer": "ipython3",
   "version": "3.10.13"
  }
 },
 "nbformat": 4,
 "nbformat_minor": 5
}
